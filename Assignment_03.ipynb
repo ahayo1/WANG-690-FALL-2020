{
  "nbformat": 4,
  "nbformat_minor": 0,
  "metadata": {
    "colab": {
      "name": "Assignment-03.ipynb",
      "provenance": []
    },
    "kernelspec": {
      "name": "python3",
      "display_name": "Python 3"
    }
  },
  "cells": [
    {
      "cell_type": "markdown",
      "metadata": {
        "id": "YJZEStkvC38y",
        "colab_type": "text"
      },
      "source": [
        "## Assignment-03"
      ]
    },
    {
      "cell_type": "markdown",
      "metadata": {
        "id": "Uf_aojV8C_BI",
        "colab_type": "text"
      },
      "source": [
        "### The Problem\n",
        "\n",
        "Write a program that generates 100 random integers between 0 and 9.\n",
        "\n",
        "1. Print them in a 10x10 matrix neatly arranged (one space between each number)\n",
        "2. If the random number is an odd number, print \"@\" instead\n",
        "3. Calculate and print the total of each row. Sum should be at the end of each row, using \"*\" to separate the total number from the numbers in the row.\n",
        "4. Optional: Surround the matrix with astrisks."
      ]
    },
    {
      "cell_type": "markdown",
      "metadata": {
        "id": "LdTnSEqMD_5T",
        "colab_type": "text"
      },
      "source": [
        "### Generate Numbers\n",
        "Randomly Generate 100 integers between 0 and 9"
      ]
    },
    {
      "cell_type": "code",
      "metadata": {
        "id": "FzOUkmwjENSv",
        "colab_type": "code",
        "colab": {}
      },
      "source": [
        "import numpy as np\n",
        "\n",
        "# easily adjustable, if you want a different size matrix\n",
        "matrix_size = 10\n",
        "\n",
        "# create matrix/array with randomly generate integers b/w 0 and 9, size 10x10\n",
        "matrix = np.random.randint(10, size=(matrix_size,matrix_size))"
      ],
      "execution_count": 9,
      "outputs": []
    },
    {
      "cell_type": "code",
      "metadata": {
        "id": "NBNzGo04EzFt",
        "colab_type": "code",
        "colab": {
          "base_uri": "https://localhost:8080/",
          "height": 187
        },
        "outputId": "63035c3d-aa88-4bbb-dd39-7e619d995b81"
      },
      "source": [
        "matrix"
      ],
      "execution_count": 10,
      "outputs": [
        {
          "output_type": "execute_result",
          "data": {
            "text/plain": [
              "array([[8, 5, 6, 7, 8, 8, 1, 4, 5, 4],\n",
              "       [9, 5, 6, 8, 9, 1, 8, 5, 5, 7],\n",
              "       [0, 2, 7, 4, 1, 6, 8, 3, 0, 6],\n",
              "       [5, 0, 6, 6, 3, 4, 6, 2, 7, 4],\n",
              "       [5, 1, 4, 0, 6, 1, 9, 5, 6, 4],\n",
              "       [0, 4, 3, 2, 7, 7, 6, 3, 2, 5],\n",
              "       [8, 5, 8, 3, 8, 9, 6, 3, 1, 4],\n",
              "       [7, 1, 0, 4, 3, 5, 1, 2, 3, 3],\n",
              "       [4, 1, 6, 7, 4, 8, 1, 5, 7, 1],\n",
              "       [6, 8, 7, 5, 6, 5, 8, 9, 4, 6]])"
            ]
          },
          "metadata": {
            "tags": []
          },
          "execution_count": 10
        }
      ]
    },
    {
      "cell_type": "markdown",
      "metadata": {
        "id": "QUvTdE4tD0l0",
        "colab_type": "text"
      },
      "source": [
        "### Question 1\n",
        "Print them in a 10x10 matrix neatly arranged (one space between each number)"
      ]
    },
    {
      "cell_type": "code",
      "metadata": {
        "id": "oDotD1EgGHhO",
        "colab_type": "code",
        "colab": {
          "base_uri": "https://localhost:8080/",
          "height": 357
        },
        "outputId": "2c83c94d-450b-453c-ad39-1bc74ddd341f"
      },
      "source": [
        "for row in matrix:\n",
        "  for col in row:\n",
        "    # print each value in the row with a space\n",
        "    print(col, end=\" \")\n",
        "  # go to new line after going through each row\n",
        "  print(\"\\n\")"
      ],
      "execution_count": 15,
      "outputs": [
        {
          "output_type": "stream",
          "text": [
            "8 5 6 7 8 8 1 4 5 4 \n",
            "\n",
            "9 5 6 8 9 1 8 5 5 7 \n",
            "\n",
            "0 2 7 4 1 6 8 3 0 6 \n",
            "\n",
            "5 0 6 6 3 4 6 2 7 4 \n",
            "\n",
            "5 1 4 0 6 1 9 5 6 4 \n",
            "\n",
            "0 4 3 2 7 7 6 3 2 5 \n",
            "\n",
            "8 5 8 3 8 9 6 3 1 4 \n",
            "\n",
            "7 1 0 4 3 5 1 2 3 3 \n",
            "\n",
            "4 1 6 7 4 8 1 5 7 1 \n",
            "\n",
            "6 8 7 5 6 5 8 9 4 6 \n",
            "\n"
          ],
          "name": "stdout"
        }
      ]
    },
    {
      "cell_type": "markdown",
      "metadata": {
        "id": "WHYSLxeBGyRe",
        "colab_type": "text"
      },
      "source": [
        "### Question 2\n",
        "If the random number is an odd number, print \"@\" instead."
      ]
    },
    {
      "cell_type": "code",
      "metadata": {
        "id": "fjYk7wQRGPgn",
        "colab_type": "code",
        "colab": {
          "base_uri": "https://localhost:8080/",
          "height": 357
        },
        "outputId": "a03957ce-9d6b-4b8d-a203-296b8861a5a3"
      },
      "source": [
        "for row in matrix:\n",
        "  for col in row:\n",
        "    # check to see if the number is odd\n",
        "    # if it is an odd, print \"@\"\n",
        "    if col%2 == 1:\n",
        "      print(\"@\", end=\" \")\n",
        "    # if it is even, print the number\n",
        "    else:\n",
        "      print(col, end=\" \")\n",
        "  # go to new line after going through each row\n",
        "  print(\"\\n\")"
      ],
      "execution_count": 18,
      "outputs": [
        {
          "output_type": "stream",
          "text": [
            "8 @ 6 @ 8 8 @ 4 @ 4 \n",
            "\n",
            "@ @ 6 8 @ @ 8 @ @ @ \n",
            "\n",
            "0 2 @ 4 @ 6 8 @ 0 6 \n",
            "\n",
            "@ 0 6 6 @ 4 6 2 @ 4 \n",
            "\n",
            "@ @ 4 0 6 @ @ @ 6 4 \n",
            "\n",
            "0 4 @ 2 @ @ 6 @ 2 @ \n",
            "\n",
            "8 @ 8 @ 8 @ 6 @ @ 4 \n",
            "\n",
            "@ @ 0 4 @ @ @ 2 @ @ \n",
            "\n",
            "4 @ 6 @ 4 8 @ @ @ @ \n",
            "\n",
            "6 8 @ @ 6 @ 8 @ 4 6 \n",
            "\n"
          ],
          "name": "stdout"
        }
      ]
    },
    {
      "cell_type": "markdown",
      "metadata": {
        "id": "8ne_me7UHdjD",
        "colab_type": "text"
      },
      "source": [
        "### Question 3\n",
        "Calculate and print the total of each row. Sum should be at the end of each row, using \"*\" to separate the total number from the numbers in the row."
      ]
    },
    {
      "cell_type": "code",
      "metadata": {
        "id": "ccoyZDbeHI3d",
        "colab_type": "code",
        "colab": {
          "base_uri": "https://localhost:8080/",
          "height": 357
        },
        "outputId": "c680f643-c191-407d-e0e9-46f60756bb7d"
      },
      "source": [
        "for row in matrix:\n",
        "  for col in row:\n",
        "    # print each value in the row with a space\n",
        "    print(col, end=\" \")\n",
        "  \n",
        "  # get the sum of the row\n",
        "  sum_row = sum(row)\n",
        "  # format for end of row\n",
        "  end_row = \"* \" + str(sum_row)\n",
        "\n",
        "  # add end_row and then start new line\n",
        "  print(end_row,\"\\n\")"
      ],
      "execution_count": 19,
      "outputs": [
        {
          "output_type": "stream",
          "text": [
            "8 5 6 7 8 8 1 4 5 4 * 56 \n",
            "\n",
            "9 5 6 8 9 1 8 5 5 7 * 63 \n",
            "\n",
            "0 2 7 4 1 6 8 3 0 6 * 37 \n",
            "\n",
            "5 0 6 6 3 4 6 2 7 4 * 43 \n",
            "\n",
            "5 1 4 0 6 1 9 5 6 4 * 41 \n",
            "\n",
            "0 4 3 2 7 7 6 3 2 5 * 39 \n",
            "\n",
            "8 5 8 3 8 9 6 3 1 4 * 55 \n",
            "\n",
            "7 1 0 4 3 5 1 2 3 3 * 29 \n",
            "\n",
            "4 1 6 7 4 8 1 5 7 1 * 44 \n",
            "\n",
            "6 8 7 5 6 5 8 9 4 6 * 64 \n",
            "\n"
          ],
          "name": "stdout"
        }
      ]
    },
    {
      "cell_type": "markdown",
      "metadata": {
        "id": "qYGKJDrZIUD0",
        "colab_type": "text"
      },
      "source": [
        "### Question 4\n",
        "Optional: Surround the matrix with astrisks."
      ]
    },
    {
      "cell_type": "code",
      "metadata": {
        "id": "hOsteo7qIAk9",
        "colab_type": "code",
        "colab": {
          "base_uri": "https://localhost:8080/",
          "height": 391
        },
        "outputId": "4d8811de-a962-4801-c3b5-8cd609f94ac1"
      },
      "source": [
        "border = \"***********************\"\n",
        "\n",
        "print(border)\n",
        "\n",
        "for row in matrix:\n",
        "  print(\"*\", end=\" \")\n",
        "  for col in row:\n",
        "    # print each value in the row with a space\n",
        "    print(col, end=\" \")\n",
        "  # go to new line after going through each row\n",
        "  print(\"*\\n\")\n",
        "\n",
        "print(border)"
      ],
      "execution_count": 22,
      "outputs": [
        {
          "output_type": "stream",
          "text": [
            "***********************\n",
            "* 8 5 6 7 8 8 1 4 5 4 *\n",
            "\n",
            "* 9 5 6 8 9 1 8 5 5 7 *\n",
            "\n",
            "* 0 2 7 4 1 6 8 3 0 6 *\n",
            "\n",
            "* 5 0 6 6 3 4 6 2 7 4 *\n",
            "\n",
            "* 5 1 4 0 6 1 9 5 6 4 *\n",
            "\n",
            "* 0 4 3 2 7 7 6 3 2 5 *\n",
            "\n",
            "* 8 5 8 3 8 9 6 3 1 4 *\n",
            "\n",
            "* 7 1 0 4 3 5 1 2 3 3 *\n",
            "\n",
            "* 4 1 6 7 4 8 1 5 7 1 *\n",
            "\n",
            "* 6 8 7 5 6 5 8 9 4 6 *\n",
            "\n",
            "***********************\n"
          ],
          "name": "stdout"
        }
      ]
    },
    {
      "cell_type": "code",
      "metadata": {
        "id": "LNwDgqgRIouF",
        "colab_type": "code",
        "colab": {}
      },
      "source": [
        ""
      ],
      "execution_count": null,
      "outputs": []
    }
  ]
}