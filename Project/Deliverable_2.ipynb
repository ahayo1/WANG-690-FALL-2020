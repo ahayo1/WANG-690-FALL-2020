{
  "nbformat": 4,
  "nbformat_minor": 0,
  "metadata": {
    "colab": {
      "name": "Deliverable #2.ipynb",
      "provenance": [],
      "collapsed_sections": []
    },
    "kernelspec": {
      "name": "python3",
      "display_name": "Python 3"
    }
  },
  "cells": [
    {
      "cell_type": "markdown",
      "metadata": {
        "id": "Qf_fb_YB7328"
      },
      "source": [
        "# Deliverable #2 - Interim Work in Jupyter Notebook\n",
        "The interim deliverable allows the instructor to review your preliminary work and provide feedback.\n",
        "\n",
        "You will perform the loading, examination, and processing of the data using Pandas.\n",
        "\n",
        "You will perform descriptive analytics. Display number of observations (rows), variables (columns), summary statistics.\n",
        "\n",
        "You may produce some simple plots. This will help you get a feel of your data and inform your next step of analysis.\n",
        "\n",
        "You should submit a Jupyter Notebook with well-formatted documentation (in MArkdown cells) and Python comments (in code cells), Python code, and output (plots, charts).\n",
        "\n",
        "The project proposal will no longer be needed. All of part of its content should be incorporated in the Jupyter notebook.\n"
      ]
    },
    {
      "cell_type": "markdown",
      "metadata": {
        "id": "IMNoNDOI_1dh"
      },
      "source": [
        "## 1. Load the data"
      ]
    },
    {
      "cell_type": "code",
      "metadata": {
        "id": "hRnxSofW5zop"
      },
      "source": [
        "# Code to read csv file into Colaboratory:\n",
        "!pip install -U -q PyDrive\n",
        "from pydrive.auth import GoogleAuth\n",
        "from pydrive.drive import GoogleDrive\n",
        "from google.colab import auth\n",
        "from oauth2client.client import GoogleCredentials\n",
        "\n",
        "# Authenticate and create the PyDrive client.\n",
        "auth.authenticate_user()\n",
        "gauth = GoogleAuth()\n",
        "gauth.credentials = GoogleCredentials.get_application_default()\n",
        "drive = GoogleDrive(gauth)"
      ],
      "execution_count": 1,
      "outputs": []
    },
    {
      "cell_type": "code",
      "metadata": {
        "id": "Rf7_4I9U73oe",
        "outputId": "2ea2005b-4795-403a-94ec-122e62588e10",
        "colab": {
          "base_uri": "https://localhost:8080/",
          "height": 34
        }
      },
      "source": [
        "# shareable link\n",
        "link = 'https://drive.google.com/file/d/18hafY1YLpmQFoi2H-jahWnmdq3-8k-sz/view?usp=sharing'\n",
        "\n",
        "id = link.split('/')[5]\n",
        "print(id)"
      ],
      "execution_count": 2,
      "outputs": [
        {
          "output_type": "stream",
          "text": [
            "18hafY1YLpmQFoi2H-jahWnmdq3-8k-sz\n"
          ],
          "name": "stdout"
        }
      ]
    },
    {
      "cell_type": "code",
      "metadata": {
        "id": "l5TrsyS29mqQ"
      },
      "source": [
        "downloaded = drive.CreateFile({'id':'18hafY1YLpmQFoi2H-jahWnmdq3-8k-sz'}) \n",
        "downloaded.GetContentFile('crime.csv')  "
      ],
      "execution_count": 3,
      "outputs": []
    },
    {
      "cell_type": "code",
      "metadata": {
        "id": "NRJx6hzy9o8w"
      },
      "source": [
        "# import libraries\n",
        "import pandas as pd\n",
        "\n",
        "df = pd.read_csv('crime.csv', encoding='ISO-8859-1')"
      ],
      "execution_count": 4,
      "outputs": []
    },
    {
      "cell_type": "code",
      "metadata": {
        "id": "fP4Kfqxz_rWA",
        "outputId": "2d2396a5-6c68-41d1-f9f4-25b3b2fb00d1",
        "colab": {
          "base_uri": "https://localhost:8080/",
          "height": 292
        }
      },
      "source": [
        "df.head()"
      ],
      "execution_count": 5,
      "outputs": [
        {
          "output_type": "execute_result",
          "data": {
            "text/html": [
              "<div>\n",
              "<style scoped>\n",
              "    .dataframe tbody tr th:only-of-type {\n",
              "        vertical-align: middle;\n",
              "    }\n",
              "\n",
              "    .dataframe tbody tr th {\n",
              "        vertical-align: top;\n",
              "    }\n",
              "\n",
              "    .dataframe thead th {\n",
              "        text-align: right;\n",
              "    }\n",
              "</style>\n",
              "<table border=\"1\" class=\"dataframe\">\n",
              "  <thead>\n",
              "    <tr style=\"text-align: right;\">\n",
              "      <th></th>\n",
              "      <th>INCIDENT_ID</th>\n",
              "      <th>OFFENSE_ID</th>\n",
              "      <th>OFFENSE_CODE</th>\n",
              "      <th>OFFENSE_CODE_EXTENSION</th>\n",
              "      <th>OFFENSE_TYPE_ID</th>\n",
              "      <th>OFFENSE_CATEGORY_ID</th>\n",
              "      <th>FIRST_OCCURRENCE_DATE</th>\n",
              "      <th>LAST_OCCURRENCE_DATE</th>\n",
              "      <th>REPORTED_DATE</th>\n",
              "      <th>INCIDENT_ADDRESS</th>\n",
              "      <th>GEO_X</th>\n",
              "      <th>GEO_Y</th>\n",
              "      <th>GEO_LON</th>\n",
              "      <th>GEO_LAT</th>\n",
              "      <th>DISTRICT_ID</th>\n",
              "      <th>PRECINCT_ID</th>\n",
              "      <th>NEIGHBORHOOD_ID</th>\n",
              "      <th>IS_CRIME</th>\n",
              "      <th>IS_TRAFFIC</th>\n",
              "    </tr>\n",
              "  </thead>\n",
              "  <tbody>\n",
              "    <tr>\n",
              "      <th>0</th>\n",
              "      <td>2.018870e+09</td>\n",
              "      <td>2.018870e+15</td>\n",
              "      <td>2399</td>\n",
              "      <td>0</td>\n",
              "      <td>theft-other</td>\n",
              "      <td>larceny</td>\n",
              "      <td>12/27/2018 15:58</td>\n",
              "      <td>NaN</td>\n",
              "      <td>12/27/2018 16:51</td>\n",
              "      <td>2681 N HANOVER CT</td>\n",
              "      <td>3178210.0</td>\n",
              "      <td>1700715.0</td>\n",
              "      <td>-104.866156</td>\n",
              "      <td>39.755561</td>\n",
              "      <td>5</td>\n",
              "      <td>512</td>\n",
              "      <td>stapleton</td>\n",
              "      <td>1</td>\n",
              "      <td>0</td>\n",
              "    </tr>\n",
              "    <tr>\n",
              "      <th>1</th>\n",
              "      <td>2.015664e+09</td>\n",
              "      <td>2.015660e+15</td>\n",
              "      <td>5441</td>\n",
              "      <td>0</td>\n",
              "      <td>traffic-accident</td>\n",
              "      <td>traffic-accident</td>\n",
              "      <td>11/13/2015 7:45</td>\n",
              "      <td>NaN</td>\n",
              "      <td>11/13/2015 8:38</td>\n",
              "      <td>4100 BLOCK W COLFAX AVE</td>\n",
              "      <td>3129148.0</td>\n",
              "      <td>1694748.0</td>\n",
              "      <td>-105.040760</td>\n",
              "      <td>39.739991</td>\n",
              "      <td>1</td>\n",
              "      <td>122</td>\n",
              "      <td>west-colfax</td>\n",
              "      <td>0</td>\n",
              "      <td>1</td>\n",
              "    </tr>\n",
              "    <tr>\n",
              "      <th>2</th>\n",
              "      <td>2.017601e+10</td>\n",
              "      <td>2.017600e+16</td>\n",
              "      <td>2399</td>\n",
              "      <td>1</td>\n",
              "      <td>theft-bicycle</td>\n",
              "      <td>larceny</td>\n",
              "      <td>6/8/2017 13:15</td>\n",
              "      <td>6/8/2017 17:15</td>\n",
              "      <td>6/12/2017 8:44</td>\n",
              "      <td>1705 17TH ST</td>\n",
              "      <td>3140790.0</td>\n",
              "      <td>1699792.0</td>\n",
              "      <td>-104.999264</td>\n",
              "      <td>39.753669</td>\n",
              "      <td>6</td>\n",
              "      <td>612</td>\n",
              "      <td>union-station</td>\n",
              "      <td>1</td>\n",
              "      <td>0</td>\n",
              "    </tr>\n",
              "    <tr>\n",
              "      <th>3</th>\n",
              "      <td>2.019601e+10</td>\n",
              "      <td>2.019600e+16</td>\n",
              "      <td>2308</td>\n",
              "      <td>0</td>\n",
              "      <td>theft-from-bldg</td>\n",
              "      <td>larceny</td>\n",
              "      <td>12/7/2019 13:07</td>\n",
              "      <td>12/7/2019 18:30</td>\n",
              "      <td>12/9/2019 13:35</td>\n",
              "      <td>1350 N IRVING ST</td>\n",
              "      <td>3132400.0</td>\n",
              "      <td>1694088.0</td>\n",
              "      <td>-105.029208</td>\n",
              "      <td>39.738134</td>\n",
              "      <td>1</td>\n",
              "      <td>122</td>\n",
              "      <td>west-colfax</td>\n",
              "      <td>1</td>\n",
              "      <td>0</td>\n",
              "    </tr>\n",
              "    <tr>\n",
              "      <th>4</th>\n",
              "      <td>2.018862e+09</td>\n",
              "      <td>2.018860e+15</td>\n",
              "      <td>5016</td>\n",
              "      <td>0</td>\n",
              "      <td>violation-of-restraining-order</td>\n",
              "      <td>all-other-crimes</td>\n",
              "      <td>12/22/2018 20:15</td>\n",
              "      <td>12/22/2018 20:31</td>\n",
              "      <td>12/22/2018 22:00</td>\n",
              "      <td>13625 E RANDOLPH PL</td>\n",
              "      <td>3188580.0</td>\n",
              "      <td>1716158.0</td>\n",
              "      <td>-104.828868</td>\n",
              "      <td>39.797750</td>\n",
              "      <td>5</td>\n",
              "      <td>521</td>\n",
              "      <td>montbello</td>\n",
              "      <td>1</td>\n",
              "      <td>0</td>\n",
              "    </tr>\n",
              "  </tbody>\n",
              "</table>\n",
              "</div>"
            ],
            "text/plain": [
              "    INCIDENT_ID    OFFENSE_ID  ...  IS_CRIME  IS_TRAFFIC\n",
              "0  2.018870e+09  2.018870e+15  ...         1           0\n",
              "1  2.015664e+09  2.015660e+15  ...         0           1\n",
              "2  2.017601e+10  2.017600e+16  ...         1           0\n",
              "3  2.019601e+10  2.019600e+16  ...         1           0\n",
              "4  2.018862e+09  2.018860e+15  ...         1           0\n",
              "\n",
              "[5 rows x 19 columns]"
            ]
          },
          "metadata": {
            "tags": []
          },
          "execution_count": 5
        }
      ]
    },
    {
      "cell_type": "markdown",
      "metadata": {
        "id": "4oJuskd4ABdT"
      },
      "source": [
        "## 2. Examine/View the Data"
      ]
    },
    {
      "cell_type": "code",
      "metadata": {
        "id": "Kr5bHYju_7Ks",
        "outputId": "ae559b1b-8a0b-4c55-c8e5-b73ef62865b6",
        "colab": {
          "base_uri": "https://localhost:8080/",
          "height": 34
        }
      },
      "source": [
        "# display the number of rows and columns\n",
        "df.shape"
      ],
      "execution_count": 6,
      "outputs": [
        {
          "output_type": "execute_result",
          "data": {
            "text/plain": [
              "(520220, 19)"
            ]
          },
          "metadata": {
            "tags": []
          },
          "execution_count": 6
        }
      ]
    },
    {
      "cell_type": "markdown",
      "metadata": {
        "id": "DkxJ11fvAyHI"
      },
      "source": [
        "There are 520,220 rows and 19 columns."
      ]
    },
    {
      "cell_type": "code",
      "metadata": {
        "id": "f254jkl-AiOM",
        "outputId": "cdcb7830-0dab-4679-b80e-02c5b8b0b8fa",
        "colab": {
          "base_uri": "https://localhost:8080/",
          "height": 317
        }
      },
      "source": [
        "# look at a summary of the data\n",
        "df.describe()"
      ],
      "execution_count": 7,
      "outputs": [
        {
          "output_type": "execute_result",
          "data": {
            "text/html": [
              "<div>\n",
              "<style scoped>\n",
              "    .dataframe tbody tr th:only-of-type {\n",
              "        vertical-align: middle;\n",
              "    }\n",
              "\n",
              "    .dataframe tbody tr th {\n",
              "        vertical-align: top;\n",
              "    }\n",
              "\n",
              "    .dataframe thead th {\n",
              "        text-align: right;\n",
              "    }\n",
              "</style>\n",
              "<table border=\"1\" class=\"dataframe\">\n",
              "  <thead>\n",
              "    <tr style=\"text-align: right;\">\n",
              "      <th></th>\n",
              "      <th>INCIDENT_ID</th>\n",
              "      <th>OFFENSE_ID</th>\n",
              "      <th>OFFENSE_CODE</th>\n",
              "      <th>OFFENSE_CODE_EXTENSION</th>\n",
              "      <th>GEO_X</th>\n",
              "      <th>GEO_Y</th>\n",
              "      <th>GEO_LON</th>\n",
              "      <th>GEO_LAT</th>\n",
              "      <th>DISTRICT_ID</th>\n",
              "      <th>PRECINCT_ID</th>\n",
              "      <th>IS_CRIME</th>\n",
              "      <th>IS_TRAFFIC</th>\n",
              "    </tr>\n",
              "  </thead>\n",
              "  <tbody>\n",
              "    <tr>\n",
              "      <th>count</th>\n",
              "      <td>5.202200e+05</td>\n",
              "      <td>5.202200e+05</td>\n",
              "      <td>520220.000000</td>\n",
              "      <td>520220.000000</td>\n",
              "      <td>5.157260e+05</td>\n",
              "      <td>5.157260e+05</td>\n",
              "      <td>5.157260e+05</td>\n",
              "      <td>515726.000000</td>\n",
              "      <td>520220.000000</td>\n",
              "      <td>520220.000000</td>\n",
              "      <td>520220.000000</td>\n",
              "      <td>520220.000000</td>\n",
              "    </tr>\n",
              "    <tr>\n",
              "      <th>mean</th>\n",
              "      <td>4.052281e+09</td>\n",
              "      <td>4.052280e+15</td>\n",
              "      <td>3758.323465</td>\n",
              "      <td>0.205357</td>\n",
              "      <td>3.165117e+06</td>\n",
              "      <td>1.695630e+06</td>\n",
              "      <td>-1.049234e+02</td>\n",
              "      <td>39.718120</td>\n",
              "      <td>3.519067</td>\n",
              "      <td>369.451140</td>\n",
              "      <td>0.749316</td>\n",
              "      <td>0.251253</td>\n",
              "    </tr>\n",
              "    <tr>\n",
              "      <th>std</th>\n",
              "      <td>1.343402e+10</td>\n",
              "      <td>1.343402e+16</td>\n",
              "      <td>1652.792137</td>\n",
              "      <td>0.577347</td>\n",
              "      <td>7.202630e+05</td>\n",
              "      <td>1.771971e+05</td>\n",
              "      <td>2.015576e+00</td>\n",
              "      <td>0.763291</td>\n",
              "      <td>1.780415</td>\n",
              "      <td>178.824939</td>\n",
              "      <td>0.433407</td>\n",
              "      <td>0.433734</td>\n",
              "    </tr>\n",
              "    <tr>\n",
              "      <th>min</th>\n",
              "      <td>2.019600e+04</td>\n",
              "      <td>2.019652e+10</td>\n",
              "      <td>902.000000</td>\n",
              "      <td>0.000000</td>\n",
              "      <td>1.000000e+00</td>\n",
              "      <td>1.000000e+00</td>\n",
              "      <td>-1.154641e+02</td>\n",
              "      <td>0.000000</td>\n",
              "      <td>1.000000</td>\n",
              "      <td>111.000000</td>\n",
              "      <td>0.000000</td>\n",
              "      <td>0.000000</td>\n",
              "    </tr>\n",
              "    <tr>\n",
              "      <th>25%</th>\n",
              "      <td>2.016129e+09</td>\n",
              "      <td>2.016130e+15</td>\n",
              "      <td>2305.000000</td>\n",
              "      <td>0.000000</td>\n",
              "      <td>3.138718e+06</td>\n",
              "      <td>1.683216e+06</td>\n",
              "      <td>-1.050066e+02</td>\n",
              "      <td>39.707929</td>\n",
              "      <td>2.000000</td>\n",
              "      <td>221.000000</td>\n",
              "      <td>0.000000</td>\n",
              "      <td>0.000000</td>\n",
              "    </tr>\n",
              "    <tr>\n",
              "      <th>50%</th>\n",
              "      <td>2.017737e+09</td>\n",
              "      <td>2.017740e+15</td>\n",
              "      <td>3532.000000</td>\n",
              "      <td>0.000000</td>\n",
              "      <td>3.145625e+06</td>\n",
              "      <td>1.694794e+06</td>\n",
              "      <td>-1.049821e+02</td>\n",
              "      <td>39.739812</td>\n",
              "      <td>3.000000</td>\n",
              "      <td>323.000000</td>\n",
              "      <td>1.000000</td>\n",
              "      <td>0.000000</td>\n",
              "    </tr>\n",
              "    <tr>\n",
              "      <th>75%</th>\n",
              "      <td>2.019558e+09</td>\n",
              "      <td>2.019560e+15</td>\n",
              "      <td>5441.000000</td>\n",
              "      <td>0.000000</td>\n",
              "      <td>3.162438e+06</td>\n",
              "      <td>1.701859e+06</td>\n",
              "      <td>-1.049223e+02</td>\n",
              "      <td>39.759203</td>\n",
              "      <td>5.000000</td>\n",
              "      <td>521.000000</td>\n",
              "      <td>1.000000</td>\n",
              "      <td>1.000000</td>\n",
              "    </tr>\n",
              "    <tr>\n",
              "      <th>max</th>\n",
              "      <td>2.020890e+12</td>\n",
              "      <td>2.020890e+18</td>\n",
              "      <td>7399.000000</td>\n",
              "      <td>5.000000</td>\n",
              "      <td>4.067477e+07</td>\n",
              "      <td>1.141836e+07</td>\n",
              "      <td>5.000000e-07</td>\n",
              "      <td>39.904311</td>\n",
              "      <td>7.000000</td>\n",
              "      <td>759.000000</td>\n",
              "      <td>1.000000</td>\n",
              "      <td>1.000000</td>\n",
              "    </tr>\n",
              "  </tbody>\n",
              "</table>\n",
              "</div>"
            ],
            "text/plain": [
              "        INCIDENT_ID    OFFENSE_ID  ...       IS_CRIME     IS_TRAFFIC\n",
              "count  5.202200e+05  5.202200e+05  ...  520220.000000  520220.000000\n",
              "mean   4.052281e+09  4.052280e+15  ...       0.749316       0.251253\n",
              "std    1.343402e+10  1.343402e+16  ...       0.433407       0.433734\n",
              "min    2.019600e+04  2.019652e+10  ...       0.000000       0.000000\n",
              "25%    2.016129e+09  2.016130e+15  ...       0.000000       0.000000\n",
              "50%    2.017737e+09  2.017740e+15  ...       1.000000       0.000000\n",
              "75%    2.019558e+09  2.019560e+15  ...       1.000000       1.000000\n",
              "max    2.020890e+12  2.020890e+18  ...       1.000000       1.000000\n",
              "\n",
              "[8 rows x 12 columns]"
            ]
          },
          "metadata": {
            "tags": []
          },
          "execution_count": 7
        }
      ]
    },
    {
      "cell_type": "code",
      "metadata": {
        "id": "PEKZLOQdD4-w",
        "outputId": "18a02237-858c-40a5-a06e-3345877c1687",
        "colab": {
          "base_uri": "https://localhost:8080/",
          "height": 459
        }
      },
      "source": [
        "# get info of dataframe\n",
        "df.info()"
      ],
      "execution_count": 8,
      "outputs": [
        {
          "output_type": "stream",
          "text": [
            "<class 'pandas.core.frame.DataFrame'>\n",
            "RangeIndex: 520220 entries, 0 to 520219\n",
            "Data columns (total 19 columns):\n",
            " #   Column                  Non-Null Count   Dtype  \n",
            "---  ------                  --------------   -----  \n",
            " 0   INCIDENT_ID             520220 non-null  float64\n",
            " 1   OFFENSE_ID              520220 non-null  float64\n",
            " 2   OFFENSE_CODE            520220 non-null  int64  \n",
            " 3   OFFENSE_CODE_EXTENSION  520220 non-null  int64  \n",
            " 4   OFFENSE_TYPE_ID         520220 non-null  object \n",
            " 5   OFFENSE_CATEGORY_ID     520220 non-null  object \n",
            " 6   FIRST_OCCURRENCE_DATE   520220 non-null  object \n",
            " 7   LAST_OCCURRENCE_DATE    170318 non-null  object \n",
            " 8   REPORTED_DATE           520220 non-null  object \n",
            " 9   INCIDENT_ADDRESS        471864 non-null  object \n",
            " 10  GEO_X                   515726 non-null  float64\n",
            " 11  GEO_Y                   515726 non-null  float64\n",
            " 12  GEO_LON                 515726 non-null  float64\n",
            " 13  GEO_LAT                 515726 non-null  float64\n",
            " 14  DISTRICT_ID             520220 non-null  int64  \n",
            " 15  PRECINCT_ID             520220 non-null  int64  \n",
            " 16  NEIGHBORHOOD_ID         520220 non-null  object \n",
            " 17  IS_CRIME                520220 non-null  int64  \n",
            " 18  IS_TRAFFIC              520220 non-null  int64  \n",
            "dtypes: float64(6), int64(6), object(7)\n",
            "memory usage: 75.4+ MB\n"
          ],
          "name": "stdout"
        }
      ]
    },
    {
      "cell_type": "code",
      "metadata": {
        "id": "OeOWrmziA66J",
        "outputId": "35536370-2fdd-4785-be2e-3fa3b112fd66",
        "colab": {
          "base_uri": "https://localhost:8080/",
          "height": 292
        }
      },
      "source": [
        "# what are the first 5 rows\n",
        "df.head(5)"
      ],
      "execution_count": 9,
      "outputs": [
        {
          "output_type": "execute_result",
          "data": {
            "text/html": [
              "<div>\n",
              "<style scoped>\n",
              "    .dataframe tbody tr th:only-of-type {\n",
              "        vertical-align: middle;\n",
              "    }\n",
              "\n",
              "    .dataframe tbody tr th {\n",
              "        vertical-align: top;\n",
              "    }\n",
              "\n",
              "    .dataframe thead th {\n",
              "        text-align: right;\n",
              "    }\n",
              "</style>\n",
              "<table border=\"1\" class=\"dataframe\">\n",
              "  <thead>\n",
              "    <tr style=\"text-align: right;\">\n",
              "      <th></th>\n",
              "      <th>INCIDENT_ID</th>\n",
              "      <th>OFFENSE_ID</th>\n",
              "      <th>OFFENSE_CODE</th>\n",
              "      <th>OFFENSE_CODE_EXTENSION</th>\n",
              "      <th>OFFENSE_TYPE_ID</th>\n",
              "      <th>OFFENSE_CATEGORY_ID</th>\n",
              "      <th>FIRST_OCCURRENCE_DATE</th>\n",
              "      <th>LAST_OCCURRENCE_DATE</th>\n",
              "      <th>REPORTED_DATE</th>\n",
              "      <th>INCIDENT_ADDRESS</th>\n",
              "      <th>GEO_X</th>\n",
              "      <th>GEO_Y</th>\n",
              "      <th>GEO_LON</th>\n",
              "      <th>GEO_LAT</th>\n",
              "      <th>DISTRICT_ID</th>\n",
              "      <th>PRECINCT_ID</th>\n",
              "      <th>NEIGHBORHOOD_ID</th>\n",
              "      <th>IS_CRIME</th>\n",
              "      <th>IS_TRAFFIC</th>\n",
              "    </tr>\n",
              "  </thead>\n",
              "  <tbody>\n",
              "    <tr>\n",
              "      <th>0</th>\n",
              "      <td>2.018870e+09</td>\n",
              "      <td>2.018870e+15</td>\n",
              "      <td>2399</td>\n",
              "      <td>0</td>\n",
              "      <td>theft-other</td>\n",
              "      <td>larceny</td>\n",
              "      <td>12/27/2018 15:58</td>\n",
              "      <td>NaN</td>\n",
              "      <td>12/27/2018 16:51</td>\n",
              "      <td>2681 N HANOVER CT</td>\n",
              "      <td>3178210.0</td>\n",
              "      <td>1700715.0</td>\n",
              "      <td>-104.866156</td>\n",
              "      <td>39.755561</td>\n",
              "      <td>5</td>\n",
              "      <td>512</td>\n",
              "      <td>stapleton</td>\n",
              "      <td>1</td>\n",
              "      <td>0</td>\n",
              "    </tr>\n",
              "    <tr>\n",
              "      <th>1</th>\n",
              "      <td>2.015664e+09</td>\n",
              "      <td>2.015660e+15</td>\n",
              "      <td>5441</td>\n",
              "      <td>0</td>\n",
              "      <td>traffic-accident</td>\n",
              "      <td>traffic-accident</td>\n",
              "      <td>11/13/2015 7:45</td>\n",
              "      <td>NaN</td>\n",
              "      <td>11/13/2015 8:38</td>\n",
              "      <td>4100 BLOCK W COLFAX AVE</td>\n",
              "      <td>3129148.0</td>\n",
              "      <td>1694748.0</td>\n",
              "      <td>-105.040760</td>\n",
              "      <td>39.739991</td>\n",
              "      <td>1</td>\n",
              "      <td>122</td>\n",
              "      <td>west-colfax</td>\n",
              "      <td>0</td>\n",
              "      <td>1</td>\n",
              "    </tr>\n",
              "    <tr>\n",
              "      <th>2</th>\n",
              "      <td>2.017601e+10</td>\n",
              "      <td>2.017600e+16</td>\n",
              "      <td>2399</td>\n",
              "      <td>1</td>\n",
              "      <td>theft-bicycle</td>\n",
              "      <td>larceny</td>\n",
              "      <td>6/8/2017 13:15</td>\n",
              "      <td>6/8/2017 17:15</td>\n",
              "      <td>6/12/2017 8:44</td>\n",
              "      <td>1705 17TH ST</td>\n",
              "      <td>3140790.0</td>\n",
              "      <td>1699792.0</td>\n",
              "      <td>-104.999264</td>\n",
              "      <td>39.753669</td>\n",
              "      <td>6</td>\n",
              "      <td>612</td>\n",
              "      <td>union-station</td>\n",
              "      <td>1</td>\n",
              "      <td>0</td>\n",
              "    </tr>\n",
              "    <tr>\n",
              "      <th>3</th>\n",
              "      <td>2.019601e+10</td>\n",
              "      <td>2.019600e+16</td>\n",
              "      <td>2308</td>\n",
              "      <td>0</td>\n",
              "      <td>theft-from-bldg</td>\n",
              "      <td>larceny</td>\n",
              "      <td>12/7/2019 13:07</td>\n",
              "      <td>12/7/2019 18:30</td>\n",
              "      <td>12/9/2019 13:35</td>\n",
              "      <td>1350 N IRVING ST</td>\n",
              "      <td>3132400.0</td>\n",
              "      <td>1694088.0</td>\n",
              "      <td>-105.029208</td>\n",
              "      <td>39.738134</td>\n",
              "      <td>1</td>\n",
              "      <td>122</td>\n",
              "      <td>west-colfax</td>\n",
              "      <td>1</td>\n",
              "      <td>0</td>\n",
              "    </tr>\n",
              "    <tr>\n",
              "      <th>4</th>\n",
              "      <td>2.018862e+09</td>\n",
              "      <td>2.018860e+15</td>\n",
              "      <td>5016</td>\n",
              "      <td>0</td>\n",
              "      <td>violation-of-restraining-order</td>\n",
              "      <td>all-other-crimes</td>\n",
              "      <td>12/22/2018 20:15</td>\n",
              "      <td>12/22/2018 20:31</td>\n",
              "      <td>12/22/2018 22:00</td>\n",
              "      <td>13625 E RANDOLPH PL</td>\n",
              "      <td>3188580.0</td>\n",
              "      <td>1716158.0</td>\n",
              "      <td>-104.828868</td>\n",
              "      <td>39.797750</td>\n",
              "      <td>5</td>\n",
              "      <td>521</td>\n",
              "      <td>montbello</td>\n",
              "      <td>1</td>\n",
              "      <td>0</td>\n",
              "    </tr>\n",
              "  </tbody>\n",
              "</table>\n",
              "</div>"
            ],
            "text/plain": [
              "    INCIDENT_ID    OFFENSE_ID  ...  IS_CRIME  IS_TRAFFIC\n",
              "0  2.018870e+09  2.018870e+15  ...         1           0\n",
              "1  2.015664e+09  2.015660e+15  ...         0           1\n",
              "2  2.017601e+10  2.017600e+16  ...         1           0\n",
              "3  2.019601e+10  2.019600e+16  ...         1           0\n",
              "4  2.018862e+09  2.018860e+15  ...         1           0\n",
              "\n",
              "[5 rows x 19 columns]"
            ]
          },
          "metadata": {
            "tags": []
          },
          "execution_count": 9
        }
      ]
    },
    {
      "cell_type": "code",
      "metadata": {
        "id": "G_uQbCCjBO6R",
        "outputId": "8a3d988d-00e3-450c-aa71-58d75efa8377",
        "colab": {
          "base_uri": "https://localhost:8080/",
          "height": 309
        }
      },
      "source": [
        "# what are the last 5 rows\n",
        "df.tail(5)"
      ],
      "execution_count": 10,
      "outputs": [
        {
          "output_type": "execute_result",
          "data": {
            "text/html": [
              "<div>\n",
              "<style scoped>\n",
              "    .dataframe tbody tr th:only-of-type {\n",
              "        vertical-align: middle;\n",
              "    }\n",
              "\n",
              "    .dataframe tbody tr th {\n",
              "        vertical-align: top;\n",
              "    }\n",
              "\n",
              "    .dataframe thead th {\n",
              "        text-align: right;\n",
              "    }\n",
              "</style>\n",
              "<table border=\"1\" class=\"dataframe\">\n",
              "  <thead>\n",
              "    <tr style=\"text-align: right;\">\n",
              "      <th></th>\n",
              "      <th>INCIDENT_ID</th>\n",
              "      <th>OFFENSE_ID</th>\n",
              "      <th>OFFENSE_CODE</th>\n",
              "      <th>OFFENSE_CODE_EXTENSION</th>\n",
              "      <th>OFFENSE_TYPE_ID</th>\n",
              "      <th>OFFENSE_CATEGORY_ID</th>\n",
              "      <th>FIRST_OCCURRENCE_DATE</th>\n",
              "      <th>LAST_OCCURRENCE_DATE</th>\n",
              "      <th>REPORTED_DATE</th>\n",
              "      <th>INCIDENT_ADDRESS</th>\n",
              "      <th>GEO_X</th>\n",
              "      <th>GEO_Y</th>\n",
              "      <th>GEO_LON</th>\n",
              "      <th>GEO_LAT</th>\n",
              "      <th>DISTRICT_ID</th>\n",
              "      <th>PRECINCT_ID</th>\n",
              "      <th>NEIGHBORHOOD_ID</th>\n",
              "      <th>IS_CRIME</th>\n",
              "      <th>IS_TRAFFIC</th>\n",
              "    </tr>\n",
              "  </thead>\n",
              "  <tbody>\n",
              "    <tr>\n",
              "      <th>520215</th>\n",
              "      <td>2.020586e+09</td>\n",
              "      <td>2.020590e+15</td>\n",
              "      <td>1313</td>\n",
              "      <td>0</td>\n",
              "      <td>assault-simple</td>\n",
              "      <td>other-crimes-against-persons</td>\n",
              "      <td>9/30/2020 10:00</td>\n",
              "      <td>NaN</td>\n",
              "      <td>9/30/2020 11:26</td>\n",
              "      <td>8801 E MLK BLVD</td>\n",
              "      <td>3172894.0</td>\n",
              "      <td>1702787.0</td>\n",
              "      <td>-104.885013</td>\n",
              "      <td>39.761350</td>\n",
              "      <td>5</td>\n",
              "      <td>512</td>\n",
              "      <td>central-park</td>\n",
              "      <td>1</td>\n",
              "      <td>0</td>\n",
              "    </tr>\n",
              "    <tr>\n",
              "      <th>520216</th>\n",
              "      <td>2.020550e+09</td>\n",
              "      <td>2.020550e+15</td>\n",
              "      <td>1315</td>\n",
              "      <td>1</td>\n",
              "      <td>aggravated-assault-dv</td>\n",
              "      <td>aggravated-assault</td>\n",
              "      <td>9/12/2020 7:34</td>\n",
              "      <td>NaN</td>\n",
              "      <td>9/12/2020 7:34</td>\n",
              "      <td>5375 W 10TH AVE</td>\n",
              "      <td>3125094.0</td>\n",
              "      <td>1692507.0</td>\n",
              "      <td>-105.055214</td>\n",
              "      <td>39.733895</td>\n",
              "      <td>1</td>\n",
              "      <td>122</td>\n",
              "      <td>villa-park</td>\n",
              "      <td>1</td>\n",
              "      <td>0</td>\n",
              "    </tr>\n",
              "    <tr>\n",
              "      <th>520217</th>\n",
              "      <td>2.020601e+10</td>\n",
              "      <td>2.020600e+16</td>\n",
              "      <td>2304</td>\n",
              "      <td>0</td>\n",
              "      <td>theft-parts-from-vehicle</td>\n",
              "      <td>theft-from-motor-vehicle</td>\n",
              "      <td>9/12/2020 14:45</td>\n",
              "      <td>9/12/2020 14:45</td>\n",
              "      <td>9/12/2020 14:57</td>\n",
              "      <td>902 27TH ST</td>\n",
              "      <td>3145983.0</td>\n",
              "      <td>1700959.0</td>\n",
              "      <td>-104.980771</td>\n",
              "      <td>39.756793</td>\n",
              "      <td>2</td>\n",
              "      <td>211</td>\n",
              "      <td>five-points</td>\n",
              "      <td>1</td>\n",
              "      <td>0</td>\n",
              "    </tr>\n",
              "    <tr>\n",
              "      <th>520218</th>\n",
              "      <td>2.020582e+09</td>\n",
              "      <td>2.020580e+15</td>\n",
              "      <td>5707</td>\n",
              "      <td>0</td>\n",
              "      <td>criminal-trespassing</td>\n",
              "      <td>all-other-crimes</td>\n",
              "      <td>9/28/2020 17:59</td>\n",
              "      <td>NaN</td>\n",
              "      <td>9/28/2020 17:59</td>\n",
              "      <td>1201 5TH ST</td>\n",
              "      <td>3137809.0</td>\n",
              "      <td>1695270.0</td>\n",
              "      <td>-105.009952</td>\n",
              "      <td>39.741300</td>\n",
              "      <td>1</td>\n",
              "      <td>123</td>\n",
              "      <td>auraria</td>\n",
              "      <td>1</td>\n",
              "      <td>0</td>\n",
              "    </tr>\n",
              "    <tr>\n",
              "      <th>520219</th>\n",
              "      <td>2.020601e+10</td>\n",
              "      <td>2.020600e+16</td>\n",
              "      <td>2305</td>\n",
              "      <td>0</td>\n",
              "      <td>theft-items-from-vehicle</td>\n",
              "      <td>theft-from-motor-vehicle</td>\n",
              "      <td>9/26/2020 4:00</td>\n",
              "      <td>9/26/2020 5:00</td>\n",
              "      <td>9/26/2020 16:56</td>\n",
              "      <td>8200 BLK E 8TH AVE</td>\n",
              "      <td>3170620.0</td>\n",
              "      <td>1690662.0</td>\n",
              "      <td>-104.893389</td>\n",
              "      <td>39.728107</td>\n",
              "      <td>3</td>\n",
              "      <td>321</td>\n",
              "      <td>lowry-field</td>\n",
              "      <td>1</td>\n",
              "      <td>0</td>\n",
              "    </tr>\n",
              "  </tbody>\n",
              "</table>\n",
              "</div>"
            ],
            "text/plain": [
              "         INCIDENT_ID    OFFENSE_ID  ...  IS_CRIME  IS_TRAFFIC\n",
              "520215  2.020586e+09  2.020590e+15  ...         1           0\n",
              "520216  2.020550e+09  2.020550e+15  ...         1           0\n",
              "520217  2.020601e+10  2.020600e+16  ...         1           0\n",
              "520218  2.020582e+09  2.020580e+15  ...         1           0\n",
              "520219  2.020601e+10  2.020600e+16  ...         1           0\n",
              "\n",
              "[5 rows x 19 columns]"
            ]
          },
          "metadata": {
            "tags": []
          },
          "execution_count": 10
        }
      ]
    },
    {
      "cell_type": "code",
      "metadata": {
        "id": "MBrW10wNBSAR",
        "outputId": "a260e795-044e-4990-97da-cd1afddc272c",
        "colab": {
          "base_uri": "https://localhost:8080/",
          "height": 326
        }
      },
      "source": [
        "# 5 random rows\n",
        "df.sample(5)"
      ],
      "execution_count": 11,
      "outputs": [
        {
          "output_type": "execute_result",
          "data": {
            "text/html": [
              "<div>\n",
              "<style scoped>\n",
              "    .dataframe tbody tr th:only-of-type {\n",
              "        vertical-align: middle;\n",
              "    }\n",
              "\n",
              "    .dataframe tbody tr th {\n",
              "        vertical-align: top;\n",
              "    }\n",
              "\n",
              "    .dataframe thead th {\n",
              "        text-align: right;\n",
              "    }\n",
              "</style>\n",
              "<table border=\"1\" class=\"dataframe\">\n",
              "  <thead>\n",
              "    <tr style=\"text-align: right;\">\n",
              "      <th></th>\n",
              "      <th>INCIDENT_ID</th>\n",
              "      <th>OFFENSE_ID</th>\n",
              "      <th>OFFENSE_CODE</th>\n",
              "      <th>OFFENSE_CODE_EXTENSION</th>\n",
              "      <th>OFFENSE_TYPE_ID</th>\n",
              "      <th>OFFENSE_CATEGORY_ID</th>\n",
              "      <th>FIRST_OCCURRENCE_DATE</th>\n",
              "      <th>LAST_OCCURRENCE_DATE</th>\n",
              "      <th>REPORTED_DATE</th>\n",
              "      <th>INCIDENT_ADDRESS</th>\n",
              "      <th>GEO_X</th>\n",
              "      <th>GEO_Y</th>\n",
              "      <th>GEO_LON</th>\n",
              "      <th>GEO_LAT</th>\n",
              "      <th>DISTRICT_ID</th>\n",
              "      <th>PRECINCT_ID</th>\n",
              "      <th>NEIGHBORHOOD_ID</th>\n",
              "      <th>IS_CRIME</th>\n",
              "      <th>IS_TRAFFIC</th>\n",
              "    </tr>\n",
              "  </thead>\n",
              "  <tbody>\n",
              "    <tr>\n",
              "      <th>398004</th>\n",
              "      <td>2.020770e+08</td>\n",
              "      <td>2.020770e+14</td>\n",
              "      <td>2999</td>\n",
              "      <td>0</td>\n",
              "      <td>criminal-mischief-other</td>\n",
              "      <td>public-disorder</td>\n",
              "      <td>2/4/2020 2:00</td>\n",
              "      <td>2/4/2020 5:30</td>\n",
              "      <td>2/4/2020 8:49</td>\n",
              "      <td>3440 PARK AVEW</td>\n",
              "      <td>3142134.0</td>\n",
              "      <td>1703806.0</td>\n",
              "      <td>-104.994404</td>\n",
              "      <td>39.764668</td>\n",
              "      <td>1</td>\n",
              "      <td>112</td>\n",
              "      <td>globeville</td>\n",
              "      <td>1</td>\n",
              "      <td>0</td>\n",
              "    </tr>\n",
              "    <tr>\n",
              "      <th>37625</th>\n",
              "      <td>2.015600e+10</td>\n",
              "      <td>2.015600e+16</td>\n",
              "      <td>2304</td>\n",
              "      <td>0</td>\n",
              "      <td>theft-parts-from-vehicle</td>\n",
              "      <td>theft-from-motor-vehicle</td>\n",
              "      <td>2/9/2015 11:55</td>\n",
              "      <td>2/9/2015 11:55</td>\n",
              "      <td>2/9/2015 12:23</td>\n",
              "      <td>4200 MORRISON RD</td>\n",
              "      <td>3128891.0</td>\n",
              "      <td>1681761.0</td>\n",
              "      <td>-105.041906</td>\n",
              "      <td>39.704343</td>\n",
              "      <td>4</td>\n",
              "      <td>412</td>\n",
              "      <td>westwood</td>\n",
              "      <td>1</td>\n",
              "      <td>0</td>\n",
              "    </tr>\n",
              "    <tr>\n",
              "      <th>433132</th>\n",
              "      <td>2.017640e+09</td>\n",
              "      <td>2.017640e+15</td>\n",
              "      <td>2204</td>\n",
              "      <td>0</td>\n",
              "      <td>burglary-residence-no-force</td>\n",
              "      <td>burglary</td>\n",
              "      <td>9/23/2017 1:30</td>\n",
              "      <td>9/23/2017 10:00</td>\n",
              "      <td>9/23/2017 13:06</td>\n",
              "      <td>3328 S DAYTON CT</td>\n",
              "      <td>3176186.0</td>\n",
              "      <td>1664553.0</td>\n",
              "      <td>-104.874240</td>\n",
              "      <td>39.656328</td>\n",
              "      <td>3</td>\n",
              "      <td>323</td>\n",
              "      <td>hampden</td>\n",
              "      <td>1</td>\n",
              "      <td>0</td>\n",
              "    </tr>\n",
              "    <tr>\n",
              "      <th>358510</th>\n",
              "      <td>2.018600e+10</td>\n",
              "      <td>2.018600e+16</td>\n",
              "      <td>2308</td>\n",
              "      <td>0</td>\n",
              "      <td>theft-from-bldg</td>\n",
              "      <td>larceny</td>\n",
              "      <td>5/5/2018 22:35</td>\n",
              "      <td>5/5/2018 23:15</td>\n",
              "      <td>5/6/2018 13:05</td>\n",
              "      <td>1539 S BROADWAY ST</td>\n",
              "      <td>3144119.0</td>\n",
              "      <td>1676130.0</td>\n",
              "      <td>-104.987898</td>\n",
              "      <td>39.688661</td>\n",
              "      <td>3</td>\n",
              "      <td>313</td>\n",
              "      <td>overland</td>\n",
              "      <td>1</td>\n",
              "      <td>0</td>\n",
              "    </tr>\n",
              "    <tr>\n",
              "      <th>154358</th>\n",
              "      <td>2.019818e+09</td>\n",
              "      <td>2.019820e+15</td>\n",
              "      <td>2404</td>\n",
              "      <td>0</td>\n",
              "      <td>theft-of-motor-vehicle</td>\n",
              "      <td>auto-theft</td>\n",
              "      <td>12/30/2019 5:40</td>\n",
              "      <td>NaN</td>\n",
              "      <td>12/30/2019 6:24</td>\n",
              "      <td>1800 BLK S WOLFF ST</td>\n",
              "      <td>3127139.0</td>\n",
              "      <td>1673778.0</td>\n",
              "      <td>-105.048274</td>\n",
              "      <td>39.682452</td>\n",
              "      <td>4</td>\n",
              "      <td>421</td>\n",
              "      <td>mar-lee</td>\n",
              "      <td>1</td>\n",
              "      <td>0</td>\n",
              "    </tr>\n",
              "  </tbody>\n",
              "</table>\n",
              "</div>"
            ],
            "text/plain": [
              "         INCIDENT_ID    OFFENSE_ID  ...  IS_CRIME  IS_TRAFFIC\n",
              "398004  2.020770e+08  2.020770e+14  ...         1           0\n",
              "37625   2.015600e+10  2.015600e+16  ...         1           0\n",
              "433132  2.017640e+09  2.017640e+15  ...         1           0\n",
              "358510  2.018600e+10  2.018600e+16  ...         1           0\n",
              "154358  2.019818e+09  2.019820e+15  ...         1           0\n",
              "\n",
              "[5 rows x 19 columns]"
            ]
          },
          "metadata": {
            "tags": []
          },
          "execution_count": 11
        }
      ]
    },
    {
      "cell_type": "markdown",
      "metadata": {
        "id": "HqY6YFivB5F-"
      },
      "source": [
        "## 3. Process the Data"
      ]
    },
    {
      "cell_type": "markdown",
      "metadata": {
        "id": "U99KWoebB7zM"
      },
      "source": [
        "### 3.1 Pull out Day, Month, Year, and Time"
      ]
    },
    {
      "cell_type": "markdown",
      "metadata": {
        "id": "ZobKJSNHCKlw"
      },
      "source": [
        "Going to use the **FIRST_OCCURENCE_DATE** as my date and time for the crimes."
      ]
    },
    {
      "cell_type": "code",
      "metadata": {
        "id": "tWzyv40KDl7Y"
      },
      "source": [
        "df['year'] = pd.DatetimeIndex(df['FIRST_OCCURRENCE_DATE']).year\n",
        "df['month'] = pd.DatetimeIndex(df['FIRST_OCCURRENCE_DATE']).month\n",
        "df['day'] = pd.DatetimeIndex(df['FIRST_OCCURRENCE_DATE']).day\n",
        "df['time'] = pd.DatetimeIndex(df['FIRST_OCCURRENCE_DATE']).time"
      ],
      "execution_count": 12,
      "outputs": []
    },
    {
      "cell_type": "code",
      "metadata": {
        "id": "geEvG5KkGB6T"
      },
      "source": [
        "# Monday = 0, Sunday = 6\n",
        "df['day_of_week'] = pd.DatetimeIndex(df['FIRST_OCCURRENCE_DATE']).dayofweek"
      ],
      "execution_count": 13,
      "outputs": []
    },
    {
      "cell_type": "code",
      "metadata": {
        "id": "FZKjlETFTmMf"
      },
      "source": [
        "df['date'] = pd.DatetimeIndex(df['FIRST_OCCURRENCE_DATE']).date"
      ],
      "execution_count": 14,
      "outputs": []
    },
    {
      "cell_type": "code",
      "metadata": {
        "id": "o2Beb3aOGl1r",
        "outputId": "6188679b-90fa-4677-8628-da1513366f8c",
        "colab": {
          "base_uri": "https://localhost:8080/",
          "height": 309
        }
      },
      "source": [
        "df.head()"
      ],
      "execution_count": 15,
      "outputs": [
        {
          "output_type": "execute_result",
          "data": {
            "text/html": [
              "<div>\n",
              "<style scoped>\n",
              "    .dataframe tbody tr th:only-of-type {\n",
              "        vertical-align: middle;\n",
              "    }\n",
              "\n",
              "    .dataframe tbody tr th {\n",
              "        vertical-align: top;\n",
              "    }\n",
              "\n",
              "    .dataframe thead th {\n",
              "        text-align: right;\n",
              "    }\n",
              "</style>\n",
              "<table border=\"1\" class=\"dataframe\">\n",
              "  <thead>\n",
              "    <tr style=\"text-align: right;\">\n",
              "      <th></th>\n",
              "      <th>INCIDENT_ID</th>\n",
              "      <th>OFFENSE_ID</th>\n",
              "      <th>OFFENSE_CODE</th>\n",
              "      <th>OFFENSE_CODE_EXTENSION</th>\n",
              "      <th>OFFENSE_TYPE_ID</th>\n",
              "      <th>OFFENSE_CATEGORY_ID</th>\n",
              "      <th>FIRST_OCCURRENCE_DATE</th>\n",
              "      <th>LAST_OCCURRENCE_DATE</th>\n",
              "      <th>REPORTED_DATE</th>\n",
              "      <th>INCIDENT_ADDRESS</th>\n",
              "      <th>GEO_X</th>\n",
              "      <th>GEO_Y</th>\n",
              "      <th>GEO_LON</th>\n",
              "      <th>GEO_LAT</th>\n",
              "      <th>DISTRICT_ID</th>\n",
              "      <th>PRECINCT_ID</th>\n",
              "      <th>NEIGHBORHOOD_ID</th>\n",
              "      <th>IS_CRIME</th>\n",
              "      <th>IS_TRAFFIC</th>\n",
              "      <th>year</th>\n",
              "      <th>month</th>\n",
              "      <th>day</th>\n",
              "      <th>time</th>\n",
              "      <th>day_of_week</th>\n",
              "      <th>date</th>\n",
              "    </tr>\n",
              "  </thead>\n",
              "  <tbody>\n",
              "    <tr>\n",
              "      <th>0</th>\n",
              "      <td>2.018870e+09</td>\n",
              "      <td>2.018870e+15</td>\n",
              "      <td>2399</td>\n",
              "      <td>0</td>\n",
              "      <td>theft-other</td>\n",
              "      <td>larceny</td>\n",
              "      <td>12/27/2018 15:58</td>\n",
              "      <td>NaN</td>\n",
              "      <td>12/27/2018 16:51</td>\n",
              "      <td>2681 N HANOVER CT</td>\n",
              "      <td>3178210.0</td>\n",
              "      <td>1700715.0</td>\n",
              "      <td>-104.866156</td>\n",
              "      <td>39.755561</td>\n",
              "      <td>5</td>\n",
              "      <td>512</td>\n",
              "      <td>stapleton</td>\n",
              "      <td>1</td>\n",
              "      <td>0</td>\n",
              "      <td>2018</td>\n",
              "      <td>12</td>\n",
              "      <td>27</td>\n",
              "      <td>15:58:00</td>\n",
              "      <td>3</td>\n",
              "      <td>2018-12-27</td>\n",
              "    </tr>\n",
              "    <tr>\n",
              "      <th>1</th>\n",
              "      <td>2.015664e+09</td>\n",
              "      <td>2.015660e+15</td>\n",
              "      <td>5441</td>\n",
              "      <td>0</td>\n",
              "      <td>traffic-accident</td>\n",
              "      <td>traffic-accident</td>\n",
              "      <td>11/13/2015 7:45</td>\n",
              "      <td>NaN</td>\n",
              "      <td>11/13/2015 8:38</td>\n",
              "      <td>4100 BLOCK W COLFAX AVE</td>\n",
              "      <td>3129148.0</td>\n",
              "      <td>1694748.0</td>\n",
              "      <td>-105.040760</td>\n",
              "      <td>39.739991</td>\n",
              "      <td>1</td>\n",
              "      <td>122</td>\n",
              "      <td>west-colfax</td>\n",
              "      <td>0</td>\n",
              "      <td>1</td>\n",
              "      <td>2015</td>\n",
              "      <td>11</td>\n",
              "      <td>13</td>\n",
              "      <td>07:45:00</td>\n",
              "      <td>4</td>\n",
              "      <td>2015-11-13</td>\n",
              "    </tr>\n",
              "    <tr>\n",
              "      <th>2</th>\n",
              "      <td>2.017601e+10</td>\n",
              "      <td>2.017600e+16</td>\n",
              "      <td>2399</td>\n",
              "      <td>1</td>\n",
              "      <td>theft-bicycle</td>\n",
              "      <td>larceny</td>\n",
              "      <td>6/8/2017 13:15</td>\n",
              "      <td>6/8/2017 17:15</td>\n",
              "      <td>6/12/2017 8:44</td>\n",
              "      <td>1705 17TH ST</td>\n",
              "      <td>3140790.0</td>\n",
              "      <td>1699792.0</td>\n",
              "      <td>-104.999264</td>\n",
              "      <td>39.753669</td>\n",
              "      <td>6</td>\n",
              "      <td>612</td>\n",
              "      <td>union-station</td>\n",
              "      <td>1</td>\n",
              "      <td>0</td>\n",
              "      <td>2017</td>\n",
              "      <td>6</td>\n",
              "      <td>8</td>\n",
              "      <td>13:15:00</td>\n",
              "      <td>3</td>\n",
              "      <td>2017-06-08</td>\n",
              "    </tr>\n",
              "    <tr>\n",
              "      <th>3</th>\n",
              "      <td>2.019601e+10</td>\n",
              "      <td>2.019600e+16</td>\n",
              "      <td>2308</td>\n",
              "      <td>0</td>\n",
              "      <td>theft-from-bldg</td>\n",
              "      <td>larceny</td>\n",
              "      <td>12/7/2019 13:07</td>\n",
              "      <td>12/7/2019 18:30</td>\n",
              "      <td>12/9/2019 13:35</td>\n",
              "      <td>1350 N IRVING ST</td>\n",
              "      <td>3132400.0</td>\n",
              "      <td>1694088.0</td>\n",
              "      <td>-105.029208</td>\n",
              "      <td>39.738134</td>\n",
              "      <td>1</td>\n",
              "      <td>122</td>\n",
              "      <td>west-colfax</td>\n",
              "      <td>1</td>\n",
              "      <td>0</td>\n",
              "      <td>2019</td>\n",
              "      <td>12</td>\n",
              "      <td>7</td>\n",
              "      <td>13:07:00</td>\n",
              "      <td>5</td>\n",
              "      <td>2019-12-07</td>\n",
              "    </tr>\n",
              "    <tr>\n",
              "      <th>4</th>\n",
              "      <td>2.018862e+09</td>\n",
              "      <td>2.018860e+15</td>\n",
              "      <td>5016</td>\n",
              "      <td>0</td>\n",
              "      <td>violation-of-restraining-order</td>\n",
              "      <td>all-other-crimes</td>\n",
              "      <td>12/22/2018 20:15</td>\n",
              "      <td>12/22/2018 20:31</td>\n",
              "      <td>12/22/2018 22:00</td>\n",
              "      <td>13625 E RANDOLPH PL</td>\n",
              "      <td>3188580.0</td>\n",
              "      <td>1716158.0</td>\n",
              "      <td>-104.828868</td>\n",
              "      <td>39.797750</td>\n",
              "      <td>5</td>\n",
              "      <td>521</td>\n",
              "      <td>montbello</td>\n",
              "      <td>1</td>\n",
              "      <td>0</td>\n",
              "      <td>2018</td>\n",
              "      <td>12</td>\n",
              "      <td>22</td>\n",
              "      <td>20:15:00</td>\n",
              "      <td>5</td>\n",
              "      <td>2018-12-22</td>\n",
              "    </tr>\n",
              "  </tbody>\n",
              "</table>\n",
              "</div>"
            ],
            "text/plain": [
              "    INCIDENT_ID    OFFENSE_ID  OFFENSE_CODE  ...      time day_of_week        date\n",
              "0  2.018870e+09  2.018870e+15          2399  ...  15:58:00           3  2018-12-27\n",
              "1  2.015664e+09  2.015660e+15          5441  ...  07:45:00           4  2015-11-13\n",
              "2  2.017601e+10  2.017600e+16          2399  ...  13:15:00           3  2017-06-08\n",
              "3  2.019601e+10  2.019600e+16          2308  ...  13:07:00           5  2019-12-07\n",
              "4  2.018862e+09  2.018860e+15          5016  ...  20:15:00           5  2018-12-22\n",
              "\n",
              "[5 rows x 25 columns]"
            ]
          },
          "metadata": {
            "tags": []
          },
          "execution_count": 15
        }
      ]
    },
    {
      "cell_type": "markdown",
      "metadata": {
        "id": "vMWHmleLN9IN"
      },
      "source": [
        "## 4. Graph Initial Plots"
      ]
    },
    {
      "cell_type": "markdown",
      "metadata": {
        "id": "EF95u9IDS-7e"
      },
      "source": [
        "How many crimes have been reported every year?"
      ]
    },
    {
      "cell_type": "code",
      "metadata": {
        "id": "kRQ5VVatMfKZ",
        "outputId": "67044636-5c10-4ec6-ea5b-35405e996fc8",
        "colab": {
          "base_uri": "https://localhost:8080/",
          "height": 437
        }
      },
      "source": [
        "import matplotlib.pyplot as plt\n",
        "import numpy as np\n",
        "\n",
        "# group by year\n",
        "fig, ax = plt.subplots(figsize=(15,7))\n",
        "df.groupby([df.year]).count()['INCIDENT_ID'].plot(ax=ax)"
      ],
      "execution_count": 16,
      "outputs": [
        {
          "output_type": "execute_result",
          "data": {
            "text/plain": [
              "<matplotlib.axes._subplots.AxesSubplot at 0x7f402d685780>"
            ]
          },
          "metadata": {
            "tags": []
          },
          "execution_count": 16
        },
        {
          "output_type": "display_data",
          "data": {
            "image/png": "[encoded data removed]",
            "text/plain": [
              "<Figure size 1080x504 with 1 Axes>"
            ]
          },
          "metadata": {
            "tags": [],
            "needs_background": "light"
          }
        }
      ]
    },
    {
      "cell_type": "markdown",
      "metadata": {
        "id": "u9WkJX71TC_a"
      },
      "source": [
        "How many crimes are reported for every day?"
      ]
    },
    {
      "cell_type": "code",
      "metadata": {
        "id": "xlF2yJwzTz5x",
        "outputId": "4f361888-cee5-47f3-ace4-fb6dd43c486c",
        "colab": {
          "base_uri": "https://localhost:8080/",
          "height": 436
        }
      },
      "source": [
        "fig, ax = plt.subplots(figsize=(15,7))\n",
        "df.groupby([df.date]).count()['INCIDENT_ID'].plot(ax=ax)"
      ],
      "execution_count": 17,
      "outputs": [
        {
          "output_type": "execute_result",
          "data": {
            "text/plain": [
              "<matplotlib.axes._subplots.AxesSubplot at 0x7f402d6de978>"
            ]
          },
          "metadata": {
            "tags": []
          },
          "execution_count": 17
        },
        {
          "output_type": "display_data",
          "data": {
            "image/png": "[encoded data removed]",
            "text/plain": [
              "<Figure size 1080x504 with 1 Axes>"
            ]
          },
          "metadata": {
            "tags": [],
            "needs_background": "light"
          }
        }
      ]
    },
    {
      "cell_type": "markdown",
      "metadata": {
        "id": "cWL6pTPXT8Ai"
      },
      "source": [
        "How many crimes are reported on each day of the week?"
      ]
    },
    {
      "cell_type": "code",
      "metadata": {
        "id": "gJPJYfKSO2yj",
        "outputId": "a80e9b63-9aed-4e93-aa49-14ebaad6e6b1",
        "colab": {
          "base_uri": "https://localhost:8080/",
          "height": 434
        }
      },
      "source": [
        "fig, ax = plt.subplots(figsize=(15,7))\n",
        "df.groupby([df.day_of_week]).count()['INCIDENT_ID'].plot(ax=ax)"
      ],
      "execution_count": 18,
      "outputs": [
        {
          "output_type": "execute_result",
          "data": {
            "text/plain": [
              "<matplotlib.axes._subplots.AxesSubplot at 0x7f402b0712b0>"
            ]
          },
          "metadata": {
            "tags": []
          },
          "execution_count": 18
        },
        {
          "output_type": "display_data",
          "data": {
            "image/png": "[encoded data removed]",
            "text/plain": [
              "<Figure size 1080x504 with 1 Axes>"
            ]
          },
          "metadata": {
            "tags": [],
            "needs_background": "light"
          }
        }
      ]
    },
    {
      "cell_type": "markdown",
      "metadata": {
        "id": "RVjr7_O3UNr6"
      },
      "source": [
        "Look at the how many crimes are in each of the districts."
      ]
    },
    {
      "cell_type": "code",
      "metadata": {
        "id": "qfqq1e51SwBn",
        "outputId": "b79d6cda-f779-4a30-cfce-0c9975ca28f6",
        "colab": {
          "base_uri": "https://localhost:8080/",
          "height": 265
        }
      },
      "source": [
        "df.groupby(df['DISTRICT_ID']).count()['INCIDENT_ID'].plot.pie()"
      ],
      "execution_count": 19,
      "outputs": [
        {
          "output_type": "execute_result",
          "data": {
            "text/plain": [
              "<matplotlib.axes._subplots.AxesSubplot at 0x7f402986af60>"
            ]
          },
          "metadata": {
            "tags": []
          },
          "execution_count": 19
        },
        {
          "output_type": "display_data",
          "data": {
            "image/png": "[encoded data removed]",
            "text/plain": [
              "<Figure size 432x288 with 1 Axes>"
            ]
          },
          "metadata": {
            "tags": []
          }
        }
      ]
    },
    {
      "cell_type": "code",
      "metadata": {
        "id": "UqQqtSbb5BZi"
      },
      "source": [
        ""
      ],
      "execution_count": 19,
      "outputs": []
    }
  ]
}