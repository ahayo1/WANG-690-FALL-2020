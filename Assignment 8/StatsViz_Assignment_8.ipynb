{
  "nbformat": 4,
  "nbformat_minor": 0,
  "metadata": {
    "kernelspec": {
      "display_name": "Python 3",
      "language": "python",
      "name": "python3"
    },
    "language_info": {
      "codemirror_mode": {
        "name": "ipython",
        "version": 3
      },
      "file_extension": ".py",
      "mimetype": "text/x-python",
      "name": "python",
      "nbconvert_exporter": "python",
      "pygments_lexer": "ipython3",
      "version": "3.7.4"
    },
    "colab": {
      "name": "StatsViz - Assignment 8",
      "provenance": []
    }
  },
  "cells": [
    {
      "cell_type": "markdown",
      "metadata": {
        "id": "-2fQAV7J6oI1"
      },
      "source": [
        "### Assignment 8\n",
        "For this assignment , we will use the college scorecard dataset. \n",
        "<pre>\n",
        "From the 22 individual school year data files, randomly (using Python) select one file. \n",
        "Only read the column \"TUITIONFEE_IN\" frm this file into a data frame.\n",
        "Find out how many observations this data frame has.\n",
        "Find out how many observations that have missing value. Drop those observations.\n",
        "Find out how many observations that have value of zero. Drop those observations.\n",
        "Calculate the mean of the tuition.\n",
        "Randomly select one observation, find out the tuition of that observation.\n",
        "Calculate the different between the tuition of this observation and the average tuition (mean) off all observations above.\n",
        "Randomly select another observation and repeat the above.\n",
        "Randomly select another observation and repeat the above.\n",
        "Randomly select 5 observations, display the tuition of these observation.\n",
        "Calculate the average of these 5 observations\n",
        "Calculate the different between the average tuition of thes 5 observations and the average tuition (mean) off all observations above.\n",
        "Randomly select another 5 observations and repeat the above.\n",
        "Randomly select another 5 observation and repeat the above.\n",
        "\n",
        "Randomly select 10 observations, display the tuition of these observation.\n",
        "Calculate the average of these 10 observations\n",
        "Calculate the different between the average tuition of thes 10 observations and the average tuition (mean) off all observations above.\n",
        "Randomly select another 10 observations and repeat the above.\n",
        "Randomly select another 10 observation and repeat the above.\n",
        "\n",
        "\n",
        "Randomly select 20 observations, display the tuition of these observation.\n",
        "Calculate the average of these 20 observations\n",
        "Calculate the different between the average tuition of thes 10 observations and the average tuition (mean) off all observations above.\n",
        "Randomly select another 20 observations and repeat the above.\n",
        "Randomly select another 20 observation and repeat the above.\n",
        "\n",
        "Randomly select 30 observations, display the tuition of these observation.\n",
        "Calculate the average of these 30 observations\n",
        "Calculate the different between the average tuition of thes 10 observations and the average tuition (mean) off all observations above.\n",
        "Randomly select another 30 observations and repeat the above.\n",
        "Randomly select another 30 observation and repeat the above.\n",
        "\n",
        "Write a function that take an input x (number of observations). \n",
        "The function will perform the following:\n",
        "\n",
        "Randomly select x observations, display the tuition of these observations.\n",
        "Calculate the average of these x observations\n",
        "Calculate the different between the average tuition of these x observations and the average tuition (mean) off all observations above.\n",
        "Display the difference.\n",
        "<pre>\n"
      ]
    },
    {
      "cell_type": "code",
      "metadata": {
        "id": "HpZckaJR6oI8"
      },
      "source": [
        "# 1 - Import necessary libraries\n",
        "import pandas as pd\n",
        "import os\n",
        "import random\n",
        "import matplotlib.pyplot as plt"
      ],
      "execution_count": 1,
      "outputs": []
    },
    {
      "cell_type": "markdown",
      "metadata": {
        "id": "61jBAK_uUotY"
      },
      "source": [
        "## Part 1\n",
        "**2 - Retrieve the names of the 23 files and assign them to a List variable**\n",
        "* You would need to filter out other files\n",
        "* Display the names of these 23 files\n"
      ]
    },
    {
      "cell_type": "code",
      "metadata": {
        "id": "6qafjqpb6oJC",
        "outputId": "196f3088-b7b1-494b-a094-a732f5055b0c",
        "colab": {
          "base_uri": "https://localhost:8080/",
          "height": 35
        }
      },
      "source": [
        "# display current working directory\n",
        "os.getcwd()"
      ],
      "execution_count": 2,
      "outputs": [
        {
          "output_type": "execute_result",
          "data": {
            "application/vnd.google.colaboratory.intrinsic+json": {
              "type": "string"
            },
            "text/plain": [
              "'/content'"
            ]
          },
          "metadata": {
            "tags": []
          },
          "execution_count": 2
        }
      ]
    },
    {
      "cell_type": "code",
      "metadata": {
        "id": "ucG5MEOsV16J",
        "outputId": "494638cb-0a95-492d-a926-819ca20627bd",
        "colab": {
          "base_uri": "https://localhost:8080/"
        }
      },
      "source": [
        "# get to correct file directory\n",
        "curr_dir_contents = os.listdir()\n",
        "prnt_dir_contents = os.listdir('../')\n",
        "print(curr_dir_contents)\n",
        "print(prnt_dir_contents)"
      ],
      "execution_count": 3,
      "outputs": [
        {
          "output_type": "stream",
          "text": [
            "['.config', '.DS_Store', 'CollegeScorecard_Raw_Data', '.ipynb_checkpoints', 'sample_data']\n",
            "['etc', 'root', 'media', 'lib64', 'srv', 'home', 'sys', 'boot', 'tmp', 'lib', 'opt', 'var', 'usr', 'sbin', 'run', 'dev', 'proc', 'bin', 'mnt', 'content', '.dockerenv', 'datalab', 'tools', 'swift', 'tensorflow-1.15.2', 'lib32']\n"
          ],
          "name": "stdout"
        }
      ]
    },
    {
      "cell_type": "code",
      "metadata": {
        "id": "WZGyStxxWHRJ",
        "outputId": "e7669196-f8d0-4b25-c9c1-0b660bcd00cd",
        "colab": {
          "base_uri": "https://localhost:8080/"
        }
      },
      "source": [
        "data_dir = os.listdir('CollegeScorecard_Raw_Data')\n",
        "\n",
        "# filter out other files\n",
        "data_dir = [f for f in data_dir if 'MERGED' == f[0:6] and 'csv' == f[-3:]]\n",
        "\n",
        "# display the names of the files\n",
        "print(data_dir)"
      ],
      "execution_count": 4,
      "outputs": [
        {
          "output_type": "stream",
          "text": [
            "['MERGED2015_16_PP.csv', 'MERGED2016_17_PP.csv', 'MERGED2001_02_PP.csv', 'MERGED2007_08_PP.csv', 'MERGED2012_13_PP.csv', 'MERGED2006_07_PP.csv', 'MERGED2011_12_PP.csv', 'MERGED2000_01_PP.csv', 'MERGED2005_06_PP.csv', 'MERGED2004_05_PP.csv', 'MERGED2002_03_PP.csv', 'MERGED2008_09_PP.csv', 'MERGED2014_15_PP.csv', 'MERGED2003_04_PP.csv', 'MERGED1997_98_PP.csv', 'MERGED2017_18_PP.csv', 'MERGED1998_99_PP.csv', 'MERGED1996_97_PP.csv', 'MERGED2013_14_PP.csv', 'MERGED2010_11_PP.csv', 'MERGED1999_00_PP.csv', 'MERGED2009_10_PP.csv', 'MERGED2018_19_PP.csv']\n"
          ],
          "name": "stdout"
        }
      ]
    },
    {
      "cell_type": "markdown",
      "metadata": {
        "id": "F7uoZ5TTVWpR"
      },
      "source": [
        "**3 - Write code to randomly select one file name out of the 23 files names.**\n",
        "* Hint: generate a random integer between 0 and 22 first\n",
        "* Display the file name"
      ]
    },
    {
      "cell_type": "code",
      "metadata": {
        "id": "ft9Rn1lp6oJG",
        "outputId": "dca14e06-7481-4def-caf8-fb6a64c47f68",
        "colab": {
          "base_uri": "https://localhost:8080/"
        }
      },
      "source": [
        "# randomly generate a number between 0 and 22\n",
        "x = random.randint(0,23)\n",
        "\n",
        "# display the file name\n",
        "file_name = data_dir[x]\n",
        "print(file_name)"
      ],
      "execution_count": 5,
      "outputs": [
        {
          "output_type": "stream",
          "text": [
            "MERGED2003_04_PP.csv\n"
          ],
          "name": "stdout"
        }
      ]
    },
    {
      "cell_type": "markdown",
      "metadata": {
        "id": "x7ir2UISXaYZ"
      },
      "source": [
        "**4 - Only read the two columns: college name (INSTNM) and in state tution (\"TUITIONFEE_IN\")**\n",
        "* from this file into a data frame aand display use info() function to display a summary information"
      ]
    },
    {
      "cell_type": "code",
      "metadata": {
        "id": "6qHlz4B4YxQS",
        "outputId": "50172634-c8ce-44ce-ce05-ab5dc652c879",
        "colab": {
          "base_uri": "https://localhost:8080/"
        }
      },
      "source": [
        "os.listdir('.')"
      ],
      "execution_count": 6,
      "outputs": [
        {
          "output_type": "execute_result",
          "data": {
            "text/plain": [
              "['.config',\n",
              " '.DS_Store',\n",
              " 'CollegeScorecard_Raw_Data',\n",
              " '.ipynb_checkpoints',\n",
              " 'sample_data']"
            ]
          },
          "metadata": {
            "tags": []
          },
          "execution_count": 6
        }
      ]
    },
    {
      "cell_type": "code",
      "metadata": {
        "id": "DJy1hmWM6oJN",
        "outputId": "d880ba93-7593-4df1-86a2-4f64fd481866",
        "colab": {
          "base_uri": "https://localhost:8080/",
          "height": 204
        }
      },
      "source": [
        "file_path = 'CollegeScorecard_Raw_Data/' + file_name\n",
        "\n",
        "# only read in the two columns\n",
        "df = pd.read_csv(file_path, usecols = ['INSTNM','TUITIONFEE_IN'])\n",
        "df.head()"
      ],
      "execution_count": 7,
      "outputs": [
        {
          "output_type": "execute_result",
          "data": {
            "text/html": [
              "<div>\n",
              "<style scoped>\n",
              "    .dataframe tbody tr th:only-of-type {\n",
              "        vertical-align: middle;\n",
              "    }\n",
              "\n",
              "    .dataframe tbody tr th {\n",
              "        vertical-align: top;\n",
              "    }\n",
              "\n",
              "    .dataframe thead th {\n",
              "        text-align: right;\n",
              "    }\n",
              "</style>\n",
              "<table border=\"1\" class=\"dataframe\">\n",
              "  <thead>\n",
              "    <tr style=\"text-align: right;\">\n",
              "      <th></th>\n",
              "      <th>INSTNM</th>\n",
              "      <th>TUITIONFEE_IN</th>\n",
              "    </tr>\n",
              "  </thead>\n",
              "  <tbody>\n",
              "    <tr>\n",
              "      <th>0</th>\n",
              "      <td>Community College of the Air Force</td>\n",
              "      <td>NaN</td>\n",
              "    </tr>\n",
              "    <tr>\n",
              "      <th>1</th>\n",
              "      <td>Alabama A &amp; M University</td>\n",
              "      <td>3352.0</td>\n",
              "    </tr>\n",
              "    <tr>\n",
              "      <th>2</th>\n",
              "      <td>University of Alabama at Birmingham</td>\n",
              "      <td>4274.0</td>\n",
              "    </tr>\n",
              "    <tr>\n",
              "      <th>3</th>\n",
              "      <td>Amridge University</td>\n",
              "      <td>9440.0</td>\n",
              "    </tr>\n",
              "    <tr>\n",
              "      <th>4</th>\n",
              "      <td>University of Alabama in Huntsville</td>\n",
              "      <td>4126.0</td>\n",
              "    </tr>\n",
              "  </tbody>\n",
              "</table>\n",
              "</div>"
            ],
            "text/plain": [
              "                                INSTNM  TUITIONFEE_IN\n",
              "0   Community College of the Air Force            NaN\n",
              "1             Alabama A & M University         3352.0\n",
              "2  University of Alabama at Birmingham         4274.0\n",
              "3                   Amridge University         9440.0\n",
              "4  University of Alabama in Huntsville         4126.0"
            ]
          },
          "metadata": {
            "tags": []
          },
          "execution_count": 7
        }
      ]
    },
    {
      "cell_type": "code",
      "metadata": {
        "id": "_HN4HI2lZzpv",
        "outputId": "055ab900-043e-4763-86bd-02e9122f0748",
        "colab": {
          "base_uri": "https://localhost:8080/"
        }
      },
      "source": [
        "# display info\n",
        "df.info()"
      ],
      "execution_count": 8,
      "outputs": [
        {
          "output_type": "stream",
          "text": [
            "<class 'pandas.core.frame.DataFrame'>\n",
            "RangeIndex: 4304 entries, 0 to 4303\n",
            "Data columns (total 2 columns):\n",
            " #   Column         Non-Null Count  Dtype  \n",
            "---  ------         --------------  -----  \n",
            " 0   INSTNM         4304 non-null   object \n",
            " 1   TUITIONFEE_IN  3090 non-null   float64\n",
            "dtypes: float64(1), object(1)\n",
            "memory usage: 67.4+ KB\n"
          ],
          "name": "stdout"
        }
      ]
    },
    {
      "cell_type": "markdown",
      "metadata": {
        "id": "SD1bsfR6YHeg"
      },
      "source": [
        "**5 - Find out how many observations have missing values.**"
      ]
    },
    {
      "cell_type": "code",
      "metadata": {
        "id": "wU5Ozu106oJR",
        "outputId": "64da25b1-9f0d-4f3b-aee8-ac6c73de9db8",
        "colab": {
          "base_uri": "https://localhost:8080/"
        }
      },
      "source": [
        "# count total NaN in each column\n",
        "df.isnull().sum()"
      ],
      "execution_count": 9,
      "outputs": [
        {
          "output_type": "execute_result",
          "data": {
            "text/plain": [
              "INSTNM              0\n",
              "TUITIONFEE_IN    1214\n",
              "dtype: int64"
            ]
          },
          "metadata": {
            "tags": []
          },
          "execution_count": 9
        }
      ]
    },
    {
      "cell_type": "markdown",
      "metadata": {
        "id": "O4HJnx0_agvH"
      },
      "source": [
        "**6 - Drop those observations with missing value.**\n",
        "* Display the number of observations afterward"
      ]
    },
    {
      "cell_type": "code",
      "metadata": {
        "id": "V0MTbBwv6oJW",
        "outputId": "cb36a14a-c274-460e-b0ed-24e3f843130c",
        "colab": {
          "base_uri": "https://localhost:8080/",
          "height": 204
        }
      },
      "source": [
        "# drop null values\n",
        "df_drop = df.dropna()\n",
        "df_drop.head()"
      ],
      "execution_count": 10,
      "outputs": [
        {
          "output_type": "execute_result",
          "data": {
            "text/html": [
              "<div>\n",
              "<style scoped>\n",
              "    .dataframe tbody tr th:only-of-type {\n",
              "        vertical-align: middle;\n",
              "    }\n",
              "\n",
              "    .dataframe tbody tr th {\n",
              "        vertical-align: top;\n",
              "    }\n",
              "\n",
              "    .dataframe thead th {\n",
              "        text-align: right;\n",
              "    }\n",
              "</style>\n",
              "<table border=\"1\" class=\"dataframe\">\n",
              "  <thead>\n",
              "    <tr style=\"text-align: right;\">\n",
              "      <th></th>\n",
              "      <th>INSTNM</th>\n",
              "      <th>TUITIONFEE_IN</th>\n",
              "    </tr>\n",
              "  </thead>\n",
              "  <tbody>\n",
              "    <tr>\n",
              "      <th>1</th>\n",
              "      <td>Alabama A &amp; M University</td>\n",
              "      <td>3352.0</td>\n",
              "    </tr>\n",
              "    <tr>\n",
              "      <th>2</th>\n",
              "      <td>University of Alabama at Birmingham</td>\n",
              "      <td>4274.0</td>\n",
              "    </tr>\n",
              "    <tr>\n",
              "      <th>3</th>\n",
              "      <td>Amridge University</td>\n",
              "      <td>9440.0</td>\n",
              "    </tr>\n",
              "    <tr>\n",
              "      <th>4</th>\n",
              "      <td>University of Alabama in Huntsville</td>\n",
              "      <td>4126.0</td>\n",
              "    </tr>\n",
              "    <tr>\n",
              "      <th>5</th>\n",
              "      <td>Alabama State University</td>\n",
              "      <td>3600.0</td>\n",
              "    </tr>\n",
              "  </tbody>\n",
              "</table>\n",
              "</div>"
            ],
            "text/plain": [
              "                                INSTNM  TUITIONFEE_IN\n",
              "1             Alabama A & M University         3352.0\n",
              "2  University of Alabama at Birmingham         4274.0\n",
              "3                   Amridge University         9440.0\n",
              "4  University of Alabama in Huntsville         4126.0\n",
              "5             Alabama State University         3600.0"
            ]
          },
          "metadata": {
            "tags": []
          },
          "execution_count": 10
        }
      ]
    },
    {
      "cell_type": "code",
      "metadata": {
        "id": "9G3FDiwCbi8f",
        "outputId": "20712d70-c734-4c60-c741-78078ea716e2",
        "colab": {
          "base_uri": "https://localhost:8080/"
        }
      },
      "source": [
        "# display the number of observations\n",
        "df_drop.info()"
      ],
      "execution_count": 11,
      "outputs": [
        {
          "output_type": "stream",
          "text": [
            "<class 'pandas.core.frame.DataFrame'>\n",
            "Int64Index: 3090 entries, 1 to 4303\n",
            "Data columns (total 2 columns):\n",
            " #   Column         Non-Null Count  Dtype  \n",
            "---  ------         --------------  -----  \n",
            " 0   INSTNM         3090 non-null   object \n",
            " 1   TUITIONFEE_IN  3090 non-null   float64\n",
            "dtypes: float64(1), object(1)\n",
            "memory usage: 72.4+ KB\n"
          ],
          "name": "stdout"
        }
      ]
    },
    {
      "cell_type": "code",
      "metadata": {
        "id": "jtK5TpQ5bnxU",
        "outputId": "338cb66c-907c-4831-dd49-a8962c4618cc",
        "colab": {
          "base_uri": "https://localhost:8080/"
        }
      },
      "source": [
        "# ensure there are no more null values\n",
        "df_drop.isnull().sum()"
      ],
      "execution_count": 12,
      "outputs": [
        {
          "output_type": "execute_result",
          "data": {
            "text/plain": [
              "INSTNM           0\n",
              "TUITIONFEE_IN    0\n",
              "dtype: int64"
            ]
          },
          "metadata": {
            "tags": []
          },
          "execution_count": 12
        }
      ]
    },
    {
      "cell_type": "markdown",
      "metadata": {
        "id": "52RaGZxFbIfK"
      },
      "source": [
        "**7 - Find out how many observations have 0 tuition.**"
      ]
    },
    {
      "cell_type": "code",
      "metadata": {
        "id": "A-pfpASe6oJb",
        "outputId": "a7be8238-76e0-4828-ab39-95d6bc4169de",
        "colab": {
          "base_uri": "https://localhost:8080/"
        }
      },
      "source": [
        "# how many rows have 0 tuition\n",
        "len(df_drop[df_drop['TUITIONFEE_IN']==0])"
      ],
      "execution_count": 13,
      "outputs": [
        {
          "output_type": "execute_result",
          "data": {
            "text/plain": [
              "7"
            ]
          },
          "metadata": {
            "tags": []
          },
          "execution_count": 13
        }
      ]
    },
    {
      "cell_type": "markdown",
      "metadata": {
        "id": "01DWwePJb1bQ"
      },
      "source": [
        "**8 - Drop those observations with 0 tuition**\n",
        "* Display the number of observations afterwards"
      ]
    },
    {
      "cell_type": "code",
      "metadata": {
        "id": "JSjb9JEVdIgH",
        "outputId": "c138c6dd-ba94-4cc1-a55a-162f81c1bc57",
        "colab": {
          "base_uri": "https://localhost:8080/"
        }
      },
      "source": [
        "# get shape before drop\n",
        "df_drop.shape"
      ],
      "execution_count": 14,
      "outputs": [
        {
          "output_type": "execute_result",
          "data": {
            "text/plain": [
              "(3090, 2)"
            ]
          },
          "metadata": {
            "tags": []
          },
          "execution_count": 14
        }
      ]
    },
    {
      "cell_type": "code",
      "metadata": {
        "id": "UUp2iUlM6oJk",
        "outputId": "0de22a50-4e8a-4536-d85c-64e7bff51d85",
        "colab": {
          "base_uri": "https://localhost:8080/"
        }
      },
      "source": [
        "# drop observations with 0 tuition\n",
        "df_filter = df_drop[df_drop['TUITIONFEE_IN'] != 0]\n",
        "\n",
        "# get shape after drop\n",
        "df_filter.shape"
      ],
      "execution_count": 15,
      "outputs": [
        {
          "output_type": "execute_result",
          "data": {
            "text/plain": [
              "(3083, 2)"
            ]
          },
          "metadata": {
            "tags": []
          },
          "execution_count": 15
        }
      ]
    },
    {
      "cell_type": "markdown",
      "metadata": {
        "id": "fjLGpuqFcxhI"
      },
      "source": [
        "**9 - Calculate and display the mean (average) of the tuitions of all the remaining observations**"
      ]
    },
    {
      "cell_type": "code",
      "metadata": {
        "id": "vXjrc9Km6oJq",
        "outputId": "bc921167-426f-4c9a-cc36-15ca0d878253",
        "colab": {
          "base_uri": "https://localhost:8080/"
        }
      },
      "source": [
        "# get the average tuition\n",
        "tuition_mean = df_filter['TUITIONFEE_IN'].mean()\n",
        "print(tuition_mean)"
      ],
      "execution_count": 16,
      "outputs": [
        {
          "output_type": "stream",
          "text": [
            "8572.00129743756\n"
          ],
          "name": "stdout"
        }
      ]
    },
    {
      "cell_type": "markdown",
      "metadata": {
        "id": "YI7iEIuWeAh2"
      },
      "source": [
        "**10 - Randomly select just 1 observation from the dataframe.**\n",
        "* Display the tuition of that observation"
      ]
    },
    {
      "cell_type": "code",
      "metadata": {
        "id": "Yyk1Kx456oJv",
        "outputId": "78e90e9e-2c12-45c4-d7aa-7c4f94e203b3",
        "colab": {
          "base_uri": "https://localhost:8080/"
        }
      },
      "source": [
        "# get random row\n",
        "sample_row = df_filter.sample(1)\n",
        "\n",
        "# display tuition of random row\n",
        "sample_tuition = sample_row['TUITIONFEE_IN'].iloc[0]\n",
        "print(sample_tuition)"
      ],
      "execution_count": 17,
      "outputs": [
        {
          "output_type": "stream",
          "text": [
            "23588.0\n"
          ],
          "name": "stdout"
        }
      ]
    },
    {
      "cell_type": "markdown",
      "metadata": {
        "id": "Krj6PTLdfFMo"
      },
      "source": [
        "**11 - Calculate the difference between the tuition of this observation and the mean tuition of all observations**\n",
        "* Display the difference"
      ]
    },
    {
      "cell_type": "code",
      "metadata": {
        "id": "2Jio5eDc6oJ0",
        "outputId": "bb6d3849-3df8-49d1-c1cf-1fba9fbd3b6a",
        "colab": {
          "base_uri": "https://localhost:8080/"
        }
      },
      "source": [
        "# get difference\n",
        "diff = abs(tuition_mean - sample_tuition)\n",
        "\n",
        "# display difference\n",
        "print(diff)"
      ],
      "execution_count": 18,
      "outputs": [
        {
          "output_type": "stream",
          "text": [
            "15015.99870256244\n"
          ],
          "name": "stdout"
        }
      ]
    },
    {
      "cell_type": "markdown",
      "metadata": {
        "id": "eGYK57Ocfjvh"
      },
      "source": [
        "**12 - Repeat 10 to 11 several times to get the feel of the size of the difference in means**"
      ]
    },
    {
      "cell_type": "code",
      "metadata": {
        "id": "E7RIjD8E6oJ5",
        "outputId": "69cd1376-5c5e-481c-f4ef-12f1895494be",
        "colab": {
          "base_uri": "https://localhost:8080/"
        }
      },
      "source": [
        "# save results in a list to be used later\n",
        "sample_tuition_list = []\n",
        "diff_list = []\n",
        "\n",
        "# use a for loop to repeat steps 10 and 11\n",
        "for i in range(10):\n",
        "  # get random row\n",
        "  sample_row = df_filter.sample(1)\n",
        "\n",
        "  # display mean tuition of all schools\n",
        "  print('Mean Tuition of All Schools :', tuition_mean)\n",
        "\n",
        "  # display tuition of random row\n",
        "  sample_tuition = sample_row['TUITIONFEE_IN'].iloc[0]\n",
        "  print('Random Tuition of School',i,':',sample_tuition)\n",
        "\n",
        "  # save tuition in list\n",
        "  sample_tuition_list.append(sample_tuition)\n",
        "\n",
        "  # display difference\n",
        "  diff = abs(tuition_mean - sample_tuition)\n",
        "  print('Difference Between Tuition Mean and Random Tuition of School',i,':',diff,'\\n')\n",
        "\n",
        "  # save difference in a list\n",
        "  diff_list.append(diff)"
      ],
      "execution_count": 19,
      "outputs": [
        {
          "output_type": "stream",
          "text": [
            "Mean Tuition of All Schools : 8572.00129743756\n",
            "Random Tuition of School 0 : 2652.0\n",
            "Difference Between Tuition Mean and Random Tuition of School 0 : 5920.00129743756 \n",
            "\n",
            "Mean Tuition of All Schools : 8572.00129743756\n",
            "Random Tuition of School 1 : 13480.0\n",
            "Difference Between Tuition Mean and Random Tuition of School 1 : 4907.99870256244 \n",
            "\n",
            "Mean Tuition of All Schools : 8572.00129743756\n",
            "Random Tuition of School 2 : 4503.0\n",
            "Difference Between Tuition Mean and Random Tuition of School 2 : 4069.0012974375604 \n",
            "\n",
            "Mean Tuition of All Schools : 8572.00129743756\n",
            "Random Tuition of School 3 : 18200.0\n",
            "Difference Between Tuition Mean and Random Tuition of School 3 : 9627.99870256244 \n",
            "\n",
            "Mean Tuition of All Schools : 8572.00129743756\n",
            "Random Tuition of School 4 : 2110.0\n",
            "Difference Between Tuition Mean and Random Tuition of School 4 : 6462.00129743756 \n",
            "\n",
            "Mean Tuition of All Schools : 8572.00129743756\n",
            "Random Tuition of School 5 : 6995.0\n",
            "Difference Between Tuition Mean and Random Tuition of School 5 : 1577.0012974375604 \n",
            "\n",
            "Mean Tuition of All Schools : 8572.00129743756\n",
            "Random Tuition of School 6 : 2550.0\n",
            "Difference Between Tuition Mean and Random Tuition of School 6 : 6022.00129743756 \n",
            "\n",
            "Mean Tuition of All Schools : 8572.00129743756\n",
            "Random Tuition of School 7 : 2930.0\n",
            "Difference Between Tuition Mean and Random Tuition of School 7 : 5642.00129743756 \n",
            "\n",
            "Mean Tuition of All Schools : 8572.00129743756\n",
            "Random Tuition of School 8 : 13500.0\n",
            "Difference Between Tuition Mean and Random Tuition of School 8 : 4927.99870256244 \n",
            "\n",
            "Mean Tuition of All Schools : 8572.00129743756\n",
            "Random Tuition of School 9 : 1865.0\n",
            "Difference Between Tuition Mean and Random Tuition of School 9 : 6707.00129743756 \n",
            "\n"
          ],
          "name": "stdout"
        }
      ]
    },
    {
      "cell_type": "markdown",
      "metadata": {
        "id": "ds8tZBsAhP3e"
      },
      "source": [
        "**13 - Randomly select 20 observations, display the tuition of these observations**"
      ]
    },
    {
      "cell_type": "code",
      "metadata": {
        "id": "X7P4DGbi6oJ-",
        "outputId": "93833eb4-316d-464b-9219-675efa09edff",
        "colab": {
          "base_uri": "https://localhost:8080/",
          "height": 669
        }
      },
      "source": [
        "# randomly select 20 observations\n",
        "df_20 = df_filter.sample(20)\n",
        "\n",
        "# display tuitions\n",
        "df_20"
      ],
      "execution_count": 20,
      "outputs": [
        {
          "output_type": "execute_result",
          "data": {
            "text/html": [
              "<div>\n",
              "<style scoped>\n",
              "    .dataframe tbody tr th:only-of-type {\n",
              "        vertical-align: middle;\n",
              "    }\n",
              "\n",
              "    .dataframe tbody tr th {\n",
              "        vertical-align: top;\n",
              "    }\n",
              "\n",
              "    .dataframe thead th {\n",
              "        text-align: right;\n",
              "    }\n",
              "</style>\n",
              "<table border=\"1\" class=\"dataframe\">\n",
              "  <thead>\n",
              "    <tr style=\"text-align: right;\">\n",
              "      <th></th>\n",
              "      <th>INSTNM</th>\n",
              "      <th>TUITIONFEE_IN</th>\n",
              "    </tr>\n",
              "  </thead>\n",
              "  <tbody>\n",
              "    <tr>\n",
              "      <th>3238</th>\n",
              "      <td>Apollo Career Center</td>\n",
              "      <td>4400.0</td>\n",
              "    </tr>\n",
              "    <tr>\n",
              "      <th>3132</th>\n",
              "      <td>Mayland Community College</td>\n",
              "      <td>1136.0</td>\n",
              "    </tr>\n",
              "    <tr>\n",
              "      <th>1759</th>\n",
              "      <td>Louisiana Technical College-Oakdale Campus</td>\n",
              "      <td>666.0</td>\n",
              "    </tr>\n",
              "    <tr>\n",
              "      <th>3587</th>\n",
              "      <td>Umpqua Community College</td>\n",
              "      <td>2730.0</td>\n",
              "    </tr>\n",
              "    <tr>\n",
              "      <th>1081</th>\n",
              "      <td>Spelman College</td>\n",
              "      <td>14125.0</td>\n",
              "    </tr>\n",
              "    <tr>\n",
              "      <th>3421</th>\n",
              "      <td>Shawnee State University</td>\n",
              "      <td>4734.0</td>\n",
              "    </tr>\n",
              "    <tr>\n",
              "      <th>1688</th>\n",
              "      <td>Union College</td>\n",
              "      <td>13200.0</td>\n",
              "    </tr>\n",
              "    <tr>\n",
              "      <th>3873</th>\n",
              "      <td>Ursinus College</td>\n",
              "      <td>27625.0</td>\n",
              "    </tr>\n",
              "    <tr>\n",
              "      <th>495</th>\n",
              "      <td>Mount Saint Mary's University</td>\n",
              "      <td>19722.0</td>\n",
              "    </tr>\n",
              "    <tr>\n",
              "      <th>2090</th>\n",
              "      <td>Glen Oaks Community College</td>\n",
              "      <td>2244.0</td>\n",
              "    </tr>\n",
              "    <tr>\n",
              "      <th>442</th>\n",
              "      <td>Los Angeles Pierce College</td>\n",
              "      <td>468.0</td>\n",
              "    </tr>\n",
              "    <tr>\n",
              "      <th>3429</th>\n",
              "      <td>Lincoln College of Technology-Franklin LCT</td>\n",
              "      <td>6975.0</td>\n",
              "    </tr>\n",
              "    <tr>\n",
              "      <th>223</th>\n",
              "      <td>Academy of Art University</td>\n",
              "      <td>14480.0</td>\n",
              "    </tr>\n",
              "    <tr>\n",
              "      <th>3078</th>\n",
              "      <td>Blue Ridge Community College</td>\n",
              "      <td>1205.0</td>\n",
              "    </tr>\n",
              "    <tr>\n",
              "      <th>3588</th>\n",
              "      <td>Warner Pacific University</td>\n",
              "      <td>16910.0</td>\n",
              "    </tr>\n",
              "    <tr>\n",
              "      <th>4053</th>\n",
              "      <td>Lane College</td>\n",
              "      <td>6812.0</td>\n",
              "    </tr>\n",
              "    <tr>\n",
              "      <th>3863</th>\n",
              "      <td>Talmudical Yeshiva of Philadelphia</td>\n",
              "      <td>5600.0</td>\n",
              "    </tr>\n",
              "    <tr>\n",
              "      <th>300</th>\n",
              "      <td>California State University Maritime Academy</td>\n",
              "      <td>2896.0</td>\n",
              "    </tr>\n",
              "    <tr>\n",
              "      <th>2428</th>\n",
              "      <td>Poplar Bluff Technical Career Center</td>\n",
              "      <td>5110.0</td>\n",
              "    </tr>\n",
              "    <tr>\n",
              "      <th>591</th>\n",
              "      <td>Santa Clara University</td>\n",
              "      <td>25365.0</td>\n",
              "    </tr>\n",
              "  </tbody>\n",
              "</table>\n",
              "</div>"
            ],
            "text/plain": [
              "                                            INSTNM  TUITIONFEE_IN\n",
              "3238                          Apollo Career Center         4400.0\n",
              "3132                     Mayland Community College         1136.0\n",
              "1759    Louisiana Technical College-Oakdale Campus          666.0\n",
              "3587                      Umpqua Community College         2730.0\n",
              "1081                               Spelman College        14125.0\n",
              "3421                      Shawnee State University         4734.0\n",
              "1688                                 Union College        13200.0\n",
              "3873                               Ursinus College        27625.0\n",
              "495                  Mount Saint Mary's University        19722.0\n",
              "2090                   Glen Oaks Community College         2244.0\n",
              "442                     Los Angeles Pierce College          468.0\n",
              "3429    Lincoln College of Technology-Franklin LCT         6975.0\n",
              "223                      Academy of Art University        14480.0\n",
              "3078                  Blue Ridge Community College         1205.0\n",
              "3588                     Warner Pacific University        16910.0\n",
              "4053                                  Lane College         6812.0\n",
              "3863            Talmudical Yeshiva of Philadelphia         5600.0\n",
              "300   California State University Maritime Academy         2896.0\n",
              "2428          Poplar Bluff Technical Career Center         5110.0\n",
              "591                         Santa Clara University        25365.0"
            ]
          },
          "metadata": {
            "tags": []
          },
          "execution_count": 20
        }
      ]
    },
    {
      "cell_type": "markdown",
      "metadata": {
        "id": "lfCa-DNsiYxR"
      },
      "source": [
        "**14 - Calculate and display the mean tuition of these 20 observations**"
      ]
    },
    {
      "cell_type": "code",
      "metadata": {
        "id": "2kvz1whj6oKA",
        "outputId": "fb31468b-91e7-429d-c839-0f389f628639",
        "colab": {
          "base_uri": "https://localhost:8080/"
        }
      },
      "source": [
        "tuition_mean_20 = df_20['TUITIONFEE_IN'].mean()\n",
        "print(tuition_mean_20)"
      ],
      "execution_count": 21,
      "outputs": [
        {
          "output_type": "stream",
          "text": [
            "8820.15\n"
          ],
          "name": "stdout"
        }
      ]
    },
    {
      "cell_type": "markdown",
      "metadata": {
        "id": "aP5qu0n0jmf0"
      },
      "source": [
        "**15 - Calculate the difference between the average tuition of these 20 observations and the mean tuition of all observations calculated earlier**\n",
        "* Display the difference"
      ]
    },
    {
      "cell_type": "code",
      "metadata": {
        "id": "7qZe_Xn-6oKE",
        "outputId": "9409a23e-5de0-441d-d303-7aaa177fb493",
        "colab": {
          "base_uri": "https://localhost:8080/"
        }
      },
      "source": [
        "diff_20 = abs(tuition_mean - tuition_mean_20)\n",
        "print(diff_20)"
      ],
      "execution_count": 22,
      "outputs": [
        {
          "output_type": "stream",
          "text": [
            "248.1487025624392\n"
          ],
          "name": "stdout"
        }
      ]
    },
    {
      "cell_type": "markdown",
      "metadata": {
        "id": "k7vc4DXIj_YM"
      },
      "source": [
        "**16 - Repeat 13 to 15 several times to get the feel of the size of the difference in means**\n",
        "* Compare the differences with the differences calculated earlier with just 1 observation\n",
        "* Describe your hunch/conclusion"
      ]
    },
    {
      "cell_type": "code",
      "metadata": {
        "id": "V7xgI6GU6oKH",
        "outputId": "4e3d9c60-64a0-4c8c-c276-53c7bb1f9c4a",
        "colab": {
          "base_uri": "https://localhost:8080/"
        }
      },
      "source": [
        "# create a for loop to repeat steps 13 and 15\n",
        "for i in range(10):\n",
        "  # randomly select 20 observations\n",
        "  df_20 = df_filter.sample(20)\n",
        "\n",
        "  # display mean tuition of all schools\n",
        "  print('Mean Tuition of All Schools :', tuition_mean)\n",
        "\n",
        "  # get mean tuition of those 20 observations\n",
        "  tuition_mean_20 = df_20['TUITIONFEE_IN'].mean()\n",
        "  print('Mean Tuition of 20 Schools',i,':',tuition_mean_20)\n",
        "\n",
        "  # get differnces\n",
        "  diff_20 = abs(tuition_mean - tuition_mean_20)\n",
        "  print('Difference B/W Mean Tuition of All Schools and Mean Tuition of 20 Schools',i,':',diff_20)\n",
        "\n",
        "  print('Difference B/W Mean Tuition of All Schools and Sample School',i,':', diff_list[i])\n",
        "\n",
        "  diff_20_sample = abs(tuition_mean_20 - sample_tuition_list[i])\n",
        "  print('Difference B/W Mean Tuition of 20 Schools',i,'and Sample School',i,':',diff_20_sample,'\\n')"
      ],
      "execution_count": 23,
      "outputs": [
        {
          "output_type": "stream",
          "text": [
            "Mean Tuition of All Schools : 8572.00129743756\n",
            "Mean Tuition of 20 Schools 0 : 8588.7\n",
            "Difference B/W Mean Tuition of All Schools and Mean Tuition of 20 Schools 0 : 16.698702562440303\n",
            "Difference B/W Mean Tuition of All Schools and Sample School 0 : 5920.00129743756\n",
            "Difference B/W Mean Tuition of 20 Schools 0 and Sample School 0 : 5936.700000000001 \n",
            "\n",
            "Mean Tuition of All Schools : 8572.00129743756\n",
            "Mean Tuition of 20 Schools 1 : 6517.6\n",
            "Difference B/W Mean Tuition of All Schools and Mean Tuition of 20 Schools 1 : 2054.40129743756\n",
            "Difference B/W Mean Tuition of All Schools and Sample School 1 : 4907.99870256244\n",
            "Difference B/W Mean Tuition of 20 Schools 1 and Sample School 1 : 6962.4 \n",
            "\n",
            "Mean Tuition of All Schools : 8572.00129743756\n",
            "Mean Tuition of 20 Schools 2 : 10631.8\n",
            "Difference B/W Mean Tuition of All Schools and Mean Tuition of 20 Schools 2 : 2059.798702562439\n",
            "Difference B/W Mean Tuition of All Schools and Sample School 2 : 4069.0012974375604\n",
            "Difference B/W Mean Tuition of 20 Schools 2 and Sample School 2 : 6128.799999999999 \n",
            "\n",
            "Mean Tuition of All Schools : 8572.00129743756\n",
            "Mean Tuition of 20 Schools 3 : 7817.55\n",
            "Difference B/W Mean Tuition of All Schools and Mean Tuition of 20 Schools 3 : 754.4512974375602\n",
            "Difference B/W Mean Tuition of All Schools and Sample School 3 : 9627.99870256244\n",
            "Difference B/W Mean Tuition of 20 Schools 3 and Sample School 3 : 10382.45 \n",
            "\n",
            "Mean Tuition of All Schools : 8572.00129743756\n",
            "Mean Tuition of 20 Schools 4 : 12564.65\n",
            "Difference B/W Mean Tuition of All Schools and Mean Tuition of 20 Schools 4 : 3992.648702562439\n",
            "Difference B/W Mean Tuition of All Schools and Sample School 4 : 6462.00129743756\n",
            "Difference B/W Mean Tuition of 20 Schools 4 and Sample School 4 : 10454.65 \n",
            "\n",
            "Mean Tuition of All Schools : 8572.00129743756\n",
            "Mean Tuition of 20 Schools 5 : 12614.25\n",
            "Difference B/W Mean Tuition of All Schools and Mean Tuition of 20 Schools 5 : 4042.2487025624396\n",
            "Difference B/W Mean Tuition of All Schools and Sample School 5 : 1577.0012974375604\n",
            "Difference B/W Mean Tuition of 20 Schools 5 and Sample School 5 : 5619.25 \n",
            "\n",
            "Mean Tuition of All Schools : 8572.00129743756\n",
            "Mean Tuition of 20 Schools 6 : 10078.95\n",
            "Difference B/W Mean Tuition of All Schools and Mean Tuition of 20 Schools 6 : 1506.9487025624403\n",
            "Difference B/W Mean Tuition of All Schools and Sample School 6 : 6022.00129743756\n",
            "Difference B/W Mean Tuition of 20 Schools 6 and Sample School 6 : 7528.950000000001 \n",
            "\n",
            "Mean Tuition of All Schools : 8572.00129743756\n",
            "Mean Tuition of 20 Schools 7 : 7435.1\n",
            "Difference B/W Mean Tuition of All Schools and Mean Tuition of 20 Schools 7 : 1136.90129743756\n",
            "Difference B/W Mean Tuition of All Schools and Sample School 7 : 5642.00129743756\n",
            "Difference B/W Mean Tuition of 20 Schools 7 and Sample School 7 : 4505.1 \n",
            "\n",
            "Mean Tuition of All Schools : 8572.00129743756\n",
            "Mean Tuition of 20 Schools 8 : 8511.9\n",
            "Difference B/W Mean Tuition of All Schools and Mean Tuition of 20 Schools 8 : 60.10129743756079\n",
            "Difference B/W Mean Tuition of All Schools and Sample School 8 : 4927.99870256244\n",
            "Difference B/W Mean Tuition of 20 Schools 8 and Sample School 8 : 4988.1 \n",
            "\n",
            "Mean Tuition of All Schools : 8572.00129743756\n",
            "Mean Tuition of 20 Schools 9 : 10584.7\n",
            "Difference B/W Mean Tuition of All Schools and Mean Tuition of 20 Schools 9 : 2012.6987025624403\n",
            "Difference B/W Mean Tuition of All Schools and Sample School 9 : 6707.00129743756\n",
            "Difference B/W Mean Tuition of 20 Schools 9 and Sample School 9 : 8719.7 \n",
            "\n"
          ],
          "name": "stdout"
        }
      ]
    },
    {
      "cell_type": "markdown",
      "metadata": {
        "id": "9S0koBp3pqlt"
      },
      "source": [
        "I believe the mean tuition of the 20 sample schools is closer to the mean tuition of all schools because both of those involve using a mean, compared to the sample school which does not necessarily have to be towards the middle of all tuitions (could be on the high or low end)."
      ]
    },
    {
      "cell_type": "markdown",
      "metadata": {
        "id": "0i4lLySc6oKK"
      },
      "source": [
        "## Part 2\n",
        "Write a function that take two input parameters:\n",
        "- x (number of observations) \n",
        "- y (the name of the dataframe). \n",
        "\n",
        "The function will perform the following: \n",
        "- Randomly select x observations from y\n",
        "- Calculate the mean of these x observations \n",
        "- Calculate the mean of all observations\n",
        "- Calculate the difference between the two means \n",
        "- Return the difference"
      ]
    },
    {
      "cell_type": "markdown",
      "metadata": {
        "id": "R3cgvP7aqwsO"
      },
      "source": [
        "**17 - Write function code here**"
      ]
    },
    {
      "cell_type": "code",
      "metadata": {
        "id": "ZblkuSq46oKL"
      },
      "source": [
        "def tuition(x,y):\n",
        "  # x is the number of observations\n",
        "  # y is the name of the dataframe\n",
        "\n",
        "\n",
        "  # randomly select x observations from y\n",
        "  data = y.sample(x)\n",
        "\n",
        "  # calculate the mean of these x observations\n",
        "  mean_data = data['TUITIONFEE_IN'].mean()\n",
        "\n",
        "  # calculate the mean of all observations\n",
        "  mean_y = y['TUITIONFEE_IN'].mean()\n",
        "\n",
        "  # calculate the difference bettwen the two means\n",
        "  diff_data_y = abs(mean_data - mean_y)\n",
        "\n",
        "  # return the difference\n",
        "  return diff_data_y"
      ],
      "execution_count": 24,
      "outputs": []
    },
    {
      "cell_type": "markdown",
      "metadata": {
        "id": "yfRq4Pv0q1pI"
      },
      "source": [
        "**18 - test the function by passing a sample size and the name of the dataframe**\n",
        "* Display the return of the function"
      ]
    },
    {
      "cell_type": "code",
      "metadata": {
        "id": "rCtsaGCy6oKN",
        "outputId": "852499e1-66bb-433e-e0cd-2454fee9ef08",
        "colab": {
          "base_uri": "https://localhost:8080/"
        }
      },
      "source": [
        "test_diff = tuition(5, df_filter)\n",
        "print(test_diff)"
      ],
      "execution_count": 25,
      "outputs": [
        {
          "output_type": "stream",
          "text": [
            "303.9987025624396\n"
          ],
          "name": "stdout"
        }
      ]
    },
    {
      "cell_type": "markdown",
      "metadata": {
        "id": "IVaoC1dmq_G5"
      },
      "source": [
        "**19 - Create a list of sequence numbers from 1 to 50, name it \"sample_sizes\"**\n",
        "* Display it to make sure its members are from 1 to 50"
      ]
    },
    {
      "cell_type": "code",
      "metadata": {
        "id": "0I58wyGH6oKP",
        "outputId": "b70b26f5-22b7-46dd-b4dd-b30813b46f21",
        "colab": {
          "base_uri": "https://localhost:8080/"
        }
      },
      "source": [
        "# create a list of sequence numbers\n",
        "sample_sizes = list(range(1,51))\n",
        "\n",
        "# display list\n",
        "print(sample_sizes)"
      ],
      "execution_count": 26,
      "outputs": [
        {
          "output_type": "stream",
          "text": [
            "[1, 2, 3, 4, 5, 6, 7, 8, 9, 10, 11, 12, 13, 14, 15, 16, 17, 18, 19, 20, 21, 22, 23, 24, 25, 26, 27, 28, 29, 30, 31, 32, 33, 34, 35, 36, 37, 38, 39, 40, 41, 42, 43, 44, 45, 46, 47, 48, 49, 50]\n"
          ],
          "name": "stdout"
        }
      ]
    },
    {
      "cell_type": "markdown",
      "metadata": {
        "id": "BmW59tA9rWUz"
      },
      "source": [
        "**20 - Create an empty list and name it \"means_diff\" for differences of population mean and sample means; Loop through the list sample_size**\n",
        "* For each element in the sample size list, obtain a random sample of that size from the dataframe\n",
        "* Calculate the sample mean\n",
        "* Calculate the difference between the population mean and the sample mean\n",
        "* Append the difference between the population mean and the sample mean\n",
        "* Append the difference to the list \"means_diff\"\n",
        "* Display the list \"means_diff\" after the loop is completed"
      ]
    },
    {
      "cell_type": "code",
      "metadata": {
        "id": "sBWwbejh6oKR"
      },
      "source": [
        "# create an empty list\n",
        "means_diff = []\n",
        "\n",
        "for element in sample_sizes:\n",
        "  # sample mean is calculated in 'tuition' function\n",
        "  # 'tuition' function returns the difference between the pop mean and sample mean\n",
        "  sample_diff = tuition(element, df_filter)\n",
        "\n",
        "  # append the difference to the list\n",
        "  means_diff.append(sample_diff)\n"
      ],
      "execution_count": 27,
      "outputs": []
    },
    {
      "cell_type": "code",
      "metadata": {
        "id": "oqGSO2J3zw5g",
        "outputId": "edcb19c7-5a5a-4d9a-8161-24a093f4998c",
        "colab": {
          "base_uri": "https://localhost:8080/"
        }
      },
      "source": [
        "# display the list\n",
        "print(means_diff)"
      ],
      "execution_count": 28,
      "outputs": [
        {
          "output_type": "stream",
          "text": [
            "[10357.99870256244, 3119.9987025624396, 2822.3346307708935, 99.24870256243958, 2515.40129743756, 312.33463077089436, 4731.99870256244, 116.75129743756042, 200.44574188200568, 3249.101297437561, 1663.6350661988035, 1698.4179641042274, 644.1551435914062, 1592.0727260089889, 1238.2679641042268, 345.7487025624396, 1300.295415084619, 387.0568529931161, 528.6302815098079, 2390.90129743756, 1525.3796549433919, 733.2714298351675, 1041.0012974375604, 503.8762974375604, 1059.9212974375605, 2267.5397589760223, 483.9987025624396, 196.92727399101022, 614.8262887693363, 362.734630770894, 874.6761219172786, 871.7799525624396, 2450.6679641042274, 756.2634084447927, 162.22727399101132, 1081.640186326449, 3007.106810670548, 2195.3671236150713, 950.9756564119198, 1653.1737025624388, 901.7060196356106, 7.689178752916632, 701.231260701974, 210.70584289210638, 570.9098136735502, 28.088253959300346, 974.7672548843693, 853.2512974375604, 349.7129882767258, 415.7587025624398]\n"
          ],
          "name": "stdout"
        }
      ]
    },
    {
      "cell_type": "markdown",
      "metadata": {
        "id": "_V2AxjT-sMeA"
      },
      "source": [
        "**21 - Make a scatter plot with sample size on the x-axis and mean difference on the y-axis**\n",
        "* Observe as the sample size increase, the sample mean converge to the population mean\n",
        "* Make sure you make the plot large enough"
      ]
    },
    {
      "cell_type": "code",
      "metadata": {
        "id": "hctC-tMH1Axv",
        "outputId": "128d6046-1bac-4d0c-bf62-0a8eeebaecd6",
        "colab": {
          "base_uri": "https://localhost:8080/"
        }
      },
      "source": [
        "# what is the overall population mean\n",
        "print(tuition_mean)"
      ],
      "execution_count": 29,
      "outputs": [
        {
          "output_type": "stream",
          "text": [
            "8572.00129743756\n"
          ],
          "name": "stdout"
        }
      ]
    },
    {
      "cell_type": "code",
      "metadata": {
        "id": "CZxUYK6b6oKU",
        "outputId": "28ef92ab-9b0a-4406-cd43-40c2bdc5149e",
        "colab": {
          "base_uri": "https://localhost:8080/",
          "height": 296
        }
      },
      "source": [
        "plt.scatter(sample_sizes, means_diff)\n",
        "plt.xlabel('Sample Size')\n",
        "plt.ylabel('Tuition Difference')"
      ],
      "execution_count": 30,
      "outputs": [
        {
          "output_type": "execute_result",
          "data": {
            "text/plain": [
              "Text(0, 0.5, 'Tuition Difference')"
            ]
          },
          "metadata": {
            "tags": []
          },
          "execution_count": 30
        },
        {
          "output_type": "display_data",
          "data": {
            "image/png": "[encoded data removed]",
            "text/plain": [
              "<Figure size 432x288 with 1 Axes>"
            ]
          },
          "metadata": {
            "tags": [],
            "needs_background": "light"
          }
        }
      ]
    },
    {
      "cell_type": "markdown",
      "metadata": {
        "id": "V9GctxM31Gg_"
      },
      "source": [
        "You can see as the sample size increases, it is slowly starting to get closer to the overall mean, $9963.59."
      ]
    },
    {
      "cell_type": "markdown",
      "metadata": {
        "id": "yTDnMCyVsfCl"
      },
      "source": [
        "**22 - repeat 18 to 21 by replacing 50 with a larger number. For example, 300, or even 1000**\n",
        "* See how the plot looks"
      ]
    },
    {
      "cell_type": "code",
      "metadata": {
        "id": "tD8z_VyB6oKW"
      },
      "source": [
        "# create new sample sizes list with larger number\n",
        "sample_sizes = list(range(1,501))"
      ],
      "execution_count": 31,
      "outputs": []
    },
    {
      "cell_type": "code",
      "metadata": {
        "id": "6-TT1mbH02vG"
      },
      "source": [
        "# create an empty list\n",
        "means_diff = []\n",
        "\n",
        "for element in sample_sizes:\n",
        "  # sample mean is calculated in 'tuition' function\n",
        "  # 'tuition' function returns the difference between the pop mean and sample mean\n",
        "  sample_diff = tuition(element, df_filter)\n",
        "\n",
        "  # append the difference to the list\n",
        "  means_diff.append(sample_diff)"
      ],
      "execution_count": 32,
      "outputs": []
    },
    {
      "cell_type": "code",
      "metadata": {
        "id": "5uruG7oa07FV",
        "outputId": "188e7e94-05a1-4692-839e-d7b252633506",
        "colab": {
          "base_uri": "https://localhost:8080/"
        }
      },
      "source": [
        "# display the list\n",
        "print(means_diff)"
      ],
      "execution_count": 33,
      "outputs": [
        {
          "output_type": "stream",
          "text": [
            "[6082.00129743756, 4294.00129743756, 3277.3346307708935, 2609.5012974375604, 4117.19870256244, 59.501297437560424, 4653.712988276726, 1247.4987025624396, 1631.223519659783, 610.3987025624392, 1065.2714298351675, 3704.9987025624396, 830.1525487162853, 3107.42727399101, 3169.8653692291064, 1588.7487025624396, 1262.8810555036162, 347.3320358957735, 3773.946070983493, 3183.90129743756, 1211.6653692291056, 3010.7285701648334, 900.8273843940824, 470.54036922910564, 987.0812974375604, 967.8089897452528, 504.70240626614395, 161.78441684815334, 920.1366335969215, 55.90129743756006, 1036.9367813085282, 1546.8112025624396, 1972.4255398618025, 1346.6751731506756, 225.6298688661318, 1512.806852993116, 196.3256217618855, 3401.1829130887545, 404.87309230935534, 707.8512974375608, 1435.7817852424387, 1042.7155831518457, 79.7661444229052, 63.796751983014474, 629.7987025624388, 476.65347135060347, 70.10508554116313, 922.0429641042274, 896.3890525396009, 1086.7987025624388, 1280.4326699865796, 27.517933331670065, 377.52700444923175, 628.2949988587352, 494.40129743756006, 838.8558454195827, 1224.9837535779116, 1674.3952542865773, 829.7275161217622, 313.1987025624403, 21.01769088018409, 691.1438638527616, 1740.7606073243442, 744.3424525624396, 959.5371641009006, 648.7865813503176, 159.62556823408158, 892.133650378737, 1418.6218909682375, 380.9727260089894, 235.46349129483315, 459.6237025624396, 370.1767847542196, 355.7040001402638, 53.91870256243965, 720.1039657203346, 595.4428558791187, 855.4884769247401, 114.3683860451547, 988.8737025624396, 235.48018404392133, 1066.2208096326822, 827.9290082809339, 600.1891787529166, 289.8248268493244, 209.3824234926724, 1499.2055991141642, 915.3422065284694, 693.4706126747988, 341.4346307708929, 1667.298000734264, 462.0991235245174, 726.6679641042274, 642.1927867992626, 24.348665858613458, 28.959630770894364, 27.722946922096526, 355.90946070286736, 277.44314700688483, 223.51129743756064, 509.75117780996516, 1137.0012974375604, 1321.4647219799153, 433.73908717782433, 781.153678389941, 1267.1428068715231, 118.55269930671966, 1099.2672210809578, 369.98035393858663, 379.49220652847, 277.8301262663899, 326.39155970529646, 1235.7597645093429, 604.1328763849287, 817.6247895189608, 276.90387497623306, 156.65087008713272, 191.38265336976292, 132.72398651319054, 1079.265369229106, 1282.323611487147, 267.48490399493676, 859.9606470310564, 715.7432329214316, 168.14529743756066, 1241.0806625169253, 642.5997226344107, 295.9127650624396, 700.7842431739946, 97.12947179320872, 367.94786232305705, 713.7285701648334, 635.5952823999669, 2166.0684616166645, 114.54203817830057, 525.1851209669721, 476.46115145215936, 177.2549206259664, 1158.087628372812, 605.9772739910113, 1082.930375451745, 601.5083396910813, 615.7259752897116, 826.661019659783, 315.0357801961818, 886.3206203706595, 753.763202199465, 459.9243782381145, 309.78653233688965, 206.33870256243972, 142.23049064191036, 106.52501835191288, 1313.194780993812, 674.0636376273742, 871.5432329214318, 342.8089897452519, 152.2688133611282, 220.4823100957874, 184.6365175633473, 390.09870256243994, 6.833595574205901, 740.9087048449683, 42.47723016980126, 263.5596781721961, 130.29826713453076, 897.8179796708737, 648.9867265145349, 594.2929641042274, 541.685093094984, 662.6012974375608, 1301.5042214141686, 337.04780906546694, 66.10274880521501, 450.5357801961809, 1000.8158454195818, 618.7202934715297, 516.6766686641349, 407.6810727184593, 80.12160759037215, 606.6653692291056, 248.58140793479834, 109.63316556942846, 127.67629819085414, 93.26500691026558, 196.8095133732495, 532.361512491324, 364.9880073752738, 131.2938506290502, 385.35050378676715, 336.54080782559686, 678.71598004935, 653.6679641042274, 86.63860313704208, 108.26418403549906, 111.59357435731181, 26.113542335519014, 66.23987611776283, 684.7184691547318, 278.58161713530353, 1082.2837025624394, 535.4564140052262, 109.69931723954141, 172.32642059027057, 935.2463954767763, 772.845199876585, 110.74627537797278, 869.022857151811, 416.2102410239786, 331.18311561937844, 640.2917736280369, 611.8069846413518, 504.24186347529667, 408.4942551840395, 1177.853842749355, 860.6989718561654, 96.7579618216987, 828.780099280878, 532.228060360605, 789.1428499489757, 769.174024710288, 478.17064826379647, 7.974270410533791, 119.69188039720211, 41.260226008989775, 5.77018632645013, 375.1207664641097, 68.66830608666896, 224.1785271238423, 121.69739251877218, 173.9508764754828, 701.6696982334361, 299.48836640307854, 258.2845592401354, 16.185058121320253, 15.580020841814985, 840.2809584545093, 1069.8088291447184, 220.76761012546558, 618.7376991112005, 454.672130770894, 527.2585588483489, 48.84581000045546, 6.449857108342258, 428.27998596215093, 809.3048250114189, 747.0378828034145, 32.952714441609714, 143.82387808272142, 39.635835590170245, 253.15729743756128, 442.90567990767977, 248.48939267565584, 66.94731916322962, 104.89893523283536, 428.5320358957724, 563.7669224375604, 232.9935153363931, 48.0516850344593, 390.59589203215546, 620.3936051298679, 126.52237023449561, 419.9987025624396, 96.79597424364329, 347.9343086230456, 52.64398558130779, 367.95358978048534, 31.3844703527011, 12.756165249007609, 231.58122308811835, 305.5457418820042, 396.80941551874093, 244.75237903302695, 231.66170622544269, 186.88815875142973, 550.1976610739239, 73.57376120567642, 55.080719820231025, 75.90777225770398, 417.38122575297257, 325.41915458041694, 370.91329330976987, 147.40650398087928, 880.5136649287269, 267.4132692685471, 89.66536922910564, 142.459339395602, 155.16854482432063, 277.5855081179943, 455.5168683718166, 84.52888364445607, 545.507293627732, 275.01240119257636, 553.7973373747263, 235.03531104300237, 10.367399132475839, 175.64318932945207, 339.1771537408913, 366.78058175706974, 37.4528024542833, 249.9912974375602, 312.68973246277164, 229.77613187464704, 61.03760106792288, 686.8072184901921, 534.4111335031339, 312.0575260918522, 62.63388171553379, 789.092858406595, 218.73592526927496, 246.1496845343354, 915.2103006529942, 1.9826769214141677, 55.745706383248034, 196.61913183246543, 423.81399585025883, 400.9987025624396, 325.8940419170558, 113.284866084452, 106.60004351906537, 724.8580775624396, 34.25674915095624, 242.29683920840216, 490.95535890918836, 630.4364826227456, 346.13975897602177, 27.001770047101672, 586.8549716755897, 456.0200440258541, 919.0225740333053, 4.334630770894364, 221.18558746777126, 184.08262273876608, 335.2805767168393, 485.8010977720205, 442.3983123629332, 387.40941684815334, 38.428969624754245, 249.35669072812016, 472.7977576145513, 90.42517315067562, 312.9279836545684, 333.67088808083463, 300.24036449295454, 470.4609118647659, 598.9056452636478, 73.34552337168861, 282.34740573246927, 322.4007227249167, 143.88668425704418, 240.7358454195819, 275.61123817497537, 192.1492707442576, 317.191099137277, 549.1907929579193, 295.41256504319426, 288.83275811171734, 473.30682581174005, 96.83110479707648, 333.3216316993985, 104.83185299311663, 842.8489428669236, 49.36886830829644, 807.6073580436214, 319.21283589909945, 514.2506125060536, 603.8593583001439, 51.08317122729022, 747.5992460406997, 171.02839770856372, 41.42562176188403, 352.16302250494664, 247.9288100893209, 36.75473473402053, 31.747365664043173, 507.4573692291069, 265.631681285844, 76.13398107702778, 246.12833219206914, 414.24672367061976, 522.3697551940186, 531.0249194848047, 73.49608476139292, 1.3799036068267014, 229.11848493756042, 120.22467658841379, 39.30181137072941, 129.77649123601077, 86.13787782017243, 81.88559202259421, 82.8551128188501, 134.725045273437, 533.7971719501948, 187.23025472528934, 212.89977459492002, 138.95313294218613, 139.30678337052086, 134.60583144259908, 297.26511653303714, 346.34707348975826, 631.3237025624403, 132.06114781162614, 80.70527753706301, 381.58194259885113, 625.8230796157786, 191.19623342663726, 249.38047596145407, 154.09698266071973, 146.65066334675248, 56.13332677741346, 77.37919036731728, 80.83081935076007, 409.5156928537017, 540.7470601494251, 157.2283505776577, 278.9432808756919, 30.854471793209086, 166.75189695794325, 373.190292652871, 62.108696005579986, 94.05108351481977, 57.95832251493448, 238.1885012290295, 143.76938814163623, 451.2864384114964, 33.076349621263944, 42.1421425079825, 113.39917094651537, 262.5667179983084, 162.58611514985205, 319.1777723298819, 184.36092620786258, 221.37398262274473, 453.09800972179255, 6.07934772372937, 72.44267674790535, 331.198243846844, 196.04248736890986, 348.56491260810253, 174.3745567765618, 312.72402471028727, 343.302884739147, 324.68681779955114, 150.69655703124045, 167.34554940928683, 199.4327581117177, 12.481118065363262, 276.3860849095963, 190.12406529470354, 22.145695880924904, 375.5475914513281, 512.921097240931, 710.9061646941973, 129.08518264727354, 89.42161005142589, 294.9903084265716, 31.650018351912877, 28.285761332526818, 47.4226948174728, 412.4888986408714, 236.26174604070002, 199.2984774809447, 78.99653806027527, 77.04665380905135, 161.43835773485262, 10.607304712977566, 8.818445051709205, 327.3862828622259, 103.8405829043204, 511.0076940260469, 528.8247016928799, 178.8590469067749, 334.9012449353213, 388.9188450062711, 218.81142401983925, 201.12550796387586, 65.49289407621654, 21.458320498357352, 18.61794942436427, 320.8029675836988, 502.3362025624392, 664.2149187786563, 37.96187835042292, 74.08772947755278, 16.344272644171724, 116.15746544903777, 308.66536922910564, 197.26153623800383, 200.90908432280594, 515.1479868160186, 55.92578723347833, 465.76097157198, 693.3848814242283, 59.53217112227685, 31.693034546246054, 107.63564087190389, 214.51541034078582, 19.83974884010604, 248.93645356645538, 105.17305125983512, 123.85870256244016]\n"
          ],
          "name": "stdout"
        }
      ]
    },
    {
      "cell_type": "code",
      "metadata": {
        "id": "mppnp61C07If",
        "outputId": "b4efa724-b738-4027-e563-706e59e4f974",
        "colab": {
          "base_uri": "https://localhost:8080/",
          "height": 296
        }
      },
      "source": [
        "plt.scatter(sample_sizes, means_diff)\n",
        "plt.xlabel('Sample Size')\n",
        "plt.ylabel('Tuition Difference')"
      ],
      "execution_count": 34,
      "outputs": [
        {
          "output_type": "execute_result",
          "data": {
            "text/plain": [
              "Text(0, 0.5, 'Tuition Difference')"
            ]
          },
          "metadata": {
            "tags": []
          },
          "execution_count": 34
        },
        {
          "output_type": "display_data",
          "data": {
            "image/png": "[encoded data removed]",
            "text/plain": [
              "<Figure size 432x288 with 1 Axes>"
            ]
          },
          "metadata": {
            "tags": [],
            "needs_background": "light"
          }
        }
      ]
    },
    {
      "cell_type": "markdown",
      "metadata": {
        "id": "lfxpbPkc1VnJ"
      },
      "source": [
        "Converging to the overall population mean can be more clearly seen as you increase your sample size."
      ]
    },
    {
      "cell_type": "code",
      "metadata": {
        "id": "MjqbewGC6oKZ"
      },
      "source": [
        "# The end - Give yourself a pat on the back!"
      ],
      "execution_count": 35,
      "outputs": []
    }
  ]
}
