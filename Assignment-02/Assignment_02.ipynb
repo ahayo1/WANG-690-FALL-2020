{
  "nbformat": 4,
  "nbformat_minor": 0,
  "metadata": {
    "kernelspec": {
      "display_name": "Python 3",
      "language": "python",
      "name": "python3"
    },
    "language_info": {
      "codemirror_mode": {
        "name": "ipython",
        "version": 3
      },
      "file_extension": ".py",
      "mimetype": "text/x-python",
      "name": "python",
      "nbconvert_exporter": "python",
      "pygments_lexer": "ipython3",
      "version": "3.8.1"
    },
    "colab": {
      "name": "Assignment-02.ipynb",
      "provenance": [],
      "collapsed_sections": []
    }
  },
  "cells": [
    {
      "cell_type": "markdown",
      "metadata": {
        "id": "Av3Px2DAl4QO",
        "colab_type": "text"
      },
      "source": [
        "# Assignment-02 Jupyter Notebook"
      ]
    },
    {
      "cell_type": "markdown",
      "metadata": {
        "id": "ClFhEn_ml4QO",
        "colab_type": "text"
      },
      "source": [
        "## Description\n",
        "Prompts a user to enter 10 integers. If the user enters anything other than integers, remind her that only integers are allowed and let her retry. Don't allow the user to enter more than 10 or less than 10 integers. Display the 10 integers back to the user at the end. Calculate the following statistics from the 10 integers entered:\n",
        "\n",
        "- Minimum\n",
        "- Maximum\n",
        "- Range\n",
        "- Mean\n",
        "- Variance\n",
        "- Standard Deviation"
      ]
    },
    {
      "cell_type": "markdown",
      "metadata": {
        "id": "tkK0W1NGl4QP",
        "colab_type": "text"
      },
      "source": [
        "### 1. Ask the user for 10 integers"
      ]
    },
    {
      "cell_type": "code",
      "metadata": {
        "id": "YaXlg9FRl4QP",
        "colab_type": "code",
        "colab": {
          "base_uri": "https://localhost:8080/",
          "height": 561
        },
        "outputId": "80e9a7d9-d39f-45ce-aa50-92eb2e13bce1"
      },
      "source": [
        "i = 1\n",
        "x = 10 # the number of integers you want, can be easily changed\n",
        "\n",
        "list_int = [] # empty list to hold integers after being verified\n",
        "\n",
        "print(\"Enter \" + str(x) + \" integers:\\n--------------------\")\n",
        "\n",
        "# Only want x number of integers\n",
        "while i <= x:\n",
        "    # Ask user for input\n",
        "    value = input(\"\\nPlease enter an integer:\\n\")\n",
        "    try:\n",
        "      value = int(value)\n",
        "      i += 1\n",
        "      list_int.append(value)\n",
        "    # Only catch the error of a non-int\n",
        "    except ValueError as e:\n",
        "      print(\"The value you entered is not an integer.\")\n",
        "\n"
      ],
      "execution_count": 24,
      "outputs": [
        {
          "output_type": "stream",
          "text": [
            "Enter 10 integers:\n",
            "--------------------\n",
            "\n",
            "Please enter an integer:\n",
            "1\n",
            "\n",
            "Please enter an integer:\n",
            "2\n",
            "\n",
            "Please enter an integer:\n",
            "3\n",
            "\n",
            "Please enter an integer:\n",
            "4\n",
            "\n",
            "Please enter an integer:\n",
            "5\n",
            "\n",
            "Please enter an integer:\n",
            "6\n",
            "\n",
            "Please enter an integer:\n",
            "7\n",
            "\n",
            "Please enter an integer:\n",
            "8\n",
            "\n",
            "Please enter an integer:\n",
            "9\n",
            "\n",
            "Please enter an integer:\n",
            "10\n"
          ],
          "name": "stdout"
        }
      ]
    },
    {
      "cell_type": "markdown",
      "metadata": {
        "id": "TT7Ui_EDwpha",
        "colab_type": "text"
      },
      "source": [
        "### 2. Display the integers back to the user"
      ]
    },
    {
      "cell_type": "code",
      "metadata": {
        "id": "86LaBfZil4QS",
        "colab_type": "code",
        "colab": {
          "base_uri": "https://localhost:8080/",
          "height": 238
        },
        "outputId": "eb6719bb-b6cb-4124-d0a9-cf04f741802b"
      },
      "source": [
        "# Display the integers back to the user\n",
        "print(\"\\nYou entered the following integers:\\n-------------------------------------\")\n",
        "\n",
        "for i in range(len(list_int)):\n",
        "  print(list_int[i])"
      ],
      "execution_count": 25,
      "outputs": [
        {
          "output_type": "stream",
          "text": [
            "\n",
            "You entered the following integers:\n",
            "-------------------------------------\n",
            "1\n",
            "2\n",
            "3\n",
            "4\n",
            "5\n",
            "6\n",
            "7\n",
            "8\n",
            "9\n",
            "10\n"
          ],
          "name": "stdout"
        }
      ]
    },
    {
      "cell_type": "markdown",
      "metadata": {
        "id": "ArTl68Ewwx8L",
        "colab_type": "text"
      },
      "source": [
        "### 3. Calculate the statistics"
      ]
    },
    {
      "cell_type": "code",
      "metadata": {
        "id": "9_6FJDw6rRVO",
        "colab_type": "code",
        "colab": {
          "base_uri": "https://localhost:8080/",
          "height": 170
        },
        "outputId": "0ac7a241-90ba-4d86-a134-89c5bbb0761c"
      },
      "source": [
        "# Calculate the statistics\n",
        "\n",
        "import numpy as np\n",
        "\n",
        "print(\"\\nCalculated Statistics:\\n------------------------\")\n",
        "\n",
        "print(\"Minimum:\", min(list_int))\n",
        "print(\"Maximum:\", max(list_int))\n",
        "print(\"Range:\", max(list_int)-min(list_int))\n",
        "print(\"Mean:\", sum(list_int)/len(list_int))\n",
        "print(\"Variance:\", np.var(list_int))\n",
        "print(\"Standard Deviation:\", np.std(list_int))"
      ],
      "execution_count": 26,
      "outputs": [
        {
          "output_type": "stream",
          "text": [
            "\n",
            "Calculated Statistics:\n",
            "------------------------\n",
            "Minimum: 1\n",
            "Maximum: 10\n",
            "Range: 9\n",
            "Mean: 5.5\n",
            "Variance: 8.25\n",
            "Standard Deviation: 2.8722813232690143\n"
          ],
          "name": "stdout"
        }
      ]
    },
    {
      "cell_type": "code",
      "metadata": {
        "id": "Mb6yeELprrwu",
        "colab_type": "code",
        "colab": {}
      },
      "source": [
        ""
      ],
      "execution_count": null,
      "outputs": []
    }
  ]
}
