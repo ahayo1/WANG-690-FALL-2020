{
  "nbformat": 4,
  "nbformat_minor": 0,
  "metadata": {
    "kernelspec": {
      "display_name": "Python 3",
      "language": "python",
      "name": "python3"
    },
    "language_info": {
      "codemirror_mode": {
        "name": "ipython",
        "version": 3
      },
      "file_extension": ".py",
      "mimetype": "text/x-python",
      "name": "python",
      "nbconvert_exporter": "python",
      "pygments_lexer": "ipython3",
      "version": "3.8.1"
    },
    "colab": {
      "name": "Assignment-02.ipynb",
      "provenance": [],
      "collapsed_sections": []
    }
  },
  "cells": [
    {
      "cell_type": "markdown",
      "metadata": {
        "id": "Av3Px2DAl4QO",
        "colab_type": "text"
      },
      "source": [
        "# Assignment-02 Jupyter Notebook"
      ]
    },
    {
      "cell_type": "markdown",
      "metadata": {
        "id": "ClFhEn_ml4QO",
        "colab_type": "text"
      },
      "source": [
        "## Description\n",
        "Prompts a user to enter 10 integers. If the user enters anything other than integers, remind her that only integers are allowed and let her retry. Don't allow the user to enter more than 10 or less than 10 integers. Display the 10 integers back to the user at the end. Calculate the following statistics from the 10 integers entered:\n",
        "\n",
        "- Minimum\n",
        "- Maximum\n",
        "- Range\n",
        "- Mean\n",
        "- Variance\n",
        "- Standard Deviation"
      ]
    },
    {
      "cell_type": "markdown",
      "metadata": {
        "id": "tkK0W1NGl4QP",
        "colab_type": "text"
      },
      "source": [
        "### 1. Ask the user for 10 integers"
      ]
    },
    {
      "cell_type": "code",
      "metadata": {
        "id": "YaXlg9FRl4QP",
        "colab_type": "code",
        "colab": {
          "base_uri": "https://localhost:8080/",
          "height": 697
        },
        "outputId": "5c42259e-dc78-41c9-fd99-329af0e9af64"
      },
      "source": [
        "i = 1\n",
        "x = 10 # the number of integers you want, can be easily changed\n",
        "\n",
        "list_int = [] # empty list to hold integers after being verified\n",
        "\n",
        "print(\"Enter \" + str(x) + \" integers:\\n--------------------\")\n",
        "\n",
        "# Only want x number of integers\n",
        "while i <= x:\n",
        "    # Ask user for input\n",
        "    value = input(\"\\nPlease enter an integer:\\n\")\n",
        "    try:\n",
        "      value = int(value)\n",
        "      i += 1\n",
        "      list_int.append(value)\n",
        "    # Only catch the error of a non-int\n",
        "    except ValueError as e:\n",
        "      print(\"The value you entered is not an integer.\")\n",
        "\n"
      ],
      "execution_count": 1,
      "outputs": [
        {
          "output_type": "stream",
          "text": [
            "Enter 10 integers:\n",
            "--------------------\n",
            "\n",
            "Please enter an integer:\n",
            "3\n",
            "\n",
            "Please enter an integer:\n",
            "five\n",
            "The value you entered is not an integer.\n",
            "\n",
            "Please enter an integer:\n",
            "5\n",
            "\n",
            "Please enter an integer:\n",
            "10\n",
            "\n",
            "Please enter an integer:\n",
            "9.0\n",
            "The value you entered is not an integer.\n",
            "\n",
            "Please enter an integer:\n",
            "9\n",
            "\n",
            "Please enter an integer:\n",
            "2\n",
            "\n",
            "Please enter an integer:\n",
            "1\n",
            "\n",
            "Please enter an integer:\n",
            "4\n",
            "\n",
            "Please enter an integer:\n",
            "7\n",
            "\n",
            "Please enter an integer:\n",
            "6\n",
            "\n",
            "Please enter an integer:\n",
            "8\n"
          ],
          "name": "stdout"
        }
      ]
    },
    {
      "cell_type": "markdown",
      "metadata": {
        "id": "TT7Ui_EDwpha",
        "colab_type": "text"
      },
      "source": [
        "### 2. Display the integers back to the user"
      ]
    },
    {
      "cell_type": "code",
      "metadata": {
        "id": "86LaBfZil4QS",
        "colab_type": "code",
        "colab": {
          "base_uri": "https://localhost:8080/",
          "height": 238
        },
        "outputId": "a9be3ba6-f7da-4eae-c3f2-36ebc08c34c5"
      },
      "source": [
        "# Display the integers back to the user\n",
        "print(\"\\nYou entered the following integers:\\n-------------------------------------\")\n",
        "\n",
        "for i in list_int:\n",
        "  print(i)"
      ],
      "execution_count": 2,
      "outputs": [
        {
          "output_type": "stream",
          "text": [
            "\n",
            "You entered the following integers:\n",
            "-------------------------------------\n",
            "3\n",
            "5\n",
            "10\n",
            "9\n",
            "2\n",
            "1\n",
            "4\n",
            "7\n",
            "6\n",
            "8\n"
          ],
          "name": "stdout"
        }
      ]
    },
    {
      "cell_type": "markdown",
      "metadata": {
        "id": "ArTl68Ewwx8L",
        "colab_type": "text"
      },
      "source": [
        "### 3. Calculate the statistics"
      ]
    },
    {
      "cell_type": "markdown",
      "metadata": {
        "id": "ANae5vn8Dnh7",
        "colab_type": "text"
      },
      "source": [
        "Minimum, Maximum, Sum, Length"
      ]
    },
    {
      "cell_type": "code",
      "metadata": {
        "id": "P_ArxrpjDl-T",
        "colab_type": "code",
        "colab": {}
      },
      "source": [
        "min = list_int[0]\n",
        "max = list_int[0]\n",
        "s = 0    # s will be used for sum\n",
        "l = 0    # l will be used for length\n",
        "\n",
        "for i in list_int:\n",
        "  # assign new minimum if value is less than current min\n",
        "  if i < min:\n",
        "    min = i\n",
        "\n",
        "  # assign new max if value is greater than current max  \n",
        "  if i > max:\n",
        "    max = i\n",
        "  \n",
        "  # add all of the values together in preperation for mean\n",
        "  s = s + i\n",
        "\n",
        "  l = l + 1\n"
      ],
      "execution_count": 3,
      "outputs": []
    },
    {
      "cell_type": "markdown",
      "metadata": {
        "id": "AMvDC-ENFlqI",
        "colab_type": "text"
      },
      "source": [
        "Variance"
      ]
    },
    {
      "cell_type": "code",
      "metadata": {
        "id": "GKeDXKU_HclJ",
        "colab_type": "code",
        "colab": {}
      },
      "source": [
        "# Pass through the list of values, sum of values within the list, and the length of the list\n",
        "def variance(list_name,sum_val, len_val):\n",
        "  # calculate average to be used later\n",
        "  average = sum_val/len_val\n",
        "\n",
        "  # prepare to calculate variance\n",
        "  a=[]\n",
        "  for i in list_name:\n",
        "    a.append((i-average)**2)\n",
        "\n",
        "  # get the sum and length of the new list that is being used for variance\n",
        "  len_a = 0\n",
        "  sum_a = 0\n",
        "  for i in a:\n",
        "    len_a = len_a + 1\n",
        "    sum_a = sum_a + i\n",
        "\n",
        "  # return the variance\n",
        "  return sum_a/len_a"
      ],
      "execution_count": 4,
      "outputs": []
    },
    {
      "cell_type": "markdown",
      "metadata": {
        "id": "V4gakux4K2fA",
        "colab_type": "text"
      },
      "source": [
        "Standard Deviation"
      ]
    },
    {
      "cell_type": "code",
      "metadata": {
        "id": "6tUycjXnK5hv",
        "colab_type": "code",
        "colab": {}
      },
      "source": [
        "# Pass through the list of values, sum of values within the list, and the length of the list\n",
        "def std_dev(list_name, sum_val, len_name):\n",
        "  # calculate average of list to be used later\n",
        "  average = sum_val/len_name\n",
        "\n",
        "  # if there is less/only one value, the standart dev will be 0\n",
        "  if len_name <= 1:\n",
        "    return 0.0\n",
        "  \n",
        "  \n",
        "\n",
        "  # Calculate Standard Deviation\n",
        "  top_half = 0.0\n",
        "\n",
        "  for i in list_name:\n",
        "    top_half += (i-average)**2\n",
        "  sd = (top_half/len_name)**(1/2)\n",
        "\n",
        "  # return the standard deviation\n",
        "  return sd\n"
      ],
      "execution_count": 5,
      "outputs": []
    },
    {
      "cell_type": "markdown",
      "metadata": {
        "id": "sM5ypLxSSZa3",
        "colab_type": "text"
      },
      "source": [
        "### 4.Display the Statistics"
      ]
    },
    {
      "cell_type": "code",
      "metadata": {
        "id": "9_6FJDw6rRVO",
        "colab_type": "code",
        "colab": {
          "base_uri": "https://localhost:8080/",
          "height": 170
        },
        "outputId": "91a762e4-a2b9-421c-8ee5-3344d3197fda"
      },
      "source": [
        "# Display the statistics\n",
        "\n",
        "print(\"\\nCalculated Statistics:\\n------------------------\")\n",
        "\n",
        "print(\"Minimum:\", min)\n",
        "print(\"Maximum:\", max)\n",
        "print(\"Range:\", max-min)\n",
        "print(\"Mean:\", s/l)\n",
        "print(\"Variance:\", variance(list_int,s,l))\n",
        "print(\"Standard Deviation:\", std_dev(list_int,s,l))"
      ],
      "execution_count": 6,
      "outputs": [
        {
          "output_type": "stream",
          "text": [
            "\n",
            "Calculated Statistics:\n",
            "------------------------\n",
            "Minimum: 1\n",
            "Maximum: 10\n",
            "Range: 9\n",
            "Mean: 5.5\n",
            "Variance: 8.25\n",
            "Standard Deviation: 2.8722813232690143\n"
          ],
          "name": "stdout"
        }
      ]
    },
    {
      "cell_type": "code",
      "metadata": {
        "id": "Mb6yeELprrwu",
        "colab_type": "code",
        "colab": {}
      },
      "source": [
        ""
      ],
      "execution_count": 6,
      "outputs": []
    }
  ]
}