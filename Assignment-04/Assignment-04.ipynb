{
  "nbformat": 4,
  "nbformat_minor": 0,
  "metadata": {
    "colab": {
      "name": "StatsViz-Hw4.ipynb",
      "provenance": [],
      "toc_visible": true
    },
    "kernelspec": {
      "name": "python3",
      "display_name": "Python 3"
    }
  },
  "cells": [
    {
      "cell_type": "markdown",
      "metadata": {
        "id": "lke2-X7n97bd",
        "colab_type": "text"
      },
      "source": [
        "# Assignment 04 \n",
        "https://github.com/wcj365/python-stats-dataviz/blob/master/assignment_fall2020/assignment_04.md"
      ]
    },
    {
      "cell_type": "markdown",
      "metadata": {
        "id": "xWp6Z4DR966e",
        "colab_type": "text"
      },
      "source": [
        "## Question 1\n",
        "Write code to open the text file census_cost.txt and read all lines into a list named **line_list**. Print **line_list**."
      ]
    },
    {
      "cell_type": "code",
      "metadata": {
        "id": "ASrOzPBi92kY",
        "colab_type": "code",
        "colab": {}
      },
      "source": [
        "# Open census_cost.txt\n",
        "with open(\"census_cost.txt\", \"rt\") as my_file:\n",
        "  line_list = my_file.readlines()"
      ],
      "execution_count": 1,
      "outputs": []
    },
    {
      "cell_type": "code",
      "metadata": {
        "id": "aerwgcND_rwS",
        "colab_type": "code",
        "colab": {
          "base_uri": "https://localhost:8080/",
          "height": 54
        },
        "outputId": "b9978902-3347-46fd-f8f3-6dd7c7af08ab"
      },
      "source": [
        "# Print line_list\n",
        "print(line_list)"
      ],
      "execution_count": 2,
      "outputs": [
        {
          "output_type": "stream",
          "text": [
            "['Source: https://www.genealogybranches.com/censuscosts.html\\n', 'Census Year\\tTotal Population\\tCensus Cost\\tAverage Cost Per Person\\n', '1790\\t3,929,214\\t$44,377\\t1.13 cents\\n', '1800\\t5,308,483\\t$66,109\\t1.24 cents\\n', '1810\\t7,239,881\\t$178,445\\t2.46 cents\\n', '1820\\t9,633,822\\t$208,526\\t2.16 cents\\n', '1830\\t12,866,020\\t$378,545\\t2.94 cents\\n', '1840\\t17,069,458\\t$833,371\\t4.88 cents\\n', '1850\\t23,191,876\\t$1,423,351\\t6.14 cents\\n', '1860\\t31,443,321\\t$1,969,377\\t6.26 cents\\n', '1870\\t38,558,371\\t$3,421,198\\t8.87 cents\\n', '1880\\t50,155,783\\t$5,790,678\\t11.54 cents\\n', '1890\\t62,979,766\\t$11,547,127\\t18.33 cents\\n', '1900\\t76,303,387\\t$11,854,000\\t15.54 cents\\n', '1910\\t91,972,266\\t$15,968,000\\t17.07 cents\\n', '1920\\t105,710,620\\t$25,117,000\\t23.76 cents\\n', '1930\\t122,775,046\\t$40,156,000\\t32.71 cents\\n', '1940\\t131,669,275\\t$67,527,000\\t51.29 cents\\n', '1950\\t151,325,798\\t$91,462,000\\t60.44 cents\\n', '1960\\t179,323,175\\t$127,934,000\\t71.34 cents\\n', '1970\\t203,302,031\\t$247,653,000\\t$1.22\\n', '1980\\t226,542,199\\t$1,078,488,000\\t$4.76\\n', '1990\\t248,718,301\\t$2,492,830,000\\t$10.02\\n', '2000\\t281,421,906\\t$4.5 Billion\\t$15.99\\n', '2010*\\t308,745,538\\t$13 Billion\\t$42.11']\n"
          ],
          "name": "stdout"
        }
      ]
    },
    {
      "cell_type": "code",
      "metadata": {
        "id": "nWa5kvbS_5hk",
        "colab_type": "code",
        "colab": {
          "base_uri": "https://localhost:8080/",
          "height": 850
        },
        "outputId": "c033f0c1-a35e-4379-dc1d-e2d360c484b6"
      },
      "source": [
        "# Easier print view of line_list\n",
        "for i in line_list:\n",
        "  print(i)"
      ],
      "execution_count": 3,
      "outputs": [
        {
          "output_type": "stream",
          "text": [
            "Source: https://www.genealogybranches.com/censuscosts.html\n",
            "\n",
            "Census Year\tTotal Population\tCensus Cost\tAverage Cost Per Person\n",
            "\n",
            "1790\t3,929,214\t$44,377\t1.13 cents\n",
            "\n",
            "1800\t5,308,483\t$66,109\t1.24 cents\n",
            "\n",
            "1810\t7,239,881\t$178,445\t2.46 cents\n",
            "\n",
            "1820\t9,633,822\t$208,526\t2.16 cents\n",
            "\n",
            "1830\t12,866,020\t$378,545\t2.94 cents\n",
            "\n",
            "1840\t17,069,458\t$833,371\t4.88 cents\n",
            "\n",
            "1850\t23,191,876\t$1,423,351\t6.14 cents\n",
            "\n",
            "1860\t31,443,321\t$1,969,377\t6.26 cents\n",
            "\n",
            "1870\t38,558,371\t$3,421,198\t8.87 cents\n",
            "\n",
            "1880\t50,155,783\t$5,790,678\t11.54 cents\n",
            "\n",
            "1890\t62,979,766\t$11,547,127\t18.33 cents\n",
            "\n",
            "1900\t76,303,387\t$11,854,000\t15.54 cents\n",
            "\n",
            "1910\t91,972,266\t$15,968,000\t17.07 cents\n",
            "\n",
            "1920\t105,710,620\t$25,117,000\t23.76 cents\n",
            "\n",
            "1930\t122,775,046\t$40,156,000\t32.71 cents\n",
            "\n",
            "1940\t131,669,275\t$67,527,000\t51.29 cents\n",
            "\n",
            "1950\t151,325,798\t$91,462,000\t60.44 cents\n",
            "\n",
            "1960\t179,323,175\t$127,934,000\t71.34 cents\n",
            "\n",
            "1970\t203,302,031\t$247,653,000\t$1.22\n",
            "\n",
            "1980\t226,542,199\t$1,078,488,000\t$4.76\n",
            "\n",
            "1990\t248,718,301\t$2,492,830,000\t$10.02\n",
            "\n",
            "2000\t281,421,906\t$4.5 Billion\t$15.99\n",
            "\n",
            "2010*\t308,745,538\t$13 Billion\t$42.11\n"
          ],
          "name": "stdout"
        }
      ]
    },
    {
      "cell_type": "markdown",
      "metadata": {
        "id": "KpchrP9UAK3P",
        "colab_type": "text"
      },
      "source": [
        "## Question 2\n",
        "Extract the first two lines and put them in a different list named **top2_list**. You will need to use them later. Print the **top2_list**."
      ]
    },
    {
      "cell_type": "code",
      "metadata": {
        "id": "Jb_gvMCzADDR",
        "colab_type": "code",
        "colab": {}
      },
      "source": [
        "# Extract first 2 lines of line_list\n",
        "top2_list = line_list[:2]"
      ],
      "execution_count": 4,
      "outputs": []
    },
    {
      "cell_type": "code",
      "metadata": {
        "id": "_2nHubEL_-vt",
        "colab_type": "code",
        "colab": {
          "base_uri": "https://localhost:8080/",
          "height": 34
        },
        "outputId": "95fad3b6-d873-41d0-f707-09d5078c8237"
      },
      "source": [
        "# Print top2_list\n",
        "print(top2_list)"
      ],
      "execution_count": 5,
      "outputs": [
        {
          "output_type": "stream",
          "text": [
            "['Source: https://www.genealogybranches.com/censuscosts.html\\n', 'Census Year\\tTotal Population\\tCensus Cost\\tAverage Cost Per Person\\n']\n"
          ],
          "name": "stdout"
        }
      ]
    },
    {
      "cell_type": "markdown",
      "metadata": {
        "id": "g14NJu8ZA8FF",
        "colab_type": "text"
      },
      "source": [
        "## Question 2\n",
        "Put the rest of the lines (containing useful data elements) in a new list named **data_list**. Print **data_list**."
      ]
    },
    {
      "cell_type": "code",
      "metadata": {
        "id": "NUl8tZ6MAqlN",
        "colab_type": "code",
        "colab": {}
      },
      "source": [
        "# Extract the data lines\n",
        "data_list = line_list[2:]"
      ],
      "execution_count": 6,
      "outputs": []
    },
    {
      "cell_type": "code",
      "metadata": {
        "id": "1zSd7R0sBzwZ",
        "colab_type": "code",
        "colab": {
          "base_uri": "https://localhost:8080/",
          "height": 54
        },
        "outputId": "afe4e14e-95b8-4610-9ea1-ffcb2fd50286"
      },
      "source": [
        "# Print data_list\n",
        "print(data_list)"
      ],
      "execution_count": 7,
      "outputs": [
        {
          "output_type": "stream",
          "text": [
            "['1790\\t3,929,214\\t$44,377\\t1.13 cents\\n', '1800\\t5,308,483\\t$66,109\\t1.24 cents\\n', '1810\\t7,239,881\\t$178,445\\t2.46 cents\\n', '1820\\t9,633,822\\t$208,526\\t2.16 cents\\n', '1830\\t12,866,020\\t$378,545\\t2.94 cents\\n', '1840\\t17,069,458\\t$833,371\\t4.88 cents\\n', '1850\\t23,191,876\\t$1,423,351\\t6.14 cents\\n', '1860\\t31,443,321\\t$1,969,377\\t6.26 cents\\n', '1870\\t38,558,371\\t$3,421,198\\t8.87 cents\\n', '1880\\t50,155,783\\t$5,790,678\\t11.54 cents\\n', '1890\\t62,979,766\\t$11,547,127\\t18.33 cents\\n', '1900\\t76,303,387\\t$11,854,000\\t15.54 cents\\n', '1910\\t91,972,266\\t$15,968,000\\t17.07 cents\\n', '1920\\t105,710,620\\t$25,117,000\\t23.76 cents\\n', '1930\\t122,775,046\\t$40,156,000\\t32.71 cents\\n', '1940\\t131,669,275\\t$67,527,000\\t51.29 cents\\n', '1950\\t151,325,798\\t$91,462,000\\t60.44 cents\\n', '1960\\t179,323,175\\t$127,934,000\\t71.34 cents\\n', '1970\\t203,302,031\\t$247,653,000\\t$1.22\\n', '1980\\t226,542,199\\t$1,078,488,000\\t$4.76\\n', '1990\\t248,718,301\\t$2,492,830,000\\t$10.02\\n', '2000\\t281,421,906\\t$4.5 Billion\\t$15.99\\n', '2010*\\t308,745,538\\t$13 Billion\\t$42.11']\n"
          ],
          "name": "stdout"
        }
      ]
    },
    {
      "cell_type": "code",
      "metadata": {
        "id": "ZXm2I4QoBst1",
        "colab_type": "code",
        "colab": {
          "base_uri": "https://localhost:8080/",
          "height": 782
        },
        "outputId": "91ed70fd-a7af-46e4-8945-15c376e989c2"
      },
      "source": [
        "# Print data_list in readable format\n",
        "for i in data_list:\n",
        "  print(i)"
      ],
      "execution_count": 8,
      "outputs": [
        {
          "output_type": "stream",
          "text": [
            "1790\t3,929,214\t$44,377\t1.13 cents\n",
            "\n",
            "1800\t5,308,483\t$66,109\t1.24 cents\n",
            "\n",
            "1810\t7,239,881\t$178,445\t2.46 cents\n",
            "\n",
            "1820\t9,633,822\t$208,526\t2.16 cents\n",
            "\n",
            "1830\t12,866,020\t$378,545\t2.94 cents\n",
            "\n",
            "1840\t17,069,458\t$833,371\t4.88 cents\n",
            "\n",
            "1850\t23,191,876\t$1,423,351\t6.14 cents\n",
            "\n",
            "1860\t31,443,321\t$1,969,377\t6.26 cents\n",
            "\n",
            "1870\t38,558,371\t$3,421,198\t8.87 cents\n",
            "\n",
            "1880\t50,155,783\t$5,790,678\t11.54 cents\n",
            "\n",
            "1890\t62,979,766\t$11,547,127\t18.33 cents\n",
            "\n",
            "1900\t76,303,387\t$11,854,000\t15.54 cents\n",
            "\n",
            "1910\t91,972,266\t$15,968,000\t17.07 cents\n",
            "\n",
            "1920\t105,710,620\t$25,117,000\t23.76 cents\n",
            "\n",
            "1930\t122,775,046\t$40,156,000\t32.71 cents\n",
            "\n",
            "1940\t131,669,275\t$67,527,000\t51.29 cents\n",
            "\n",
            "1950\t151,325,798\t$91,462,000\t60.44 cents\n",
            "\n",
            "1960\t179,323,175\t$127,934,000\t71.34 cents\n",
            "\n",
            "1970\t203,302,031\t$247,653,000\t$1.22\n",
            "\n",
            "1980\t226,542,199\t$1,078,488,000\t$4.76\n",
            "\n",
            "1990\t248,718,301\t$2,492,830,000\t$10.02\n",
            "\n",
            "2000\t281,421,906\t$4.5 Billion\t$15.99\n",
            "\n",
            "2010*\t308,745,538\t$13 Billion\t$42.11\n"
          ],
          "name": "stdout"
        }
      ]
    },
    {
      "cell_type": "markdown",
      "metadata": {
        "id": "VqmPPqoMCMrV",
        "colab_type": "text"
      },
      "source": [
        "## Question 4\n",
        "Extract the column **Census Year** from data_list and assign them to a list named **year_list**. Remove the * from the last element \"2010*\". Print the cleanser **year_list**."
      ]
    },
    {
      "cell_type": "code",
      "metadata": {
        "id": "EIvWTMFtCDCg",
        "colab_type": "code",
        "colab": {}
      },
      "source": [
        "year_list = []\n",
        "\n",
        "# get the year from each line\n",
        "for i in data_list:\n",
        "  # split by tabs\n",
        "  split_list = i.split('\\t')\n",
        "  \n",
        "  # get the year\n",
        "  year_list.append(split_list[0])"
      ],
      "execution_count": 9,
      "outputs": []
    },
    {
      "cell_type": "code",
      "metadata": {
        "id": "n-DGbBLOFSje",
        "colab_type": "code",
        "colab": {
          "base_uri": "https://localhost:8080/",
          "height": 34
        },
        "outputId": "17f508f1-8a8d-415d-cab9-b517b9cd5a51"
      },
      "source": [
        "# print year_list \n",
        "print(year_list)"
      ],
      "execution_count": 10,
      "outputs": [
        {
          "output_type": "stream",
          "text": [
            "['1790', '1800', '1810', '1820', '1830', '1840', '1850', '1860', '1870', '1880', '1890', '1900', '1910', '1920', '1930', '1940', '1950', '1960', '1970', '1980', '1990', '2000', '2010*']\n"
          ],
          "name": "stdout"
        }
      ]
    },
    {
      "cell_type": "code",
      "metadata": {
        "id": "mZOiIRRQB2O8",
        "colab_type": "code",
        "colab": {
          "base_uri": "https://localhost:8080/",
          "height": 34
        },
        "outputId": "0c8410d4-de3c-4f25-facf-05d2f6f53284"
      },
      "source": [
        "# get the last element & remove '*'\n",
        "last_element = year_list[-1].replace('*','')\n",
        "year_list[-1] = last_element\n",
        "print(year_list)"
      ],
      "execution_count": 11,
      "outputs": [
        {
          "output_type": "stream",
          "text": [
            "['1790', '1800', '1810', '1820', '1830', '1840', '1850', '1860', '1870', '1880', '1890', '1900', '1910', '1920', '1930', '1940', '1950', '1960', '1970', '1980', '1990', '2000', '2010']\n"
          ],
          "name": "stdout"
        }
      ]
    },
    {
      "cell_type": "markdown",
      "metadata": {
        "id": "XgTVFvU7FooG",
        "colab_type": "text"
      },
      "source": [
        "## Question 5\n",
        "Extract the **Total Population** from **data_list** and assign them to a list named **pop_list**. Remove the \",\" from the numbers since python doesn't recognize them. Print the cleansed **pop_list**."
      ]
    },
    {
      "cell_type": "code",
      "metadata": {
        "id": "HHfv6KqNFREN",
        "colab_type": "code",
        "colab": {}
      },
      "source": [
        "pop_list = []\n",
        "\n",
        "# get the population from each line\n",
        "for i in data_list:\n",
        "  # split by tabs\n",
        "  split_list = i.split('\\t')\n",
        "  \n",
        "  # get the population\n",
        "  pop_list.append(split_list[1].replace(',',''))"
      ],
      "execution_count": 12,
      "outputs": []
    },
    {
      "cell_type": "code",
      "metadata": {
        "id": "-2KyJktpGVI5",
        "colab_type": "code",
        "colab": {
          "base_uri": "https://localhost:8080/",
          "height": 54
        },
        "outputId": "e35c4f34-8db2-4ec9-839e-6ed51562e034"
      },
      "source": [
        "# print pop_list\n",
        "print(pop_list)"
      ],
      "execution_count": 13,
      "outputs": [
        {
          "output_type": "stream",
          "text": [
            "['3929214', '5308483', '7239881', '9633822', '12866020', '17069458', '23191876', '31443321', '38558371', '50155783', '62979766', '76303387', '91972266', '105710620', '122775046', '131669275', '151325798', '179323175', '203302031', '226542199', '248718301', '281421906', '308745538']\n"
          ],
          "name": "stdout"
        }
      ]
    },
    {
      "cell_type": "markdown",
      "metadata": {
        "id": "fV8lOB6hGrXs",
        "colab_type": "text"
      },
      "source": [
        "## Question 6\n",
        "Extract **Census Cost** column from the data_list and assign them to a list named **cost_list**. Remove the \",\", \"$\", and \"Billion\". Make sure to add the \"0\"s to the numbers from which you removed \"Billion\". Print the cleansed **cost_list**."
      ]
    },
    {
      "cell_type": "code",
      "metadata": {
        "id": "2RXYi0ZCGgSf",
        "colab_type": "code",
        "colab": {}
      },
      "source": [
        "cost_list = []\n",
        "\n",
        "# get the cost from each line\n",
        "for i in data_list:\n",
        "  # split by tabs\n",
        "  split_list = i.split('\\t')\n",
        "  \n",
        "  # get the cost\n",
        "  cost = split_list[2]\n",
        "\n",
        "  # If the cost has \"Billion\" in it, do the following\n",
        "  if \"Billion\" in cost:\n",
        "    # remove \"Billion\"\n",
        "    cost = cost.replace(\"Billion\", '')\n",
        "\n",
        "    # if data is a period in it, like \"$4.5\", do the following\n",
        "    if \".\" in cost:\n",
        "      # split it based on period\n",
        "      cost_split = cost.split(\".\")\n",
        "\n",
        "      # grab the part after the period\n",
        "      after = cost_split[1]\n",
        "      # we know how many number make up a billion, we want to fill any empty spots with zero\n",
        "      count_spots = 0 + len(after)\n",
        "      # filling empty spots with 0\n",
        "      while count_spots <= 9:\n",
        "        after = after + \"0\"\n",
        "        count_spots += 1\n",
        "\n",
        "      # rejoin the numbers so that you have the correct length of the number\n",
        "      cost = cost_split[0] + after\n",
        "\n",
        "    # if you don't have period, do the following\n",
        "    else:\n",
        "      # add zeros to get to the appropriate \"billion\" length\n",
        "      cost = cost + \"000000000\"\n",
        "\n",
        "  # remove spaces\n",
        "  cost = cost.replace(' ','')\n",
        "  # remove commas\n",
        "  cost = cost.replace(',', '')\n",
        "  # remove dollar signs\n",
        "  cost = cost.replace('$','')\n",
        "\n",
        "  # add cleaned cost to cost_list\n",
        "  cost_list.append(cost)"
      ],
      "execution_count": 14,
      "outputs": []
    },
    {
      "cell_type": "code",
      "metadata": {
        "id": "H08jKQcJJQKL",
        "colab_type": "code",
        "colab": {
          "base_uri": "https://localhost:8080/",
          "height": 54
        },
        "outputId": "bb113a23-e513-445c-b557-f750aa8c8187"
      },
      "source": [
        "# print cost_list\n",
        "print(cost_list)"
      ],
      "execution_count": 15,
      "outputs": [
        {
          "output_type": "stream",
          "text": [
            "['44377', '66109', '178445', '208526', '378545', '833371', '1423351', '1969377', '3421198', '5790678', '11547127', '11854000', '15968000', '25117000', '40156000', '67527000', '91462000', '127934000', '247653000', '1078488000', '2492830000', '4500000000', '13000000000']\n"
          ],
          "name": "stdout"
        }
      ]
    },
    {
      "cell_type": "markdown",
      "metadata": {
        "id": "HiKQmibMM80O",
        "colab_type": "text"
      },
      "source": [
        "## Question 7\n",
        "Extract the **Average Cost per Person** column from the **data_list** and assign them to a list named **avg_list**. Remove the 'cents' and '$'. Make sure to divide the numbers in cents by 100 so that all numbers are measured in dollars. Print the cleansed **avg_list**."
      ]
    },
    {
      "cell_type": "code",
      "metadata": {
        "id": "4VpjZlurLWUu",
        "colab_type": "code",
        "colab": {}
      },
      "source": [
        "avg_list = []\n",
        "\n",
        "# get the avg cost from each line\n",
        "for i in data_list:\n",
        "  # split by tabs\n",
        "  split_list = i.split('\\t')\n",
        "  # get average cost\n",
        "  avg_cost = split_list[3]\n",
        "\n",
        "  # if \"cents\" is in avg cost, do the following\n",
        "  if \"cents\" in avg_cost:\n",
        "    # remove \"cents\"\n",
        "    avg_cost = avg_cost.replace('cents','')\n",
        "    # divide by 100 to get dollar amount\n",
        "    avg_cost = str(float(avg_cost)/100)\n",
        "\n",
        "    # make a dollar amount\n",
        "    split_list = avg_cost.split('.')\n",
        "    # make sure it is only two decimal places\n",
        "    avg_cost = split_list[0]+'.'+split_list[1][:2]\n",
        "\n",
        "  # remove '$' and new lines\n",
        "  avg_cost = avg_cost.replace('$','')\n",
        "  avg_cost = avg_cost.replace(\"\\n\",'')\n",
        "\n",
        "  # add to avg_list\n",
        "  avg_list.append(avg_cost)"
      ],
      "execution_count": 16,
      "outputs": []
    },
    {
      "cell_type": "code",
      "metadata": {
        "id": "GeZI_4pKOUQc",
        "colab_type": "code",
        "colab": {
          "base_uri": "https://localhost:8080/",
          "height": 34
        },
        "outputId": "d1e9ce72-644f-4a0e-d3f3-ec947ab6db81"
      },
      "source": [
        "# print avg_list\n",
        "print(avg_list)"
      ],
      "execution_count": 17,
      "outputs": [
        {
          "output_type": "stream",
          "text": [
            "['0.01', '0.01', '0.02', '0.02', '0.02', '0.04', '0.06', '0.06', '0.08', '0.11', '0.18', '0.15', '0.17', '0.23', '0.32', '0.51', '0.60', '0.71', '1.22', '4.76', '10.02', '15.99', '42.11']\n"
          ],
          "name": "stdout"
        }
      ]
    },
    {
      "cell_type": "markdown",
      "metadata": {
        "id": "3i3cmH7OQ9HY",
        "colab_type": "text"
      },
      "source": [
        "## Question 8\n",
        "Combine the **top2_list** and cleansed data to a text file names \"census_cost.csv\". The new file should look similar to the original source file except that it is a comma-delimited format and the numbers have been cleansed. The top two lines from the original file should be retained in the new file."
      ]
    },
    {
      "cell_type": "code",
      "metadata": {
        "id": "DSw0aIERQaAV",
        "colab_type": "code",
        "colab": {}
      },
      "source": [
        "rows = []\n",
        "for i in range(min(len(year_list), len(pop_list), len(cost_list), len(avg_list))):\n",
        "  rows.append(\",\".join([year_list[i], pop_list[i], cost_list[i], avg_list[i], \"\\n\"]))\n",
        "\n",
        "with open(\"census_cost.csv\", \"w\") as csv:\n",
        "  csv.writelines(top2_list)\n",
        "  csv.writelines(rows)"
      ],
      "execution_count": 18,
      "outputs": []
    },
    {
      "cell_type": "code",
      "metadata": {
        "id": "EvpRAfEBSLC8",
        "colab_type": "code",
        "colab": {}
      },
      "source": [
        ""
      ],
      "execution_count": 18,
      "outputs": []
    }
  ]
}
