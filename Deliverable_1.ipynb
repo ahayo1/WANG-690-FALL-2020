{
  "nbformat": 4,
  "nbformat_minor": 0,
  "metadata": {
    "colab": {
      "name": "Deliverable#1.ipynb",
      "provenance": [],
      "collapsed_sections": []
    },
    "kernelspec": {
      "name": "python3",
      "display_name": "Python 3"
    }
  },
  "cells": [
    {
      "cell_type": "markdown",
      "metadata": {
        "id": "ZPSD5DKlhZ_n"
      },
      "source": [
        "# Deliverable #1 - Project Proposal"
      ]
    },
    {
      "cell_type": "markdown",
      "metadata": {
        "id": "yoQJd9bUhzet"
      },
      "source": [
        "Write and submit a research proposal in the Markdown format that answers the following questions:\n",
        "1. What is your issue of interest (provide sufficient background information)?\n",
        "2. Why is this issue important to you and/or to others?\n",
        "3. What questions do you have in mind and wouyld like to answer?\n",
        "4. Where do you get the data to help answer your questions?\n",
        "5. What will be your unit of analysis (for example, patient, organization, or country)? Roughly how many units do you expect to analyze?\n",
        "6. What variables/measures do you plan to use in your analysis?\n",
        "7. What kinds of techniques do you you plan to use (for example, summary statistics, scatter plot, bar chart, chi-squared test)?"
      ]
    },
    {
      "cell_type": "markdown",
      "metadata": {
        "id": "or-oemL4iEiE"
      },
      "source": [
        "## 1. Issue of Interest\n",
        "**What is your issue of interest (provide sufficient background information)?**"
      ]
    },
    {
      "cell_type": "markdown",
      "metadata": {
        "id": "C_e0JybJiL_z"
      },
      "source": [
        "My area of interest is crime data. I'm focusing specially on crime data that has happened in Denver, Colorado over the past 5 years. The dataset \"includes criminal offenses in the City and County of Denver for the previous five calendar years plus the current year to date\". (Denvergov.org) This information is originally pulled from the National Incident Based Reporting System (NIBRS). The data is regularly updated Monday-Friday and the organization that maintains the information will also remove reported crimes that are \"later determined not to have occured\". (Dengergov.org)"
      ]
    },
    {
      "cell_type": "markdown",
      "metadata": {
        "id": "KhfXaQTwiaq6"
      },
      "source": [
        "## 2. Importance\n",
        "**Why is this issue important to you and/or to others?**"
      ]
    },
    {
      "cell_type": "markdown",
      "metadata": {
        "id": "vTEvHdyKifRs"
      },
      "source": [
        "I personally find crime information interesting and I've never worked with geographically information before. I thought this would be a great opportunity to combine something I'm interested in and something new.\n",
        "\n",
        "The reason I'm focusing on Denver is because I recently accepted a job there. Knowing the areas with high crime rates will help me determine the safest area to move once I start looking at places. Other people who are moving to Denver could also use the results of this project to answer similar questions."
      ]
    },
    {
      "cell_type": "markdown",
      "metadata": {
        "id": "zCXWDyY8ifjm"
      },
      "source": [
        "## 3. Questions\n",
        "**What questions do you have in mind and would like to answer?**"
      ]
    },
    {
      "cell_type": "markdown",
      "metadata": {
        "id": "PMXr7NEPioR8"
      },
      "source": [
        "\n",
        "\n",
        "*   How has the crime trended over the years?\n",
        "*   Is there any one crime the stands out each year?\n",
        "*   Are the crimes associated with one particular area in Denver? Are there any hotspots?\n",
        "*   Are there certain days of the week, times of the day, or seasons that causes crime to trend up or down?\n",
        "*   Does the area or time change for different types of categories of crime?\n",
        "\n"
      ]
    },
    {
      "cell_type": "markdown",
      "metadata": {
        "id": "xOZ3TKSHioeT"
      },
      "source": [
        "## 4. Data\n",
        "**Where do you get the data to help answer your questions?**"
      ]
    },
    {
      "cell_type": "markdown",
      "metadata": {
        "id": "1empEuzNizKU"
      },
      "source": [
        "Denvergov.org has open datasets and the [website](https://www.denvergov.org/opendata/dataset/city-and-county-of-denver-crime) has a dataset on crime information that is updated periodically. The dataset \"includes criminal offenses in the City and County of Denver for the previous five calendar years plus the current year to date\". (Denvergov.org) This information is originally pulled from the National Incident Based Reporting System (NIBRS)."
      ]
    },
    {
      "cell_type": "markdown",
      "metadata": {
        "id": "nSdWhWlzizWy"
      },
      "source": [
        "## 5. Unit of Analysis\n",
        "**What will be your unit of analysis (for example, patient, organization, or country)? Roughly how many units do you expect to analyze?**"
      ]
    },
    {
      "cell_type": "markdown",
      "metadata": {
        "id": "lgEOi5T1i0Le"
      },
      "source": [
        "My until of analysis will be \"crime incident\". Each crime incident will be its own row in the dataset. There will be approximately 500,000 rows and I'm starting off with 19 columns. "
      ]
    },
    {
      "cell_type": "markdown",
      "metadata": {
        "id": "bmkR65WLi5oN"
      },
      "source": [
        "## 6. Variables/Measures\n",
        "**What variables/measures do you plan to use in your analysis?**"
      ]
    },
    {
      "cell_type": "markdown",
      "metadata": {
        "id": "n37YIAqFi8aN"
      },
      "source": [
        "The variables/columns I'm planning on using are:\n",
        "*    OFFENSE_CODE\n",
        "*    OFFENSE_TYPE_ID\n",
        "*    OFFENSE_CATEGORY_ID\n",
        "*    FIRST_OCCURRENCE_DATE\n",
        "*    REPORTED_DATE\n",
        "*    GEO_LON\n",
        "*    GEO_LAT\n",
        "*    DISTRICT_ID\n",
        "*    PRECINCT_ID\n",
        "*    NEIGHBORHOOD_ID\n",
        "\n",
        "These variables/measures will give me the type of crime, when the crime happened, and where the crime happened. I will also be able to pull additional variable from the above ones, like: year, day of the week, and time of day."
      ]
    },
    {
      "cell_type": "markdown",
      "metadata": {
        "id": "ITwy28Yui8mi"
      },
      "source": [
        "## 7. Techniques\n",
        "**What kinds of techniques do you you plan to use (for example, summary statistics, scatter plot, bar chart, chi-squared test)?**"
      ]
    },
    {
      "cell_type": "markdown",
      "metadata": {
        "id": "0GlE16wOjAW0"
      },
      "source": [
        "I'm planning on using:\n",
        "*    bar charts\n",
        "*    scatter plots\n",
        "*    geopandas - maps, cities\n",
        "*    summary statistcs"
      ]
    },
    {
      "cell_type": "code",
      "metadata": {
        "id": "-YpDBIihhkci"
      },
      "source": [
        ""
      ],
      "execution_count": null,
      "outputs": []
    }
  ]
}