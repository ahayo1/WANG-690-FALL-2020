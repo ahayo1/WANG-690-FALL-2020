{
  "nbformat": 4,
  "nbformat_minor": 0,
  "metadata": {
    "kernelspec": {
      "display_name": "Python 3",
      "language": "python",
      "name": "python3"
    },
    "language_info": {
      "codemirror_mode": {
        "name": "ipython",
        "version": 3
      },
      "file_extension": ".py",
      "mimetype": "text/x-python",
      "name": "python",
      "nbconvert_exporter": "python",
      "pygments_lexer": "ipython3",
      "version": "3.7.1"
    },
    "colab": {
      "name": "Assignment-07.ipynb",
      "provenance": []
    }
  },
  "cells": [
    {
      "cell_type": "markdown",
      "metadata": {
        "id": "02rFSC_-6zKz"
      },
      "source": [
        "### Assignment 07\n",
        "\n",
        "**You can use the local Jupyter environment if you are not comfortable with Colab for this assignment.**\n",
        "\n",
        "The first half of this assignment is a repeat of assignment 05.\n",
        "\n",
        "This gives you a chance to refresh.\n",
        "\n",
        "The second half is new and gives you a chance to perform additional practices.\n",
        "\n",
        "You also get a chance to use some of the Python libraries and techniques.\n",
        "\n",
        "You will unzip the zip file manually in preparation for this assignment.\n",
        "\n",
        "The link to the zip file is (you have already used it in your assignment 5):\n",
        "\n",
        "https://ed-public-download.app.cloud.gov/downloads/CollegeScorecard_Raw_Data.zip\n",
        "\n",
        "After unzipping, You will have all files in one folder named \"CollegeScorecard_Raw_Data\" \n",
        "\n",
        "The folder contains the yearly data files from 1996 to 2019 school years.\n",
        "\n",
        "if you are using your local environment, I suggest you create a new folder call \"Assignment7\" and place the Notebook file and the data folder under it.\n",
        "```\n",
        "Assignment7/\n",
        "    - assignment_07.ipynb\n",
        "    - CollegeScorecard_Raw_Data/\n",
        "        - ...\n",
        "        - 'MERGED1996_97_PP.csv',\n",
        "        - 'MERGED2015_16_PP.csv',\n",
        "        - ...\n",
        "        - 'MERGED2017_18_PP.csv'\n",
        "```\n"
      ]
    },
    {
      "cell_type": "markdown",
      "metadata": {
        "id": "WGr1OqKg7xQ6"
      },
      "source": [
        "## Question 1"
      ]
    },
    {
      "cell_type": "code",
      "metadata": {
        "id": "CfSasSG36zK1"
      },
      "source": [
        "# <1> \n",
        "# Import libraries\n",
        "\n",
        "#(Write code here)\n",
        "import pandas as pd\n",
        "import os\n",
        "import matplotlib.pyplot as plt\n"
      ],
      "execution_count": 37,
      "outputs": []
    },
    {
      "cell_type": "markdown",
      "metadata": {
        "id": "tsSY-iRR7u_x"
      },
      "source": [
        "## Question 2"
      ]
    },
    {
      "cell_type": "code",
      "metadata": {
        "id": "duwKxi1L6zK5",
        "outputId": "adb1ab79-2d6b-4602-b031-a83c4f015009",
        "colab": {
          "base_uri": "https://localhost:8080/",
          "height": 35
        }
      },
      "source": [
        "# <2> \n",
        "# Display the current workin directory using os.getcwd()\n",
        "# you would need to import a standard Python library called os which stands for operating system,\n",
        "# so place that import statement in the previous cell.\n",
        "# Since your notebook and your data files are not in # the same folder, \n",
        "# you want to make sure what is the current working folder and \n",
        "# how to access a data file in a different folder\n",
        "\n",
        "#(Write code here)\n",
        "os.getcwd()"
      ],
      "execution_count": 2,
      "outputs": [
        {
          "output_type": "execute_result",
          "data": {
            "application/vnd.google.colaboratory.intrinsic+json": {
              "type": "string"
            },
            "text/plain": [
              "'/content'"
            ]
          },
          "metadata": {
            "tags": []
          },
          "execution_count": 2
        }
      ]
    },
    {
      "cell_type": "markdown",
      "metadata": {
        "id": "24LvJzkh7rdM"
      },
      "source": [
        "## Question 3"
      ]
    },
    {
      "cell_type": "code",
      "metadata": {
        "id": "LMBN0HsY6zLA",
        "outputId": "329ad2ab-37b5-4fe0-b2ce-7622cb85d962",
        "colab": {
          "base_uri": "https://localhost:8080/",
          "height": 51
        }
      },
      "source": [
        "# <3> \n",
        "# os library has a method call listdir which generates a list of files in a directory/folder.\n",
        "# use this method to assign the contents (list of file names) of the data folder to a variable and display it.\n",
        "# # You can use ../ construct to traverse to the parent folder and then to another foloder parallel to the current folder\n",
        "\n",
        "#(Write code here)\n",
        "curr_dir_contents = os.listdir()\n",
        "prnt_dir_contents = os.listdir('../')\n",
        "print(curr_dir_contents)\n",
        "print(prnt_dir_contents)\n"
      ],
      "execution_count": 3,
      "outputs": [
        {
          "output_type": "stream",
          "text": [
            "['.config', '.ipynb_checkpoints', 'CollegeScorecard_Raw_Data', 'sample_data']\n",
            "['lib', 'sys', 'bin', 'tmp', 'srv', 'etc', 'root', 'boot', 'proc', 'mnt', 'var', 'lib64', 'home', 'dev', 'sbin', 'run', 'media', 'opt', 'usr', 'content', '.dockerenv', 'datalab', 'tools', 'swift', 'tensorflow-1.15.2', 'lib32']\n"
          ],
          "name": "stdout"
        }
      ]
    },
    {
      "cell_type": "markdown",
      "metadata": {
        "id": "mPu5yEoA7pHK"
      },
      "source": [
        "## Question 4"
      ]
    },
    {
      "cell_type": "code",
      "metadata": {
        "id": "UCDRqtrf6zLL",
        "outputId": "d7e0cb7d-0f5c-4a73-b62a-bafc8dd4bd01",
        "colab": {
          "base_uri": "https://localhost:8080/",
          "height": 54
        }
      },
      "source": [
        "# <4> \n",
        "# The folder contains files that are not the yearly data files\n",
        "# write code to remove the unwanted files from the list vsriable \n",
        "# Note: don't remove/delete these files from the folder in your drive\n",
        "# For example, use the file extension to only keep the csv files \n",
        "# or use the name patter - data file name begins with \"MERGED\"\n",
        "# You can use the concept of list comprehension to write just \n",
        "# one line of code as well as using a for loop, your choice.\n",
        "\n",
        "#(Write code here)\n",
        "data_dir = os.listdir('CollegeScorecard_Raw_Data')\n",
        "data_dir = [f for f in data_dir if 'MERGED' == f[0:6] and 'csv' == f[-3:]]\n",
        "print(data_dir)"
      ],
      "execution_count": 12,
      "outputs": [
        {
          "output_type": "stream",
          "text": [
            "['MERGED1998_99_PP.csv', 'MERGED2006_07_PP.csv', 'MERGED2007_08_PP.csv', 'MERGED2003_04_PP.csv', 'MERGED2009_10_PP.csv', 'MERGED2016_17_PP.csv', 'MERGED2001_02_PP.csv', 'MERGED2017_18_PP.csv', 'MERGED2002_03_PP.csv', 'MERGED2013_14_PP.csv', 'MERGED2018_19_PP.csv', 'MERGED2000_01_PP.csv', 'MERGED1999_00_PP.csv', 'MERGED2004_05_PP.csv', 'MERGED2008_09_PP.csv', 'MERGED2010_11_PP.csv', 'MERGED2014_15_PP.csv', 'MERGED2011_12_PP.csv', 'MERGED2012_13_PP.csv', 'MERGED1997_98_PP.csv', 'MERGED2005_06_PP.csv', 'MERGED1996_97_PP.csv', 'MERGED2015_16_PP.csv']\n"
          ],
          "name": "stdout"
        }
      ]
    },
    {
      "cell_type": "markdown",
      "metadata": {
        "id": "OHYBl0T77k78"
      },
      "source": [
        "## Question 5"
      ]
    },
    {
      "cell_type": "code",
      "metadata": {
        "id": "rtrB8C_R6zLS"
      },
      "source": [
        "# <5> \n",
        "# Now that you have a clean list of the yearly files, you want to loop through them\n",
        "# and read them into a dataframe one at a time. You only load six columns: \n",
        "# [\"UNITID\", \"INSTNM\", \"STABBR\", \"REGION\", \"ADM_RATE\", \"TUITIONFEE_IN\"].\n",
        "# You should use \"usecols\" option of Pandas to avoid reading unwanted columns.\n",
        "# You also want to add a new column call \"YEAR\" to differentiate the data frames from each other.\n",
        "# The YEAR variable should be yyyy format so tht you can convert them into integer.\n",
        "# if you use the format yyyy-yy (such as 1997-98 school year), you will not be able to convert them directly to integer\n",
        "# if you use scatter plot, the YEAR needs to be converted to integer or float. \n",
        "# \n",
        "# You would use an empty list and append the yearly dataframes to the list.\n",
        "# After all data files are loaded and appended to the list, you would use Pandas to concatenate them into a \n",
        "# new single data frame.\n",
        "# Note: this exercise incorporates many techques we learned before\n",
        "# - list (creating an empty, append an item to the list)\n",
        "# - for loop \n",
        "# - read only the needed columns from a file (using usecols option)\n",
        "# - add a new column to a data frame\n",
        "# - concatenate multiple dataframes into a single one\n",
        "# This exercise may appear a big challenging but it worths the effort. You will learn a lot and  love it. I promise.\n",
        "\n",
        "#(Write code here)\n",
        "\n",
        "empty_list = []\n",
        "\n",
        "for file_csv in data_dir:\n",
        "  df_ind = pd.read_csv(file_csv, usecols=[\"UNITID\", \"INSTNM\", \"STABBR\", \"REGION\", \"ADM_RATE\", \"TUITIONFEE_IN\"])\n",
        "  df_ind['YEAR'] = file_csv[6:10]\n",
        "  empty_list.append(df_ind)"
      ],
      "execution_count": 16,
      "outputs": []
    },
    {
      "cell_type": "code",
      "metadata": {
        "id": "YvI55vkkw5nT",
        "outputId": "77c6cdbd-7d21-4519-be0b-b18e14b7762f",
        "colab": {
          "base_uri": "https://localhost:8080/",
          "height": 204
        }
      },
      "source": [
        "# view first dataframe\n",
        "empty_list[1].head()"
      ],
      "execution_count": 18,
      "outputs": [
        {
          "output_type": "execute_result",
          "data": {
            "text/html": [
              "<div>\n",
              "<style scoped>\n",
              "    .dataframe tbody tr th:only-of-type {\n",
              "        vertical-align: middle;\n",
              "    }\n",
              "\n",
              "    .dataframe tbody tr th {\n",
              "        vertical-align: top;\n",
              "    }\n",
              "\n",
              "    .dataframe thead th {\n",
              "        text-align: right;\n",
              "    }\n",
              "</style>\n",
              "<table border=\"1\" class=\"dataframe\">\n",
              "  <thead>\n",
              "    <tr style=\"text-align: right;\">\n",
              "      <th></th>\n",
              "      <th>UNITID</th>\n",
              "      <th>INSTNM</th>\n",
              "      <th>STABBR</th>\n",
              "      <th>REGION</th>\n",
              "      <th>ADM_RATE</th>\n",
              "      <th>TUITIONFEE_IN</th>\n",
              "      <th>YEAR</th>\n",
              "    </tr>\n",
              "  </thead>\n",
              "  <tbody>\n",
              "    <tr>\n",
              "      <th>0</th>\n",
              "      <td>100636</td>\n",
              "      <td>Community College of the Air Force</td>\n",
              "      <td>AL</td>\n",
              "      <td>0</td>\n",
              "      <td>NaN</td>\n",
              "      <td>NaN</td>\n",
              "      <td>2006</td>\n",
              "    </tr>\n",
              "    <tr>\n",
              "      <th>1</th>\n",
              "      <td>100654</td>\n",
              "      <td>Alabama A &amp; M University</td>\n",
              "      <td>AL</td>\n",
              "      <td>5</td>\n",
              "      <td>0.4118</td>\n",
              "      <td>3640.0</td>\n",
              "      <td>2006</td>\n",
              "    </tr>\n",
              "    <tr>\n",
              "      <th>2</th>\n",
              "      <td>100663</td>\n",
              "      <td>University of Alabama at Birmingham</td>\n",
              "      <td>AL</td>\n",
              "      <td>5</td>\n",
              "      <td>0.8778</td>\n",
              "      <td>4792.0</td>\n",
              "      <td>2006</td>\n",
              "    </tr>\n",
              "    <tr>\n",
              "      <th>3</th>\n",
              "      <td>100690</td>\n",
              "      <td>Amridge University</td>\n",
              "      <td>AL</td>\n",
              "      <td>5</td>\n",
              "      <td>NaN</td>\n",
              "      <td>6000.0</td>\n",
              "      <td>2006</td>\n",
              "    </tr>\n",
              "    <tr>\n",
              "      <th>4</th>\n",
              "      <td>100706</td>\n",
              "      <td>University of Alabama in Huntsville</td>\n",
              "      <td>AL</td>\n",
              "      <td>5</td>\n",
              "      <td>0.8834</td>\n",
              "      <td>4848.0</td>\n",
              "      <td>2006</td>\n",
              "    </tr>\n",
              "  </tbody>\n",
              "</table>\n",
              "</div>"
            ],
            "text/plain": [
              "   UNITID                               INSTNM  ... TUITIONFEE_IN  YEAR\n",
              "0  100636   Community College of the Air Force  ...           NaN  2006\n",
              "1  100654             Alabama A & M University  ...        3640.0  2006\n",
              "2  100663  University of Alabama at Birmingham  ...        4792.0  2006\n",
              "3  100690                   Amridge University  ...        6000.0  2006\n",
              "4  100706  University of Alabama in Huntsville  ...        4848.0  2006\n",
              "\n",
              "[5 rows x 7 columns]"
            ]
          },
          "metadata": {
            "tags": []
          },
          "execution_count": 18
        }
      ]
    },
    {
      "cell_type": "code",
      "metadata": {
        "id": "K_zbqqGU6RQG",
        "outputId": "7ac7dc95-6a7b-476f-f84d-873c2e95de5a",
        "colab": {
          "base_uri": "https://localhost:8080/",
          "height": 204
        }
      },
      "source": [
        "# concatenate multiple dataframes into a single one\n",
        "df = pd.concat(empty_list)\n",
        "df.head()"
      ],
      "execution_count": 22,
      "outputs": [
        {
          "output_type": "execute_result",
          "data": {
            "text/html": [
              "<div>\n",
              "<style scoped>\n",
              "    .dataframe tbody tr th:only-of-type {\n",
              "        vertical-align: middle;\n",
              "    }\n",
              "\n",
              "    .dataframe tbody tr th {\n",
              "        vertical-align: top;\n",
              "    }\n",
              "\n",
              "    .dataframe thead th {\n",
              "        text-align: right;\n",
              "    }\n",
              "</style>\n",
              "<table border=\"1\" class=\"dataframe\">\n",
              "  <thead>\n",
              "    <tr style=\"text-align: right;\">\n",
              "      <th></th>\n",
              "      <th>UNITID</th>\n",
              "      <th>INSTNM</th>\n",
              "      <th>STABBR</th>\n",
              "      <th>REGION</th>\n",
              "      <th>ADM_RATE</th>\n",
              "      <th>TUITIONFEE_IN</th>\n",
              "      <th>YEAR</th>\n",
              "    </tr>\n",
              "  </thead>\n",
              "  <tbody>\n",
              "    <tr>\n",
              "      <th>0</th>\n",
              "      <td>100654</td>\n",
              "      <td>Alabama A &amp; M University</td>\n",
              "      <td>AL</td>\n",
              "      <td>5</td>\n",
              "      <td>NaN</td>\n",
              "      <td>NaN</td>\n",
              "      <td>1998</td>\n",
              "    </tr>\n",
              "    <tr>\n",
              "      <th>1</th>\n",
              "      <td>100663</td>\n",
              "      <td>University of Alabama at Birmingham</td>\n",
              "      <td>AL</td>\n",
              "      <td>5</td>\n",
              "      <td>NaN</td>\n",
              "      <td>NaN</td>\n",
              "      <td>1998</td>\n",
              "    </tr>\n",
              "    <tr>\n",
              "      <th>2</th>\n",
              "      <td>100690</td>\n",
              "      <td>Amridge University</td>\n",
              "      <td>AL</td>\n",
              "      <td>5</td>\n",
              "      <td>NaN</td>\n",
              "      <td>NaN</td>\n",
              "      <td>1998</td>\n",
              "    </tr>\n",
              "    <tr>\n",
              "      <th>3</th>\n",
              "      <td>100706</td>\n",
              "      <td>University of Alabama in Huntsville</td>\n",
              "      <td>AL</td>\n",
              "      <td>5</td>\n",
              "      <td>NaN</td>\n",
              "      <td>NaN</td>\n",
              "      <td>1998</td>\n",
              "    </tr>\n",
              "    <tr>\n",
              "      <th>4</th>\n",
              "      <td>100724</td>\n",
              "      <td>Alabama State University</td>\n",
              "      <td>AL</td>\n",
              "      <td>5</td>\n",
              "      <td>NaN</td>\n",
              "      <td>NaN</td>\n",
              "      <td>1998</td>\n",
              "    </tr>\n",
              "  </tbody>\n",
              "</table>\n",
              "</div>"
            ],
            "text/plain": [
              "   UNITID                               INSTNM  ... TUITIONFEE_IN  YEAR\n",
              "0  100654             Alabama A & M University  ...           NaN  1998\n",
              "1  100663  University of Alabama at Birmingham  ...           NaN  1998\n",
              "2  100690                   Amridge University  ...           NaN  1998\n",
              "3  100706  University of Alabama in Huntsville  ...           NaN  1998\n",
              "4  100724             Alabama State University  ...           NaN  1998\n",
              "\n",
              "[5 rows x 7 columns]"
            ]
          },
          "metadata": {
            "tags": []
          },
          "execution_count": 22
        }
      ]
    },
    {
      "cell_type": "markdown",
      "metadata": {
        "id": "URkFy8q971Y1"
      },
      "source": [
        "## Question 6"
      ]
    },
    {
      "cell_type": "code",
      "metadata": {
        "id": "riJxj3vU6zLY",
        "outputId": "3947f680-47b9-4531-e608-35d76768e492",
        "colab": {
          "base_uri": "https://localhost:8080/",
          "height": 359
        }
      },
      "source": [
        "# <6> \n",
        "# explore the new dataframe (# of observations, varibles, head, tail, sample, missing values, statistics,etc.)\n",
        "\n",
        "#(Write code here)\n",
        "df.head(10)"
      ],
      "execution_count": 23,
      "outputs": [
        {
          "output_type": "execute_result",
          "data": {
            "text/html": [
              "<div>\n",
              "<style scoped>\n",
              "    .dataframe tbody tr th:only-of-type {\n",
              "        vertical-align: middle;\n",
              "    }\n",
              "\n",
              "    .dataframe tbody tr th {\n",
              "        vertical-align: top;\n",
              "    }\n",
              "\n",
              "    .dataframe thead th {\n",
              "        text-align: right;\n",
              "    }\n",
              "</style>\n",
              "<table border=\"1\" class=\"dataframe\">\n",
              "  <thead>\n",
              "    <tr style=\"text-align: right;\">\n",
              "      <th></th>\n",
              "      <th>UNITID</th>\n",
              "      <th>INSTNM</th>\n",
              "      <th>STABBR</th>\n",
              "      <th>REGION</th>\n",
              "      <th>ADM_RATE</th>\n",
              "      <th>TUITIONFEE_IN</th>\n",
              "      <th>YEAR</th>\n",
              "    </tr>\n",
              "  </thead>\n",
              "  <tbody>\n",
              "    <tr>\n",
              "      <th>0</th>\n",
              "      <td>100654</td>\n",
              "      <td>Alabama A &amp; M University</td>\n",
              "      <td>AL</td>\n",
              "      <td>5</td>\n",
              "      <td>NaN</td>\n",
              "      <td>NaN</td>\n",
              "      <td>1998</td>\n",
              "    </tr>\n",
              "    <tr>\n",
              "      <th>1</th>\n",
              "      <td>100663</td>\n",
              "      <td>University of Alabama at Birmingham</td>\n",
              "      <td>AL</td>\n",
              "      <td>5</td>\n",
              "      <td>NaN</td>\n",
              "      <td>NaN</td>\n",
              "      <td>1998</td>\n",
              "    </tr>\n",
              "    <tr>\n",
              "      <th>2</th>\n",
              "      <td>100690</td>\n",
              "      <td>Amridge University</td>\n",
              "      <td>AL</td>\n",
              "      <td>5</td>\n",
              "      <td>NaN</td>\n",
              "      <td>NaN</td>\n",
              "      <td>1998</td>\n",
              "    </tr>\n",
              "    <tr>\n",
              "      <th>3</th>\n",
              "      <td>100706</td>\n",
              "      <td>University of Alabama in Huntsville</td>\n",
              "      <td>AL</td>\n",
              "      <td>5</td>\n",
              "      <td>NaN</td>\n",
              "      <td>NaN</td>\n",
              "      <td>1998</td>\n",
              "    </tr>\n",
              "    <tr>\n",
              "      <th>4</th>\n",
              "      <td>100724</td>\n",
              "      <td>Alabama State University</td>\n",
              "      <td>AL</td>\n",
              "      <td>5</td>\n",
              "      <td>NaN</td>\n",
              "      <td>NaN</td>\n",
              "      <td>1998</td>\n",
              "    </tr>\n",
              "    <tr>\n",
              "      <th>5</th>\n",
              "      <td>100751</td>\n",
              "      <td>The University of Alabama</td>\n",
              "      <td>AL</td>\n",
              "      <td>5</td>\n",
              "      <td>NaN</td>\n",
              "      <td>NaN</td>\n",
              "      <td>1998</td>\n",
              "    </tr>\n",
              "    <tr>\n",
              "      <th>6</th>\n",
              "      <td>100760</td>\n",
              "      <td>Central Alabama Community College</td>\n",
              "      <td>AL</td>\n",
              "      <td>5</td>\n",
              "      <td>NaN</td>\n",
              "      <td>NaN</td>\n",
              "      <td>1998</td>\n",
              "    </tr>\n",
              "    <tr>\n",
              "      <th>7</th>\n",
              "      <td>100812</td>\n",
              "      <td>Athens State University</td>\n",
              "      <td>AL</td>\n",
              "      <td>5</td>\n",
              "      <td>NaN</td>\n",
              "      <td>NaN</td>\n",
              "      <td>1998</td>\n",
              "    </tr>\n",
              "    <tr>\n",
              "      <th>8</th>\n",
              "      <td>100830</td>\n",
              "      <td>Auburn University at Montgomery</td>\n",
              "      <td>AL</td>\n",
              "      <td>5</td>\n",
              "      <td>NaN</td>\n",
              "      <td>NaN</td>\n",
              "      <td>1998</td>\n",
              "    </tr>\n",
              "    <tr>\n",
              "      <th>9</th>\n",
              "      <td>100858</td>\n",
              "      <td>Auburn University</td>\n",
              "      <td>AL</td>\n",
              "      <td>5</td>\n",
              "      <td>NaN</td>\n",
              "      <td>NaN</td>\n",
              "      <td>1998</td>\n",
              "    </tr>\n",
              "  </tbody>\n",
              "</table>\n",
              "</div>"
            ],
            "text/plain": [
              "   UNITID                               INSTNM  ... TUITIONFEE_IN  YEAR\n",
              "0  100654             Alabama A & M University  ...           NaN  1998\n",
              "1  100663  University of Alabama at Birmingham  ...           NaN  1998\n",
              "2  100690                   Amridge University  ...           NaN  1998\n",
              "3  100706  University of Alabama in Huntsville  ...           NaN  1998\n",
              "4  100724             Alabama State University  ...           NaN  1998\n",
              "5  100751            The University of Alabama  ...           NaN  1998\n",
              "6  100760    Central Alabama Community College  ...           NaN  1998\n",
              "7  100812              Athens State University  ...           NaN  1998\n",
              "8  100830      Auburn University at Montgomery  ...           NaN  1998\n",
              "9  100858                    Auburn University  ...           NaN  1998\n",
              "\n",
              "[10 rows x 7 columns]"
            ]
          },
          "metadata": {
            "tags": []
          },
          "execution_count": 23
        }
      ]
    },
    {
      "cell_type": "code",
      "metadata": {
        "id": "0-MDBpmL8Cpv",
        "outputId": "bffd633b-af4f-4456-e20c-d989be0b2fa6",
        "colab": {
          "base_uri": "https://localhost:8080/",
          "height": 34
        }
      },
      "source": [
        "# how many rows and columns are in the dataframe\n",
        "df.shape"
      ],
      "execution_count": 24,
      "outputs": [
        {
          "output_type": "execute_result",
          "data": {
            "text/plain": [
              "(108631, 7)"
            ]
          },
          "metadata": {
            "tags": []
          },
          "execution_count": 24
        }
      ]
    },
    {
      "cell_type": "code",
      "metadata": {
        "id": "eTEi0yN78Cym",
        "outputId": "74da27cf-e231-4470-b1e6-55a900773e60",
        "colab": {
          "base_uri": "https://localhost:8080/",
          "height": 359
        }
      },
      "source": [
        "# look at the last few rows\n",
        "df.tail(10)"
      ],
      "execution_count": 25,
      "outputs": [
        {
          "output_type": "execute_result",
          "data": {
            "text/html": [
              "<div>\n",
              "<style scoped>\n",
              "    .dataframe tbody tr th:only-of-type {\n",
              "        vertical-align: middle;\n",
              "    }\n",
              "\n",
              "    .dataframe tbody tr th {\n",
              "        vertical-align: top;\n",
              "    }\n",
              "\n",
              "    .dataframe thead th {\n",
              "        text-align: right;\n",
              "    }\n",
              "</style>\n",
              "<table border=\"1\" class=\"dataframe\">\n",
              "  <thead>\n",
              "    <tr style=\"text-align: right;\">\n",
              "      <th></th>\n",
              "      <th>UNITID</th>\n",
              "      <th>INSTNM</th>\n",
              "      <th>STABBR</th>\n",
              "      <th>REGION</th>\n",
              "      <th>ADM_RATE</th>\n",
              "      <th>TUITIONFEE_IN</th>\n",
              "      <th>YEAR</th>\n",
              "    </tr>\n",
              "  </thead>\n",
              "  <tbody>\n",
              "    <tr>\n",
              "      <th>3742</th>\n",
              "      <td>229036</td>\n",
              "      <td>Brightwood College-Houston</td>\n",
              "      <td>TX</td>\n",
              "      <td>6</td>\n",
              "      <td>NaN</td>\n",
              "      <td>NaN</td>\n",
              "      <td>2015</td>\n",
              "    </tr>\n",
              "    <tr>\n",
              "      <th>3743</th>\n",
              "      <td>229063</td>\n",
              "      <td>Texas Southern University</td>\n",
              "      <td>TX</td>\n",
              "      <td>6</td>\n",
              "      <td>0.5090</td>\n",
              "      <td>8726.0</td>\n",
              "      <td>2015</td>\n",
              "    </tr>\n",
              "    <tr>\n",
              "      <th>3744</th>\n",
              "      <td>229115</td>\n",
              "      <td>Texas Tech University</td>\n",
              "      <td>TX</td>\n",
              "      <td>6</td>\n",
              "      <td>0.6306</td>\n",
              "      <td>8028.0</td>\n",
              "      <td>2015</td>\n",
              "    </tr>\n",
              "    <tr>\n",
              "      <th>3745</th>\n",
              "      <td>229160</td>\n",
              "      <td>Texas Wesleyan University</td>\n",
              "      <td>TX</td>\n",
              "      <td>6</td>\n",
              "      <td>0.4595</td>\n",
              "      <td>24454.0</td>\n",
              "      <td>2015</td>\n",
              "    </tr>\n",
              "    <tr>\n",
              "      <th>3746</th>\n",
              "      <td>229179</td>\n",
              "      <td>Texas Woman's University</td>\n",
              "      <td>TX</td>\n",
              "      <td>6</td>\n",
              "      <td>0.8592</td>\n",
              "      <td>6948.0</td>\n",
              "      <td>2015</td>\n",
              "    </tr>\n",
              "    <tr>\n",
              "      <th>3747</th>\n",
              "      <td>229267</td>\n",
              "      <td>Trinity University</td>\n",
              "      <td>TX</td>\n",
              "      <td>6</td>\n",
              "      <td>0.4803</td>\n",
              "      <td>37856.0</td>\n",
              "      <td>2015</td>\n",
              "    </tr>\n",
              "    <tr>\n",
              "      <th>3748</th>\n",
              "      <td>229300</td>\n",
              "      <td>The University of Texas Health Science Center ...</td>\n",
              "      <td>TX</td>\n",
              "      <td>6</td>\n",
              "      <td>NaN</td>\n",
              "      <td>NaN</td>\n",
              "      <td>2015</td>\n",
              "    </tr>\n",
              "    <tr>\n",
              "      <th>3749</th>\n",
              "      <td>229337</td>\n",
              "      <td>Texas Tech University Health Sciences Center</td>\n",
              "      <td>TX</td>\n",
              "      <td>6</td>\n",
              "      <td>NaN</td>\n",
              "      <td>NaN</td>\n",
              "      <td>2015</td>\n",
              "    </tr>\n",
              "    <tr>\n",
              "      <th>3750</th>\n",
              "      <td>229355</td>\n",
              "      <td>Tyler Junior College</td>\n",
              "      <td>TX</td>\n",
              "      <td>6</td>\n",
              "      <td>NaN</td>\n",
              "      <td>2410.0</td>\n",
              "      <td>2015</td>\n",
              "    </tr>\n",
              "    <tr>\n",
              "      <th>3751</th>\n",
              "      <td>229416</td>\n",
              "      <td>Universal Technical Institute of Texas Inc.</td>\n",
              "      <td>TX</td>\n",
              "      <td>6</td>\n",
              "      <td>NaN</td>\n",
              "      <td>NaN</td>\n",
              "      <td>2015</td>\n",
              "    </tr>\n",
              "  </tbody>\n",
              "</table>\n",
              "</div>"
            ],
            "text/plain": [
              "      UNITID  ...  YEAR\n",
              "3742  229036  ...  2015\n",
              "3743  229063  ...  2015\n",
              "3744  229115  ...  2015\n",
              "3745  229160  ...  2015\n",
              "3746  229179  ...  2015\n",
              "3747  229267  ...  2015\n",
              "3748  229300  ...  2015\n",
              "3749  229337  ...  2015\n",
              "3750  229355  ...  2015\n",
              "3751  229416  ...  2015\n",
              "\n",
              "[10 rows x 7 columns]"
            ]
          },
          "metadata": {
            "tags": []
          },
          "execution_count": 25
        }
      ]
    },
    {
      "cell_type": "code",
      "metadata": {
        "id": "9L65lI0t8C1m",
        "outputId": "65fa5512-c1c6-4dc9-a173-374c5c58937e",
        "colab": {
          "base_uri": "https://localhost:8080/",
          "height": 204
        }
      },
      "source": [
        "# look at random sample\n",
        "df.sample(5)"
      ],
      "execution_count": 26,
      "outputs": [
        {
          "output_type": "execute_result",
          "data": {
            "text/html": [
              "<div>\n",
              "<style scoped>\n",
              "    .dataframe tbody tr th:only-of-type {\n",
              "        vertical-align: middle;\n",
              "    }\n",
              "\n",
              "    .dataframe tbody tr th {\n",
              "        vertical-align: top;\n",
              "    }\n",
              "\n",
              "    .dataframe thead th {\n",
              "        text-align: right;\n",
              "    }\n",
              "</style>\n",
              "<table border=\"1\" class=\"dataframe\">\n",
              "  <thead>\n",
              "    <tr style=\"text-align: right;\">\n",
              "      <th></th>\n",
              "      <th>UNITID</th>\n",
              "      <th>INSTNM</th>\n",
              "      <th>STABBR</th>\n",
              "      <th>REGION</th>\n",
              "      <th>ADM_RATE</th>\n",
              "      <th>TUITIONFEE_IN</th>\n",
              "      <th>YEAR</th>\n",
              "    </tr>\n",
              "  </thead>\n",
              "  <tbody>\n",
              "    <tr>\n",
              "      <th>2648</th>\n",
              "      <td>184612</td>\n",
              "      <td>Felician University</td>\n",
              "      <td>NJ</td>\n",
              "      <td>2</td>\n",
              "      <td>0.6294</td>\n",
              "      <td>12450.0</td>\n",
              "      <td>2002</td>\n",
              "    </tr>\n",
              "    <tr>\n",
              "      <th>1192</th>\n",
              "      <td>141121</td>\n",
              "      <td>Swainsboro Technical College</td>\n",
              "      <td>GA</td>\n",
              "      <td>5</td>\n",
              "      <td>NaN</td>\n",
              "      <td>NaN</td>\n",
              "      <td>1997</td>\n",
              "    </tr>\n",
              "    <tr>\n",
              "      <th>2296</th>\n",
              "      <td>181756</td>\n",
              "      <td>Vatterott College-Spring Valley</td>\n",
              "      <td>NE</td>\n",
              "      <td>4</td>\n",
              "      <td>NaN</td>\n",
              "      <td>11849.0</td>\n",
              "      <td>2011</td>\n",
              "    </tr>\n",
              "    <tr>\n",
              "      <th>1717</th>\n",
              "      <td>166683</td>\n",
              "      <td>Massachusetts Institute of Technology</td>\n",
              "      <td>MA</td>\n",
              "      <td>1</td>\n",
              "      <td>0.0788</td>\n",
              "      <td>45016.0</td>\n",
              "      <td>2014</td>\n",
              "    </tr>\n",
              "    <tr>\n",
              "      <th>436</th>\n",
              "      <td>118453</td>\n",
              "      <td>Marinello School of Beauty</td>\n",
              "      <td>CA</td>\n",
              "      <td>8</td>\n",
              "      <td>NaN</td>\n",
              "      <td>NaN</td>\n",
              "      <td>2008</td>\n",
              "    </tr>\n",
              "  </tbody>\n",
              "</table>\n",
              "</div>"
            ],
            "text/plain": [
              "      UNITID                                 INSTNM  ... TUITIONFEE_IN  YEAR\n",
              "2648  184612                    Felician University  ...       12450.0  2002\n",
              "1192  141121           Swainsboro Technical College  ...           NaN  1997\n",
              "2296  181756        Vatterott College-Spring Valley  ...       11849.0  2011\n",
              "1717  166683  Massachusetts Institute of Technology  ...       45016.0  2014\n",
              "436   118453             Marinello School of Beauty  ...           NaN  2008\n",
              "\n",
              "[5 rows x 7 columns]"
            ]
          },
          "metadata": {
            "tags": []
          },
          "execution_count": 26
        }
      ]
    },
    {
      "cell_type": "code",
      "metadata": {
        "id": "8x-fMW718C5I",
        "outputId": "d2801ae2-b6df-4fbe-935b-8858289e3912",
        "colab": {
          "base_uri": "https://localhost:8080/",
          "height": 297
        }
      },
      "source": [
        "df.describe()"
      ],
      "execution_count": 27,
      "outputs": [
        {
          "output_type": "execute_result",
          "data": {
            "text/html": [
              "<div>\n",
              "<style scoped>\n",
              "    .dataframe tbody tr th:only-of-type {\n",
              "        vertical-align: middle;\n",
              "    }\n",
              "\n",
              "    .dataframe tbody tr th {\n",
              "        vertical-align: top;\n",
              "    }\n",
              "\n",
              "    .dataframe thead th {\n",
              "        text-align: right;\n",
              "    }\n",
              "</style>\n",
              "<table border=\"1\" class=\"dataframe\">\n",
              "  <thead>\n",
              "    <tr style=\"text-align: right;\">\n",
              "      <th></th>\n",
              "      <th>UNITID</th>\n",
              "      <th>REGION</th>\n",
              "      <th>ADM_RATE</th>\n",
              "      <th>TUITIONFEE_IN</th>\n",
              "    </tr>\n",
              "  </thead>\n",
              "  <tbody>\n",
              "    <tr>\n",
              "      <th>count</th>\n",
              "      <td>1.086310e+05</td>\n",
              "      <td>108631.000000</td>\n",
              "      <td>31528.000000</td>\n",
              "      <td>55529.000000</td>\n",
              "    </tr>\n",
              "    <tr>\n",
              "      <th>mean</th>\n",
              "      <td>4.156003e+05</td>\n",
              "      <td>4.300761</td>\n",
              "      <td>0.680557</td>\n",
              "      <td>11949.628753</td>\n",
              "    </tr>\n",
              "    <tr>\n",
              "      <th>std</th>\n",
              "      <td>2.683024e+06</td>\n",
              "      <td>2.157496</td>\n",
              "      <td>0.213002</td>\n",
              "      <td>10895.561734</td>\n",
              "    </tr>\n",
              "    <tr>\n",
              "      <th>min</th>\n",
              "      <td>1.006360e+05</td>\n",
              "      <td>0.000000</td>\n",
              "      <td>0.000000</td>\n",
              "      <td>0.000000</td>\n",
              "    </tr>\n",
              "    <tr>\n",
              "      <th>25%</th>\n",
              "      <td>1.465285e+05</td>\n",
              "      <td>2.000000</td>\n",
              "      <td>0.551375</td>\n",
              "      <td>3360.000000</td>\n",
              "    </tr>\n",
              "    <tr>\n",
              "      <th>50%</th>\n",
              "      <td>1.803280e+05</td>\n",
              "      <td>4.000000</td>\n",
              "      <td>0.705700</td>\n",
              "      <td>8414.000000</td>\n",
              "    </tr>\n",
              "    <tr>\n",
              "      <th>75%</th>\n",
              "      <td>2.125770e+05</td>\n",
              "      <td>5.000000</td>\n",
              "      <td>0.833300</td>\n",
              "      <td>17170.000000</td>\n",
              "    </tr>\n",
              "    <tr>\n",
              "      <th>max</th>\n",
              "      <td>4.914640e+07</td>\n",
              "      <td>9.000000</td>\n",
              "      <td>1.000000</td>\n",
              "      <td>74514.000000</td>\n",
              "    </tr>\n",
              "  </tbody>\n",
              "</table>\n",
              "</div>"
            ],
            "text/plain": [
              "             UNITID         REGION      ADM_RATE  TUITIONFEE_IN\n",
              "count  1.086310e+05  108631.000000  31528.000000   55529.000000\n",
              "mean   4.156003e+05       4.300761      0.680557   11949.628753\n",
              "std    2.683024e+06       2.157496      0.213002   10895.561734\n",
              "min    1.006360e+05       0.000000      0.000000       0.000000\n",
              "25%    1.465285e+05       2.000000      0.551375    3360.000000\n",
              "50%    1.803280e+05       4.000000      0.705700    8414.000000\n",
              "75%    2.125770e+05       5.000000      0.833300   17170.000000\n",
              "max    4.914640e+07       9.000000      1.000000   74514.000000"
            ]
          },
          "metadata": {
            "tags": []
          },
          "execution_count": 27
        }
      ]
    },
    {
      "cell_type": "markdown",
      "metadata": {
        "id": "dIzIEFKb8h79"
      },
      "source": [
        "## Question 7"
      ]
    },
    {
      "cell_type": "code",
      "metadata": {
        "id": "NQjKoDmU6zLd"
      },
      "source": [
        "# <7>\n",
        "# the dataframe contains many years of data of all U.S. colleges.\n",
        "# let's just look at UMBC\n",
        "# filter/query the dataframe to retrieve only rows that belong to UMBC\n",
        "# save the UMNC data to a new data frame. using a new variable \n",
        "# so that the old big data frame is still available for later use.\n",
        "\n",
        "#(Write code here)\n",
        "df_bc = df[df['INSTNM'] == 'University of Maryland-Baltimore County']"
      ],
      "execution_count": 28,
      "outputs": []
    },
    {
      "cell_type": "code",
      "metadata": {
        "id": "_P2w7QPt8yW7",
        "outputId": "39cf20cc-eb07-4f7f-e42a-5e6f73354fec",
        "colab": {
          "base_uri": "https://localhost:8080/",
          "height": 762
        }
      },
      "source": [
        "df_bc"
      ],
      "execution_count": 29,
      "outputs": [
        {
          "output_type": "execute_result",
          "data": {
            "text/html": [
              "<div>\n",
              "<style scoped>\n",
              "    .dataframe tbody tr th:only-of-type {\n",
              "        vertical-align: middle;\n",
              "    }\n",
              "\n",
              "    .dataframe tbody tr th {\n",
              "        vertical-align: top;\n",
              "    }\n",
              "\n",
              "    .dataframe thead th {\n",
              "        text-align: right;\n",
              "    }\n",
              "</style>\n",
              "<table border=\"1\" class=\"dataframe\">\n",
              "  <thead>\n",
              "    <tr style=\"text-align: right;\">\n",
              "      <th></th>\n",
              "      <th>UNITID</th>\n",
              "      <th>INSTNM</th>\n",
              "      <th>STABBR</th>\n",
              "      <th>REGION</th>\n",
              "      <th>ADM_RATE</th>\n",
              "      <th>TUITIONFEE_IN</th>\n",
              "      <th>YEAR</th>\n",
              "    </tr>\n",
              "  </thead>\n",
              "  <tbody>\n",
              "    <tr>\n",
              "      <th>1982</th>\n",
              "      <td>163268</td>\n",
              "      <td>University of Maryland-Baltimore County</td>\n",
              "      <td>MD</td>\n",
              "      <td>2</td>\n",
              "      <td>NaN</td>\n",
              "      <td>NaN</td>\n",
              "      <td>1998</td>\n",
              "    </tr>\n",
              "    <tr>\n",
              "      <th>1799</th>\n",
              "      <td>163268</td>\n",
              "      <td>University of Maryland-Baltimore County</td>\n",
              "      <td>MD</td>\n",
              "      <td>2</td>\n",
              "      <td>0.7153</td>\n",
              "      <td>8622.0</td>\n",
              "      <td>2006</td>\n",
              "    </tr>\n",
              "    <tr>\n",
              "      <th>1779</th>\n",
              "      <td>163268</td>\n",
              "      <td>University of Maryland-Baltimore County</td>\n",
              "      <td>MD</td>\n",
              "      <td>2</td>\n",
              "      <td>0.6895</td>\n",
              "      <td>8708.0</td>\n",
              "      <td>2007</td>\n",
              "    </tr>\n",
              "    <tr>\n",
              "      <th>1873</th>\n",
              "      <td>163268</td>\n",
              "      <td>University of Maryland-Baltimore County</td>\n",
              "      <td>MD</td>\n",
              "      <td>2</td>\n",
              "      <td>0.5757</td>\n",
              "      <td>7388.0</td>\n",
              "      <td>2003</td>\n",
              "    </tr>\n",
              "    <tr>\n",
              "      <th>1745</th>\n",
              "      <td>163268</td>\n",
              "      <td>University of Maryland-Baltimore County</td>\n",
              "      <td>MD</td>\n",
              "      <td>2</td>\n",
              "      <td>0.6890</td>\n",
              "      <td>8872.0</td>\n",
              "      <td>2009</td>\n",
              "    </tr>\n",
              "    <tr>\n",
              "      <th>1510</th>\n",
              "      <td>163268</td>\n",
              "      <td>University of Maryland-Baltimore County</td>\n",
              "      <td>MD</td>\n",
              "      <td>2</td>\n",
              "      <td>0.5683</td>\n",
              "      <td>11264.0</td>\n",
              "      <td>2016</td>\n",
              "    </tr>\n",
              "    <tr>\n",
              "      <th>1915</th>\n",
              "      <td>163268</td>\n",
              "      <td>University of Maryland-Baltimore County</td>\n",
              "      <td>MD</td>\n",
              "      <td>2</td>\n",
              "      <td>0.6551</td>\n",
              "      <td>5910.0</td>\n",
              "      <td>2001</td>\n",
              "    </tr>\n",
              "    <tr>\n",
              "      <th>1478</th>\n",
              "      <td>163268</td>\n",
              "      <td>University of Maryland-Baltimore County</td>\n",
              "      <td>MD</td>\n",
              "      <td>2</td>\n",
              "      <td>0.6021</td>\n",
              "      <td>11518.0</td>\n",
              "      <td>2017</td>\n",
              "    </tr>\n",
              "    <tr>\n",
              "      <th>1893</th>\n",
              "      <td>163268</td>\n",
              "      <td>University of Maryland-Baltimore County</td>\n",
              "      <td>MD</td>\n",
              "      <td>2</td>\n",
              "      <td>0.6327</td>\n",
              "      <td>6362.0</td>\n",
              "      <td>2002</td>\n",
              "    </tr>\n",
              "    <tr>\n",
              "      <th>1629</th>\n",
              "      <td>163268</td>\n",
              "      <td>University of Maryland-Baltimore County</td>\n",
              "      <td>MD</td>\n",
              "      <td>2</td>\n",
              "      <td>0.6315</td>\n",
              "      <td>10068.0</td>\n",
              "      <td>2013</td>\n",
              "    </tr>\n",
              "    <tr>\n",
              "      <th>1415</th>\n",
              "      <td>163268</td>\n",
              "      <td>University of Maryland-Baltimore County</td>\n",
              "      <td>MD</td>\n",
              "      <td>2</td>\n",
              "      <td>0.5794</td>\n",
              "      <td>11778.0</td>\n",
              "      <td>2018</td>\n",
              "    </tr>\n",
              "    <tr>\n",
              "      <th>1926</th>\n",
              "      <td>163268</td>\n",
              "      <td>University of Maryland-Baltimore County</td>\n",
              "      <td>MD</td>\n",
              "      <td>2</td>\n",
              "      <td>NaN</td>\n",
              "      <td>5490.0</td>\n",
              "      <td>2000</td>\n",
              "    </tr>\n",
              "    <tr>\n",
              "      <th>1955</th>\n",
              "      <td>163268</td>\n",
              "      <td>University of Maryland-Baltimore County</td>\n",
              "      <td>MD</td>\n",
              "      <td>2</td>\n",
              "      <td>NaN</td>\n",
              "      <td>NaN</td>\n",
              "      <td>1999</td>\n",
              "    </tr>\n",
              "    <tr>\n",
              "      <th>1830</th>\n",
              "      <td>163268</td>\n",
              "      <td>University of Maryland-Baltimore County</td>\n",
              "      <td>MD</td>\n",
              "      <td>2</td>\n",
              "      <td>0.7014</td>\n",
              "      <td>8020.0</td>\n",
              "      <td>2004</td>\n",
              "    </tr>\n",
              "    <tr>\n",
              "      <th>1767</th>\n",
              "      <td>163268</td>\n",
              "      <td>University of Maryland-Baltimore County</td>\n",
              "      <td>MD</td>\n",
              "      <td>2</td>\n",
              "      <td>0.7174</td>\n",
              "      <td>8780.0</td>\n",
              "      <td>2008</td>\n",
              "    </tr>\n",
              "    <tr>\n",
              "      <th>1710</th>\n",
              "      <td>163268</td>\n",
              "      <td>University of Maryland-Baltimore County</td>\n",
              "      <td>MD</td>\n",
              "      <td>2</td>\n",
              "      <td>0.6589</td>\n",
              "      <td>9171.0</td>\n",
              "      <td>2010</td>\n",
              "    </tr>\n",
              "    <tr>\n",
              "      <th>1610</th>\n",
              "      <td>163268</td>\n",
              "      <td>University of Maryland-Baltimore County</td>\n",
              "      <td>MD</td>\n",
              "      <td>2</td>\n",
              "      <td>0.5961</td>\n",
              "      <td>10384.0</td>\n",
              "      <td>2014</td>\n",
              "    </tr>\n",
              "    <tr>\n",
              "      <th>1694</th>\n",
              "      <td>163268</td>\n",
              "      <td>University of Maryland-Baltimore County</td>\n",
              "      <td>MD</td>\n",
              "      <td>2</td>\n",
              "      <td>0.6081</td>\n",
              "      <td>9467.0</td>\n",
              "      <td>2011</td>\n",
              "    </tr>\n",
              "    <tr>\n",
              "      <th>1660</th>\n",
              "      <td>163268</td>\n",
              "      <td>University of Maryland-Baltimore County</td>\n",
              "      <td>MD</td>\n",
              "      <td>2</td>\n",
              "      <td>0.6035</td>\n",
              "      <td>9764.0</td>\n",
              "      <td>2012</td>\n",
              "    </tr>\n",
              "    <tr>\n",
              "      <th>2049</th>\n",
              "      <td>163268</td>\n",
              "      <td>University of Maryland-Baltimore County</td>\n",
              "      <td>MD</td>\n",
              "      <td>2</td>\n",
              "      <td>NaN</td>\n",
              "      <td>NaN</td>\n",
              "      <td>1997</td>\n",
              "    </tr>\n",
              "    <tr>\n",
              "      <th>1819</th>\n",
              "      <td>163268</td>\n",
              "      <td>University of Maryland-Baltimore County</td>\n",
              "      <td>MD</td>\n",
              "      <td>2</td>\n",
              "      <td>0.7143</td>\n",
              "      <td>8520.0</td>\n",
              "      <td>2005</td>\n",
              "    </tr>\n",
              "    <tr>\n",
              "      <th>2151</th>\n",
              "      <td>163268</td>\n",
              "      <td>University of Maryland-Baltimore County</td>\n",
              "      <td>MD</td>\n",
              "      <td>2</td>\n",
              "      <td>NaN</td>\n",
              "      <td>NaN</td>\n",
              "      <td>1996</td>\n",
              "    </tr>\n",
              "    <tr>\n",
              "      <th>1555</th>\n",
              "      <td>163268</td>\n",
              "      <td>University of Maryland-Baltimore County</td>\n",
              "      <td>MD</td>\n",
              "      <td>2</td>\n",
              "      <td>0.5942</td>\n",
              "      <td>11006.0</td>\n",
              "      <td>2015</td>\n",
              "    </tr>\n",
              "  </tbody>\n",
              "</table>\n",
              "</div>"
            ],
            "text/plain": [
              "      UNITID                                   INSTNM  ... TUITIONFEE_IN  YEAR\n",
              "1982  163268  University of Maryland-Baltimore County  ...           NaN  1998\n",
              "1799  163268  University of Maryland-Baltimore County  ...        8622.0  2006\n",
              "1779  163268  University of Maryland-Baltimore County  ...        8708.0  2007\n",
              "1873  163268  University of Maryland-Baltimore County  ...        7388.0  2003\n",
              "1745  163268  University of Maryland-Baltimore County  ...        8872.0  2009\n",
              "1510  163268  University of Maryland-Baltimore County  ...       11264.0  2016\n",
              "1915  163268  University of Maryland-Baltimore County  ...        5910.0  2001\n",
              "1478  163268  University of Maryland-Baltimore County  ...       11518.0  2017\n",
              "1893  163268  University of Maryland-Baltimore County  ...        6362.0  2002\n",
              "1629  163268  University of Maryland-Baltimore County  ...       10068.0  2013\n",
              "1415  163268  University of Maryland-Baltimore County  ...       11778.0  2018\n",
              "1926  163268  University of Maryland-Baltimore County  ...        5490.0  2000\n",
              "1955  163268  University of Maryland-Baltimore County  ...           NaN  1999\n",
              "1830  163268  University of Maryland-Baltimore County  ...        8020.0  2004\n",
              "1767  163268  University of Maryland-Baltimore County  ...        8780.0  2008\n",
              "1710  163268  University of Maryland-Baltimore County  ...        9171.0  2010\n",
              "1610  163268  University of Maryland-Baltimore County  ...       10384.0  2014\n",
              "1694  163268  University of Maryland-Baltimore County  ...        9467.0  2011\n",
              "1660  163268  University of Maryland-Baltimore County  ...        9764.0  2012\n",
              "2049  163268  University of Maryland-Baltimore County  ...           NaN  1997\n",
              "1819  163268  University of Maryland-Baltimore County  ...        8520.0  2005\n",
              "2151  163268  University of Maryland-Baltimore County  ...           NaN  1996\n",
              "1555  163268  University of Maryland-Baltimore County  ...       11006.0  2015\n",
              "\n",
              "[23 rows x 7 columns]"
            ]
          },
          "metadata": {
            "tags": []
          },
          "execution_count": 29
        }
      ]
    },
    {
      "cell_type": "markdown",
      "metadata": {
        "id": "ngzT-sTr85bk"
      },
      "source": [
        "## Question 8"
      ]
    },
    {
      "cell_type": "code",
      "metadata": {
        "id": "d5X87ugp6zLt"
      },
      "source": [
        "# <8>\n",
        "# Explore this UMBC dataframe (# of observations, varibles, head, tail, sample, missing values, statistics,etc.)\n",
        "\n",
        "#(Write code here)"
      ],
      "execution_count": null,
      "outputs": []
    },
    {
      "cell_type": "code",
      "metadata": {
        "id": "uJMzEKXx87y0",
        "outputId": "81131d1b-6891-4790-a549-5cfe4890a73a",
        "colab": {
          "base_uri": "https://localhost:8080/",
          "height": 34
        }
      },
      "source": [
        "# number of observations\n",
        "df_bc.shape"
      ],
      "execution_count": 31,
      "outputs": [
        {
          "output_type": "execute_result",
          "data": {
            "text/plain": [
              "(23, 7)"
            ]
          },
          "metadata": {
            "tags": []
          },
          "execution_count": 31
        }
      ]
    },
    {
      "cell_type": "code",
      "metadata": {
        "id": "bEfPznF7875M",
        "outputId": "3a9d3765-2aaf-49ed-d4f0-7734d18bcfb6",
        "colab": {
          "base_uri": "https://localhost:8080/",
          "height": 204
        }
      },
      "source": [
        "df_bc.head()"
      ],
      "execution_count": 32,
      "outputs": [
        {
          "output_type": "execute_result",
          "data": {
            "text/html": [
              "<div>\n",
              "<style scoped>\n",
              "    .dataframe tbody tr th:only-of-type {\n",
              "        vertical-align: middle;\n",
              "    }\n",
              "\n",
              "    .dataframe tbody tr th {\n",
              "        vertical-align: top;\n",
              "    }\n",
              "\n",
              "    .dataframe thead th {\n",
              "        text-align: right;\n",
              "    }\n",
              "</style>\n",
              "<table border=\"1\" class=\"dataframe\">\n",
              "  <thead>\n",
              "    <tr style=\"text-align: right;\">\n",
              "      <th></th>\n",
              "      <th>UNITID</th>\n",
              "      <th>INSTNM</th>\n",
              "      <th>STABBR</th>\n",
              "      <th>REGION</th>\n",
              "      <th>ADM_RATE</th>\n",
              "      <th>TUITIONFEE_IN</th>\n",
              "      <th>YEAR</th>\n",
              "    </tr>\n",
              "  </thead>\n",
              "  <tbody>\n",
              "    <tr>\n",
              "      <th>1982</th>\n",
              "      <td>163268</td>\n",
              "      <td>University of Maryland-Baltimore County</td>\n",
              "      <td>MD</td>\n",
              "      <td>2</td>\n",
              "      <td>NaN</td>\n",
              "      <td>NaN</td>\n",
              "      <td>1998</td>\n",
              "    </tr>\n",
              "    <tr>\n",
              "      <th>1799</th>\n",
              "      <td>163268</td>\n",
              "      <td>University of Maryland-Baltimore County</td>\n",
              "      <td>MD</td>\n",
              "      <td>2</td>\n",
              "      <td>0.7153</td>\n",
              "      <td>8622.0</td>\n",
              "      <td>2006</td>\n",
              "    </tr>\n",
              "    <tr>\n",
              "      <th>1779</th>\n",
              "      <td>163268</td>\n",
              "      <td>University of Maryland-Baltimore County</td>\n",
              "      <td>MD</td>\n",
              "      <td>2</td>\n",
              "      <td>0.6895</td>\n",
              "      <td>8708.0</td>\n",
              "      <td>2007</td>\n",
              "    </tr>\n",
              "    <tr>\n",
              "      <th>1873</th>\n",
              "      <td>163268</td>\n",
              "      <td>University of Maryland-Baltimore County</td>\n",
              "      <td>MD</td>\n",
              "      <td>2</td>\n",
              "      <td>0.5757</td>\n",
              "      <td>7388.0</td>\n",
              "      <td>2003</td>\n",
              "    </tr>\n",
              "    <tr>\n",
              "      <th>1745</th>\n",
              "      <td>163268</td>\n",
              "      <td>University of Maryland-Baltimore County</td>\n",
              "      <td>MD</td>\n",
              "      <td>2</td>\n",
              "      <td>0.6890</td>\n",
              "      <td>8872.0</td>\n",
              "      <td>2009</td>\n",
              "    </tr>\n",
              "  </tbody>\n",
              "</table>\n",
              "</div>"
            ],
            "text/plain": [
              "      UNITID                                   INSTNM  ... TUITIONFEE_IN  YEAR\n",
              "1982  163268  University of Maryland-Baltimore County  ...           NaN  1998\n",
              "1799  163268  University of Maryland-Baltimore County  ...        8622.0  2006\n",
              "1779  163268  University of Maryland-Baltimore County  ...        8708.0  2007\n",
              "1873  163268  University of Maryland-Baltimore County  ...        7388.0  2003\n",
              "1745  163268  University of Maryland-Baltimore County  ...        8872.0  2009\n",
              "\n",
              "[5 rows x 7 columns]"
            ]
          },
          "metadata": {
            "tags": []
          },
          "execution_count": 32
        }
      ]
    },
    {
      "cell_type": "code",
      "metadata": {
        "id": "bcCWuZFx8781",
        "outputId": "b79ee93b-990f-4303-db89-931b7f7fa926",
        "colab": {
          "base_uri": "https://localhost:8080/",
          "height": 204
        }
      },
      "source": [
        "df_bc.tail()"
      ],
      "execution_count": 33,
      "outputs": [
        {
          "output_type": "execute_result",
          "data": {
            "text/html": [
              "<div>\n",
              "<style scoped>\n",
              "    .dataframe tbody tr th:only-of-type {\n",
              "        vertical-align: middle;\n",
              "    }\n",
              "\n",
              "    .dataframe tbody tr th {\n",
              "        vertical-align: top;\n",
              "    }\n",
              "\n",
              "    .dataframe thead th {\n",
              "        text-align: right;\n",
              "    }\n",
              "</style>\n",
              "<table border=\"1\" class=\"dataframe\">\n",
              "  <thead>\n",
              "    <tr style=\"text-align: right;\">\n",
              "      <th></th>\n",
              "      <th>UNITID</th>\n",
              "      <th>INSTNM</th>\n",
              "      <th>STABBR</th>\n",
              "      <th>REGION</th>\n",
              "      <th>ADM_RATE</th>\n",
              "      <th>TUITIONFEE_IN</th>\n",
              "      <th>YEAR</th>\n",
              "    </tr>\n",
              "  </thead>\n",
              "  <tbody>\n",
              "    <tr>\n",
              "      <th>1660</th>\n",
              "      <td>163268</td>\n",
              "      <td>University of Maryland-Baltimore County</td>\n",
              "      <td>MD</td>\n",
              "      <td>2</td>\n",
              "      <td>0.6035</td>\n",
              "      <td>9764.0</td>\n",
              "      <td>2012</td>\n",
              "    </tr>\n",
              "    <tr>\n",
              "      <th>2049</th>\n",
              "      <td>163268</td>\n",
              "      <td>University of Maryland-Baltimore County</td>\n",
              "      <td>MD</td>\n",
              "      <td>2</td>\n",
              "      <td>NaN</td>\n",
              "      <td>NaN</td>\n",
              "      <td>1997</td>\n",
              "    </tr>\n",
              "    <tr>\n",
              "      <th>1819</th>\n",
              "      <td>163268</td>\n",
              "      <td>University of Maryland-Baltimore County</td>\n",
              "      <td>MD</td>\n",
              "      <td>2</td>\n",
              "      <td>0.7143</td>\n",
              "      <td>8520.0</td>\n",
              "      <td>2005</td>\n",
              "    </tr>\n",
              "    <tr>\n",
              "      <th>2151</th>\n",
              "      <td>163268</td>\n",
              "      <td>University of Maryland-Baltimore County</td>\n",
              "      <td>MD</td>\n",
              "      <td>2</td>\n",
              "      <td>NaN</td>\n",
              "      <td>NaN</td>\n",
              "      <td>1996</td>\n",
              "    </tr>\n",
              "    <tr>\n",
              "      <th>1555</th>\n",
              "      <td>163268</td>\n",
              "      <td>University of Maryland-Baltimore County</td>\n",
              "      <td>MD</td>\n",
              "      <td>2</td>\n",
              "      <td>0.5942</td>\n",
              "      <td>11006.0</td>\n",
              "      <td>2015</td>\n",
              "    </tr>\n",
              "  </tbody>\n",
              "</table>\n",
              "</div>"
            ],
            "text/plain": [
              "      UNITID                                   INSTNM  ... TUITIONFEE_IN  YEAR\n",
              "1660  163268  University of Maryland-Baltimore County  ...        9764.0  2012\n",
              "2049  163268  University of Maryland-Baltimore County  ...           NaN  1997\n",
              "1819  163268  University of Maryland-Baltimore County  ...        8520.0  2005\n",
              "2151  163268  University of Maryland-Baltimore County  ...           NaN  1996\n",
              "1555  163268  University of Maryland-Baltimore County  ...       11006.0  2015\n",
              "\n",
              "[5 rows x 7 columns]"
            ]
          },
          "metadata": {
            "tags": []
          },
          "execution_count": 33
        }
      ]
    },
    {
      "cell_type": "code",
      "metadata": {
        "id": "kR_7wTjy87_7",
        "outputId": "49243a63-be5f-4215-9ada-bc6e233c5651",
        "colab": {
          "base_uri": "https://localhost:8080/",
          "height": 204
        }
      },
      "source": [
        "df_bc.sample(5)"
      ],
      "execution_count": 35,
      "outputs": [
        {
          "output_type": "execute_result",
          "data": {
            "text/html": [
              "<div>\n",
              "<style scoped>\n",
              "    .dataframe tbody tr th:only-of-type {\n",
              "        vertical-align: middle;\n",
              "    }\n",
              "\n",
              "    .dataframe tbody tr th {\n",
              "        vertical-align: top;\n",
              "    }\n",
              "\n",
              "    .dataframe thead th {\n",
              "        text-align: right;\n",
              "    }\n",
              "</style>\n",
              "<table border=\"1\" class=\"dataframe\">\n",
              "  <thead>\n",
              "    <tr style=\"text-align: right;\">\n",
              "      <th></th>\n",
              "      <th>UNITID</th>\n",
              "      <th>INSTNM</th>\n",
              "      <th>STABBR</th>\n",
              "      <th>REGION</th>\n",
              "      <th>ADM_RATE</th>\n",
              "      <th>TUITIONFEE_IN</th>\n",
              "      <th>YEAR</th>\n",
              "    </tr>\n",
              "  </thead>\n",
              "  <tbody>\n",
              "    <tr>\n",
              "      <th>1510</th>\n",
              "      <td>163268</td>\n",
              "      <td>University of Maryland-Baltimore County</td>\n",
              "      <td>MD</td>\n",
              "      <td>2</td>\n",
              "      <td>0.5683</td>\n",
              "      <td>11264.0</td>\n",
              "      <td>2016</td>\n",
              "    </tr>\n",
              "    <tr>\n",
              "      <th>1982</th>\n",
              "      <td>163268</td>\n",
              "      <td>University of Maryland-Baltimore County</td>\n",
              "      <td>MD</td>\n",
              "      <td>2</td>\n",
              "      <td>NaN</td>\n",
              "      <td>NaN</td>\n",
              "      <td>1998</td>\n",
              "    </tr>\n",
              "    <tr>\n",
              "      <th>1745</th>\n",
              "      <td>163268</td>\n",
              "      <td>University of Maryland-Baltimore County</td>\n",
              "      <td>MD</td>\n",
              "      <td>2</td>\n",
              "      <td>0.6890</td>\n",
              "      <td>8872.0</td>\n",
              "      <td>2009</td>\n",
              "    </tr>\n",
              "    <tr>\n",
              "      <th>1478</th>\n",
              "      <td>163268</td>\n",
              "      <td>University of Maryland-Baltimore County</td>\n",
              "      <td>MD</td>\n",
              "      <td>2</td>\n",
              "      <td>0.6021</td>\n",
              "      <td>11518.0</td>\n",
              "      <td>2017</td>\n",
              "    </tr>\n",
              "    <tr>\n",
              "      <th>1819</th>\n",
              "      <td>163268</td>\n",
              "      <td>University of Maryland-Baltimore County</td>\n",
              "      <td>MD</td>\n",
              "      <td>2</td>\n",
              "      <td>0.7143</td>\n",
              "      <td>8520.0</td>\n",
              "      <td>2005</td>\n",
              "    </tr>\n",
              "  </tbody>\n",
              "</table>\n",
              "</div>"
            ],
            "text/plain": [
              "      UNITID                                   INSTNM  ... TUITIONFEE_IN  YEAR\n",
              "1510  163268  University of Maryland-Baltimore County  ...       11264.0  2016\n",
              "1982  163268  University of Maryland-Baltimore County  ...           NaN  1998\n",
              "1745  163268  University of Maryland-Baltimore County  ...        8872.0  2009\n",
              "1478  163268  University of Maryland-Baltimore County  ...       11518.0  2017\n",
              "1819  163268  University of Maryland-Baltimore County  ...        8520.0  2005\n",
              "\n",
              "[5 rows x 7 columns]"
            ]
          },
          "metadata": {
            "tags": []
          },
          "execution_count": 35
        }
      ]
    },
    {
      "cell_type": "code",
      "metadata": {
        "id": "evU4H3OU88IE",
        "outputId": "77de4ace-8474-44d9-f1a9-89c1eb619ed1",
        "colab": {
          "base_uri": "https://localhost:8080/",
          "height": 297
        }
      },
      "source": [
        "df_bc.describe()"
      ],
      "execution_count": 36,
      "outputs": [
        {
          "output_type": "execute_result",
          "data": {
            "text/html": [
              "<div>\n",
              "<style scoped>\n",
              "    .dataframe tbody tr th:only-of-type {\n",
              "        vertical-align: middle;\n",
              "    }\n",
              "\n",
              "    .dataframe tbody tr th {\n",
              "        vertical-align: top;\n",
              "    }\n",
              "\n",
              "    .dataframe thead th {\n",
              "        text-align: right;\n",
              "    }\n",
              "</style>\n",
              "<table border=\"1\" class=\"dataframe\">\n",
              "  <thead>\n",
              "    <tr style=\"text-align: right;\">\n",
              "      <th></th>\n",
              "      <th>UNITID</th>\n",
              "      <th>REGION</th>\n",
              "      <th>ADM_RATE</th>\n",
              "      <th>TUITIONFEE_IN</th>\n",
              "    </tr>\n",
              "  </thead>\n",
              "  <tbody>\n",
              "    <tr>\n",
              "      <th>count</th>\n",
              "      <td>23.0</td>\n",
              "      <td>23.0</td>\n",
              "      <td>18.000000</td>\n",
              "      <td>19.000000</td>\n",
              "    </tr>\n",
              "    <tr>\n",
              "      <th>mean</th>\n",
              "      <td>163268.0</td>\n",
              "      <td>2.0</td>\n",
              "      <td>0.640694</td>\n",
              "      <td>9004.842105</td>\n",
              "    </tr>\n",
              "    <tr>\n",
              "      <th>std</th>\n",
              "      <td>0.0</td>\n",
              "      <td>0.0</td>\n",
              "      <td>0.052728</td>\n",
              "      <td>1825.795421</td>\n",
              "    </tr>\n",
              "    <tr>\n",
              "      <th>min</th>\n",
              "      <td>163268.0</td>\n",
              "      <td>2.0</td>\n",
              "      <td>0.568300</td>\n",
              "      <td>5490.000000</td>\n",
              "    </tr>\n",
              "    <tr>\n",
              "      <th>25%</th>\n",
              "      <td>163268.0</td>\n",
              "      <td>2.0</td>\n",
              "      <td>0.597600</td>\n",
              "      <td>8270.000000</td>\n",
              "    </tr>\n",
              "    <tr>\n",
              "      <th>50%</th>\n",
              "      <td>163268.0</td>\n",
              "      <td>2.0</td>\n",
              "      <td>0.632100</td>\n",
              "      <td>8872.000000</td>\n",
              "    </tr>\n",
              "    <tr>\n",
              "      <th>75%</th>\n",
              "      <td>163268.0</td>\n",
              "      <td>2.0</td>\n",
              "      <td>0.689375</td>\n",
              "      <td>10226.000000</td>\n",
              "    </tr>\n",
              "    <tr>\n",
              "      <th>max</th>\n",
              "      <td>163268.0</td>\n",
              "      <td>2.0</td>\n",
              "      <td>0.717400</td>\n",
              "      <td>11778.000000</td>\n",
              "    </tr>\n",
              "  </tbody>\n",
              "</table>\n",
              "</div>"
            ],
            "text/plain": [
              "         UNITID  REGION   ADM_RATE  TUITIONFEE_IN\n",
              "count      23.0    23.0  18.000000      19.000000\n",
              "mean   163268.0     2.0   0.640694    9004.842105\n",
              "std         0.0     0.0   0.052728    1825.795421\n",
              "min    163268.0     2.0   0.568300    5490.000000\n",
              "25%    163268.0     2.0   0.597600    8270.000000\n",
              "50%    163268.0     2.0   0.632100    8872.000000\n",
              "75%    163268.0     2.0   0.689375   10226.000000\n",
              "max    163268.0     2.0   0.717400   11778.000000"
            ]
          },
          "metadata": {
            "tags": []
          },
          "execution_count": 36
        }
      ]
    },
    {
      "cell_type": "markdown",
      "metadata": {
        "id": "v-nzVtG99R2X"
      },
      "source": [
        "## Question 9"
      ]
    },
    {
      "cell_type": "code",
      "metadata": {
        "id": "5Poy4ciz6zLy",
        "outputId": "3e02609d-556b-4614-ec39-760c884cfe13",
        "colab": {
          "base_uri": "https://localhost:8080/",
          "height": 279
        }
      },
      "source": [
        "# <9> \n",
        "# Plot UMBC's in-state tution overtime from 1996 to 2019 using Bar Chart\n",
        "\n",
        "#(Write code here)\n",
        "df_bc = df_bc.sort_values('YEAR')\n",
        "ax = df_bc.plot.bar(x='YEAR', y='TUITIONFEE_IN',rot=0)"
      ],
      "execution_count": 40,
      "outputs": [
        {
          "output_type": "display_data",
          "data": {
            "image/png": "[encoded data removed]",
            "text/plain": [
              "<Figure size 432x288 with 1 Axes>"
            ]
          },
          "metadata": {
            "tags": [],
            "needs_background": "light"
          }
        }
      ]
    },
    {
      "cell_type": "markdown",
      "metadata": {
        "id": "DeTLeuNr_BzP"
      },
      "source": [
        "## Question 10"
      ]
    },
    {
      "cell_type": "code",
      "metadata": {
        "id": "afOQjc1w6zL4",
        "outputId": "1faf044d-4964-41fa-caa0-5fe9463d8558",
        "colab": {
          "base_uri": "https://localhost:8080/",
          "height": 280
        }
      },
      "source": [
        "# <10> \n",
        "# Plot UMBC's in-state tution overtime from 1996 to 2019 using Line Chart\n",
        "\n",
        "#(Write code here)\n",
        "ay = df_bc.plot.line(x='YEAR',y='TUITIONFEE_IN',rot=0)"
      ],
      "execution_count": 42,
      "outputs": [
        {
          "output_type": "display_data",
          "data": {
            "image/png": "[encoded data removed]",
            "text/plain": [
              "<Figure size 432x288 with 1 Axes>"
            ]
          },
          "metadata": {
            "tags": [],
            "needs_background": "light"
          }
        }
      ]
    },
    {
      "cell_type": "markdown",
      "metadata": {
        "id": "BLmQVKkZ_Rq6"
      },
      "source": [
        "## Question 11"
      ]
    },
    {
      "cell_type": "code",
      "metadata": {
        "id": "xQLB2f7J6zL-"
      },
      "source": [
        "# <11>\n",
        "# Now let's look at the tuition growth rate year over year\n",
        "# We need to calculate UMBC tuition change percentage each year\n",
        "# First convert the TUITIONFEE_IN column to a Python List\n",
        "\n",
        "#(Write code here)\n",
        "list_tution_bc = df_bc['TUITIONFEE_IN'].to_list()"
      ],
      "execution_count": 66,
      "outputs": []
    },
    {
      "cell_type": "code",
      "metadata": {
        "id": "LRUyQCtJ6zMB",
        "outputId": "c3c9a825-3152-4fec-e507-621175614fa9",
        "colab": {
          "base_uri": "https://localhost:8080/",
          "height": 71
        }
      },
      "source": [
        "# Loop through the list and calculate the % change each year over the prior year\n",
        "# This takes some effort. Not hard, just some abstract/logical thinking and some experiments\n",
        "# Have fun on this one\n",
        "\n",
        " #(Write code here)\n",
        "import math\n",
        "\n",
        "pct_inc = []\n",
        "prev_val = None\n",
        "for val in list_tution_bc:\n",
        "  if math.isnan(val):\n",
        "    pct_inc.append(0.0)\n",
        "  else:\n",
        "    if math.isnan(prev_val) or prev_val is None:\n",
        "      pct_inc.append(0.0)\n",
        "    else:\n",
        "      pct = float(val - prev_val) / float(prev_val)\n",
        "      pct_inc.append(pct)\n",
        "  prev_val = val\n",
        "print(list_tution_bc)\n",
        "print(pct_inc)"
      ],
      "execution_count": 67,
      "outputs": [
        {
          "output_type": "stream",
          "text": [
            "[nan, nan, nan, nan, 5490.0, 5910.0, 6362.0, 7388.0, 8020.0, 8520.0, 8622.0, 8708.0, 8780.0, 8872.0, 9171.0, 9467.0, 9764.0, 10068.0, 10384.0, 11006.0, 11264.0, 11518.0, 11778.0]\n",
            "[0.0, 0.0, 0.0, 0.0, 0.0, 0.07650273224043716, 0.07648054145516074, 0.16127004086765168, 0.08554412560909583, 0.06234413965087282, 0.011971830985915493, 0.009974483878450475, 0.008268259072117593, 0.010478359908883827, 0.03370153291253381, 0.03227565151019518, 0.03137213478398648, 0.031134780827529702, 0.03138657131505761, 0.05989984591679507, 0.02344175904052335, 0.022549715909090908, 0.022573363431151242]\n"
          ],
          "name": "stdout"
        }
      ]
    },
    {
      "cell_type": "code",
      "metadata": {
        "id": "9sxMk1hc6zML"
      },
      "source": [
        "# The resulting number has many decimal points which are unnecessary and not visually appealing.\n",
        "# Round up the percentage to two decimal points\n",
        "# You can use for loop. Or better, use list comprehension for simplicity/brevity\n",
        "\n",
        "#(Write code here)\n",
        "pct_inc_round = [round(elem,2) for elem in pct_inc]"
      ],
      "execution_count": 57,
      "outputs": []
    },
    {
      "cell_type": "code",
      "metadata": {
        "id": "_04rVaZ16zMR",
        "outputId": "46423721-01a0-4a78-b0ea-2c3e72dace53",
        "colab": {
          "base_uri": "https://localhost:8080/",
          "height": 204
        }
      },
      "source": [
        "# Add the list of the percentages to the dataframe as a new column (\"PCT_CHANGE\")\n",
        "# Not as hard as you may think. If you get stuck, you think too hard. \n",
        "# Google it and you will find the answer.\n",
        "\n",
        "#(Write code here)\n",
        "df_bc['PCT_CHANGE'] = pct_inc_round\n",
        "df_bc.tail()"
      ],
      "execution_count": 55,
      "outputs": [
        {
          "output_type": "execute_result",
          "data": {
            "text/html": [
              "<div>\n",
              "<style scoped>\n",
              "    .dataframe tbody tr th:only-of-type {\n",
              "        vertical-align: middle;\n",
              "    }\n",
              "\n",
              "    .dataframe tbody tr th {\n",
              "        vertical-align: top;\n",
              "    }\n",
              "\n",
              "    .dataframe thead th {\n",
              "        text-align: right;\n",
              "    }\n",
              "</style>\n",
              "<table border=\"1\" class=\"dataframe\">\n",
              "  <thead>\n",
              "    <tr style=\"text-align: right;\">\n",
              "      <th></th>\n",
              "      <th>UNITID</th>\n",
              "      <th>INSTNM</th>\n",
              "      <th>STABBR</th>\n",
              "      <th>REGION</th>\n",
              "      <th>ADM_RATE</th>\n",
              "      <th>TUITIONFEE_IN</th>\n",
              "      <th>YEAR</th>\n",
              "      <th>PCT_CHANGE</th>\n",
              "    </tr>\n",
              "  </thead>\n",
              "  <tbody>\n",
              "    <tr>\n",
              "      <th>1610</th>\n",
              "      <td>163268</td>\n",
              "      <td>University of Maryland-Baltimore County</td>\n",
              "      <td>MD</td>\n",
              "      <td>2</td>\n",
              "      <td>0.5961</td>\n",
              "      <td>10384.0</td>\n",
              "      <td>2014</td>\n",
              "      <td>0.03</td>\n",
              "    </tr>\n",
              "    <tr>\n",
              "      <th>1555</th>\n",
              "      <td>163268</td>\n",
              "      <td>University of Maryland-Baltimore County</td>\n",
              "      <td>MD</td>\n",
              "      <td>2</td>\n",
              "      <td>0.5942</td>\n",
              "      <td>11006.0</td>\n",
              "      <td>2015</td>\n",
              "      <td>0.06</td>\n",
              "    </tr>\n",
              "    <tr>\n",
              "      <th>1510</th>\n",
              "      <td>163268</td>\n",
              "      <td>University of Maryland-Baltimore County</td>\n",
              "      <td>MD</td>\n",
              "      <td>2</td>\n",
              "      <td>0.5683</td>\n",
              "      <td>11264.0</td>\n",
              "      <td>2016</td>\n",
              "      <td>0.02</td>\n",
              "    </tr>\n",
              "    <tr>\n",
              "      <th>1478</th>\n",
              "      <td>163268</td>\n",
              "      <td>University of Maryland-Baltimore County</td>\n",
              "      <td>MD</td>\n",
              "      <td>2</td>\n",
              "      <td>0.6021</td>\n",
              "      <td>11518.0</td>\n",
              "      <td>2017</td>\n",
              "      <td>0.02</td>\n",
              "    </tr>\n",
              "    <tr>\n",
              "      <th>1415</th>\n",
              "      <td>163268</td>\n",
              "      <td>University of Maryland-Baltimore County</td>\n",
              "      <td>MD</td>\n",
              "      <td>2</td>\n",
              "      <td>0.5794</td>\n",
              "      <td>11778.0</td>\n",
              "      <td>2018</td>\n",
              "      <td>0.02</td>\n",
              "    </tr>\n",
              "  </tbody>\n",
              "</table>\n",
              "</div>"
            ],
            "text/plain": [
              "      UNITID                                   INSTNM  ...  YEAR  PCT_CHANGE\n",
              "1610  163268  University of Maryland-Baltimore County  ...  2014        0.03\n",
              "1555  163268  University of Maryland-Baltimore County  ...  2015        0.06\n",
              "1510  163268  University of Maryland-Baltimore County  ...  2016        0.02\n",
              "1478  163268  University of Maryland-Baltimore County  ...  2017        0.02\n",
              "1415  163268  University of Maryland-Baltimore County  ...  2018        0.02\n",
              "\n",
              "[5 rows x 8 columns]"
            ]
          },
          "metadata": {
            "tags": []
          },
          "execution_count": 55
        }
      ]
    },
    {
      "cell_type": "code",
      "metadata": {
        "id": "5Evbjx-g6zMX",
        "outputId": "503eb962-c726-412b-bc73-eaadc304f30a",
        "colab": {
          "base_uri": "https://localhost:8080/",
          "height": 279
        }
      },
      "source": [
        "# Finaly, we can make the plot tuition growth rate year over year - bar first, then line chart\n",
        "\n",
        "# (write code here)\n",
        "ax_1 = pct_inc_round = df_bc.plot.bar(x='YEAR', y='PCT_CHANGE',rot=0)\n"
      ],
      "execution_count": 58,
      "outputs": [
        {
          "output_type": "display_data",
          "data": {
            "image/png": "[encoded data removed]",
            "text/plain": [
              "<Figure size 432x288 with 1 Axes>"
            ]
          },
          "metadata": {
            "tags": [],
            "needs_background": "light"
          }
        }
      ]
    },
    {
      "cell_type": "code",
      "metadata": {
        "id": "YzeBsBFSEhhg",
        "outputId": "685907f7-c90f-4a83-e2e1-0388eca2ee47",
        "colab": {
          "base_uri": "https://localhost:8080/",
          "height": 279
        }
      },
      "source": [
        "ay_1 = pct_inc_round = df_bc.plot.line(x='YEAR', y='PCT_CHANGE',rot=0)"
      ],
      "execution_count": 59,
      "outputs": [
        {
          "output_type": "display_data",
          "data": {
            "image/png": "[encoded data removed]",
            "text/plain": [
              "<Figure size 432x288 with 1 Axes>"
            ]
          },
          "metadata": {
            "tags": [],
            "needs_background": "light"
          }
        }
      ]
    },
    {
      "cell_type": "markdown",
      "metadata": {
        "id": "CCl3cqgBEmcM"
      },
      "source": [
        "## Question 12"
      ]
    },
    {
      "cell_type": "code",
      "metadata": {
        "id": "eCqEe_646zMc"
      },
      "source": [
        "# <12>\n",
        "# Since we want to do the same calculation for JHU. \n",
        "# Instead of doing it piecemeal as we did for UMBC\n",
        "# Let's create a function which can be reused for any college.\n",
        "# This function takes a list of tuitions and return a list of percentage changes year over year\n",
        "# This function can be used later \n",
        "\n",
        "#(Write code here)\n",
        "def per_change(df_name):\n",
        "\n",
        "  tuition_list = df_name['TUITIONFEE_IN'].to_list()\n",
        "\n",
        "  pct_inc = []\n",
        "  prev_val = None\n",
        "  for val in tuition_list:\n",
        "    if math.isnan(val):\n",
        "      pct_inc.append(0.0)\n",
        "    else:\n",
        "      if math.isnan(prev_val) or prev_val is None:\n",
        "        pct_inc.append(0.0)\n",
        "      else:\n",
        "        pct = float(val - prev_val) / float(prev_val)\n",
        "        pct_inc.append(pct)\n",
        "    prev_val = val\n",
        "  \n",
        "  # round list\n",
        "  pct_inc_round = [round(elem,2) for elem in pct_inc]\n",
        "\n",
        "  # add to dataframe\n",
        "  df_name['PCT_CHANGE'] = pct_inc_round\n",
        "  \n",
        "  return df_name\n",
        "\n",
        " "
      ],
      "execution_count": 79,
      "outputs": []
    },
    {
      "cell_type": "code",
      "metadata": {
        "id": "HiUS8AfXFxRC",
        "outputId": "e9adc4bf-273f-4492-d5eb-0a8cf92597e3",
        "colab": {
          "base_uri": "https://localhost:8080/",
          "height": 204
        }
      },
      "source": [
        "ex = per_change(df_bc)\n",
        "ex.tail()"
      ],
      "execution_count": 81,
      "outputs": [
        {
          "output_type": "execute_result",
          "data": {
            "text/html": [
              "<div>\n",
              "<style scoped>\n",
              "    .dataframe tbody tr th:only-of-type {\n",
              "        vertical-align: middle;\n",
              "    }\n",
              "\n",
              "    .dataframe tbody tr th {\n",
              "        vertical-align: top;\n",
              "    }\n",
              "\n",
              "    .dataframe thead th {\n",
              "        text-align: right;\n",
              "    }\n",
              "</style>\n",
              "<table border=\"1\" class=\"dataframe\">\n",
              "  <thead>\n",
              "    <tr style=\"text-align: right;\">\n",
              "      <th></th>\n",
              "      <th>UNITID</th>\n",
              "      <th>INSTNM</th>\n",
              "      <th>STABBR</th>\n",
              "      <th>REGION</th>\n",
              "      <th>ADM_RATE</th>\n",
              "      <th>TUITIONFEE_IN</th>\n",
              "      <th>YEAR</th>\n",
              "      <th>PCT_CHANGE</th>\n",
              "    </tr>\n",
              "  </thead>\n",
              "  <tbody>\n",
              "    <tr>\n",
              "      <th>1610</th>\n",
              "      <td>163268</td>\n",
              "      <td>University of Maryland-Baltimore County</td>\n",
              "      <td>MD</td>\n",
              "      <td>2</td>\n",
              "      <td>0.5961</td>\n",
              "      <td>10384.0</td>\n",
              "      <td>2014</td>\n",
              "      <td>0.03</td>\n",
              "    </tr>\n",
              "    <tr>\n",
              "      <th>1555</th>\n",
              "      <td>163268</td>\n",
              "      <td>University of Maryland-Baltimore County</td>\n",
              "      <td>MD</td>\n",
              "      <td>2</td>\n",
              "      <td>0.5942</td>\n",
              "      <td>11006.0</td>\n",
              "      <td>2015</td>\n",
              "      <td>0.06</td>\n",
              "    </tr>\n",
              "    <tr>\n",
              "      <th>1510</th>\n",
              "      <td>163268</td>\n",
              "      <td>University of Maryland-Baltimore County</td>\n",
              "      <td>MD</td>\n",
              "      <td>2</td>\n",
              "      <td>0.5683</td>\n",
              "      <td>11264.0</td>\n",
              "      <td>2016</td>\n",
              "      <td>0.02</td>\n",
              "    </tr>\n",
              "    <tr>\n",
              "      <th>1478</th>\n",
              "      <td>163268</td>\n",
              "      <td>University of Maryland-Baltimore County</td>\n",
              "      <td>MD</td>\n",
              "      <td>2</td>\n",
              "      <td>0.6021</td>\n",
              "      <td>11518.0</td>\n",
              "      <td>2017</td>\n",
              "      <td>0.02</td>\n",
              "    </tr>\n",
              "    <tr>\n",
              "      <th>1415</th>\n",
              "      <td>163268</td>\n",
              "      <td>University of Maryland-Baltimore County</td>\n",
              "      <td>MD</td>\n",
              "      <td>2</td>\n",
              "      <td>0.5794</td>\n",
              "      <td>11778.0</td>\n",
              "      <td>2018</td>\n",
              "      <td>0.02</td>\n",
              "    </tr>\n",
              "  </tbody>\n",
              "</table>\n",
              "</div>"
            ],
            "text/plain": [
              "      UNITID                                   INSTNM  ...  YEAR  PCT_CHANGE\n",
              "1610  163268  University of Maryland-Baltimore County  ...  2014        0.03\n",
              "1555  163268  University of Maryland-Baltimore County  ...  2015        0.06\n",
              "1510  163268  University of Maryland-Baltimore County  ...  2016        0.02\n",
              "1478  163268  University of Maryland-Baltimore County  ...  2017        0.02\n",
              "1415  163268  University of Maryland-Baltimore County  ...  2018        0.02\n",
              "\n",
              "[5 rows x 8 columns]"
            ]
          },
          "metadata": {
            "tags": []
          },
          "execution_count": 81
        }
      ]
    },
    {
      "cell_type": "markdown",
      "metadata": {
        "id": "0AXrO2sFJs2c"
      },
      "source": [
        "## Question 13"
      ]
    },
    {
      "cell_type": "code",
      "metadata": {
        "id": "f2mhYOjV6zMj",
        "outputId": "4b5c0ce4-ce1b-4462-ba20-946a7645f111",
        "colab": {
          "base_uri": "https://localhost:8080/",
          "height": 204
        }
      },
      "source": [
        "# <13>\n",
        "# the dataframe contains many years of data of all U.S. colleges.\n",
        "# let's just look at JHU\n",
        "# filter/query the dataframe to retrieve only rows that belong to JHU\n",
        "# save the JHU data to a new data frame. using a new variable \n",
        "# so that the old big data frame is still available for later use.\n",
        "\n",
        "#(Write code here)\n",
        "df_jh = df.loc[df['INSTNM'] == 'Johns Hopkins University']\n",
        "df_jh.sample(5)"
      ],
      "execution_count": 84,
      "outputs": [
        {
          "output_type": "execute_result",
          "data": {
            "text/html": [
              "<div>\n",
              "<style scoped>\n",
              "    .dataframe tbody tr th:only-of-type {\n",
              "        vertical-align: middle;\n",
              "    }\n",
              "\n",
              "    .dataframe tbody tr th {\n",
              "        vertical-align: top;\n",
              "    }\n",
              "\n",
              "    .dataframe thead th {\n",
              "        text-align: right;\n",
              "    }\n",
              "</style>\n",
              "<table border=\"1\" class=\"dataframe\">\n",
              "  <thead>\n",
              "    <tr style=\"text-align: right;\">\n",
              "      <th></th>\n",
              "      <th>UNITID</th>\n",
              "      <th>INSTNM</th>\n",
              "      <th>STABBR</th>\n",
              "      <th>REGION</th>\n",
              "      <th>ADM_RATE</th>\n",
              "      <th>TUITIONFEE_IN</th>\n",
              "      <th>YEAR</th>\n",
              "    </tr>\n",
              "  </thead>\n",
              "  <tbody>\n",
              "    <tr>\n",
              "      <th>1772</th>\n",
              "      <td>162928</td>\n",
              "      <td>Johns Hopkins University</td>\n",
              "      <td>MD</td>\n",
              "      <td>2</td>\n",
              "      <td>0.2571</td>\n",
              "      <td>35900.0</td>\n",
              "      <td>2007</td>\n",
              "    </tr>\n",
              "    <tr>\n",
              "      <th>1906</th>\n",
              "      <td>162928</td>\n",
              "      <td>Johns Hopkins University</td>\n",
              "      <td>MD</td>\n",
              "      <td>2</td>\n",
              "      <td>0.3431</td>\n",
              "      <td>26210.0</td>\n",
              "      <td>2001</td>\n",
              "    </tr>\n",
              "    <tr>\n",
              "      <th>1653</th>\n",
              "      <td>162928</td>\n",
              "      <td>Johns Hopkins University</td>\n",
              "      <td>MD</td>\n",
              "      <td>2</td>\n",
              "      <td>0.1843</td>\n",
              "      <td>43390.0</td>\n",
              "      <td>2012</td>\n",
              "    </tr>\n",
              "    <tr>\n",
              "      <th>1884</th>\n",
              "      <td>162928</td>\n",
              "      <td>Johns Hopkins University</td>\n",
              "      <td>MD</td>\n",
              "      <td>2</td>\n",
              "      <td>0.3506</td>\n",
              "      <td>27390.0</td>\n",
              "      <td>2002</td>\n",
              "    </tr>\n",
              "    <tr>\n",
              "      <th>2139</th>\n",
              "      <td>162928</td>\n",
              "      <td>Johns Hopkins University</td>\n",
              "      <td>MD</td>\n",
              "      <td>2</td>\n",
              "      <td>NaN</td>\n",
              "      <td>NaN</td>\n",
              "      <td>1996</td>\n",
              "    </tr>\n",
              "  </tbody>\n",
              "</table>\n",
              "</div>"
            ],
            "text/plain": [
              "      UNITID                    INSTNM STABBR  ...  ADM_RATE  TUITIONFEE_IN  YEAR\n",
              "1772  162928  Johns Hopkins University     MD  ...    0.2571        35900.0  2007\n",
              "1906  162928  Johns Hopkins University     MD  ...    0.3431        26210.0  2001\n",
              "1653  162928  Johns Hopkins University     MD  ...    0.1843        43390.0  2012\n",
              "1884  162928  Johns Hopkins University     MD  ...    0.3506        27390.0  2002\n",
              "2139  162928  Johns Hopkins University     MD  ...       NaN            NaN  1996\n",
              "\n",
              "[5 rows x 7 columns]"
            ]
          },
          "metadata": {
            "tags": []
          },
          "execution_count": 84
        }
      ]
    },
    {
      "cell_type": "markdown",
      "metadata": {
        "id": "7uaU3_H6KJuo"
      },
      "source": [
        "## Question 14"
      ]
    },
    {
      "cell_type": "code",
      "metadata": {
        "id": "wGXcNTJ46zMo",
        "outputId": "4520a4b4-53c5-4cfa-ee5a-cb178607a5e1",
        "colab": {
          "base_uri": "https://localhost:8080/",
          "height": 279
        }
      },
      "source": [
        "# <14> \n",
        "# Plot JHU's in-state tuition overtime from 1996 to 2019. \n",
        "# Let's plot bar and line chart together\n",
        "\n",
        "#(Write code here)\n",
        "df_jh = df_jh.sort_values('YEAR')\n",
        "ax = df_jh.plot.bar(x='YEAR', y='TUITIONFEE_IN',rot=0)\n"
      ],
      "execution_count": 85,
      "outputs": [
        {
          "output_type": "display_data",
          "data": {
            "image/png": "[encoded data removed]",
            "text/plain": [
              "<Figure size 432x288 with 1 Axes>"
            ]
          },
          "metadata": {
            "tags": [],
            "needs_background": "light"
          }
        }
      ]
    },
    {
      "cell_type": "code",
      "metadata": {
        "id": "K-eeedGuKTVV",
        "outputId": "317ab991-cd60-488b-a96e-0eb21f9b067c",
        "colab": {
          "base_uri": "https://localhost:8080/",
          "height": 282
        }
      },
      "source": [
        "ay = df_jh.plot.line(x='YEAR', y='TUITIONFEE_IN',rot=0)"
      ],
      "execution_count": 86,
      "outputs": [
        {
          "output_type": "display_data",
          "data": {
            "image/png": "[encoded data removed]",
            "text/plain": [
              "<Figure size 432x288 with 1 Axes>"
            ]
          },
          "metadata": {
            "tags": [],
            "needs_background": "light"
          }
        }
      ]
    },
    {
      "cell_type": "markdown",
      "metadata": {
        "id": "IQ3C_QQVKYwr"
      },
      "source": [
        "## Question 15"
      ]
    },
    {
      "cell_type": "code",
      "metadata": {
        "id": "RPXTrsZT6zMx"
      },
      "source": [
        "# <15>\n",
        "# Let's calculate the JHU tuition percentge growth using the function defined earlier\n",
        "\n",
        "#(Write code here)\n",
        "\n",
        "df_jh = per_change(df_jh)"
      ],
      "execution_count": 89,
      "outputs": []
    },
    {
      "cell_type": "code",
      "metadata": {
        "id": "kO4OYzPSKqkQ"
      },
      "source": [
        ""
      ],
      "execution_count": 91,
      "outputs": []
    },
    {
      "cell_type": "markdown",
      "metadata": {
        "id": "X7JChCs6KyNc"
      },
      "source": [
        "## Question 16"
      ]
    },
    {
      "cell_type": "code",
      "metadata": {
        "id": "7KM74FQH6zM4",
        "outputId": "abcfbb4b-c25f-4ddd-e87f-8110b4381efe",
        "colab": {
          "base_uri": "https://localhost:8080/",
          "height": 34
        }
      },
      "source": [
        "# <16>\n",
        "# Add the list of percentage changes to the dataframe as a new column (\"PCT_CHANGE\")\n",
        "\n",
        "#(Write code here)\n",
        "\n",
        "print('Already done in function!')"
      ],
      "execution_count": 90,
      "outputs": [
        {
          "output_type": "stream",
          "text": [
            "Already done in function!\n"
          ],
          "name": "stdout"
        }
      ]
    },
    {
      "cell_type": "markdown",
      "metadata": {
        "id": "AxpCPUgkLEXv"
      },
      "source": [
        "## Question 17"
      ]
    },
    {
      "cell_type": "code",
      "metadata": {
        "id": "vGi8YI_A6zM7",
        "outputId": "8b29e53d-7f9a-41b1-d58c-df1872a5c48e",
        "colab": {
          "base_uri": "https://localhost:8080/",
          "height": 279
        }
      },
      "source": [
        "# <17> Make a bar plot of the JHU percentage changes tuitions over time\n",
        "\n",
        "#(Write code here)\n",
        "ax = df_jh.plot.bar(x='YEAR', y='PCT_CHANGE',rot=0)\n"
      ],
      "execution_count": 91,
      "outputs": [
        {
          "output_type": "display_data",
          "data": {
            "image/png": "[encoded data removed]",
            "text/plain": [
              "<Figure size 432x288 with 1 Axes>"
            ]
          },
          "metadata": {
            "tags": [],
            "needs_background": "light"
          }
        }
      ]
    },
    {
      "cell_type": "code",
      "metadata": {
        "id": "AmnwUjlHLL_U",
        "outputId": "7f91d397-7d1c-4bd7-85fa-6a0d5ec54029",
        "colab": {
          "base_uri": "https://localhost:8080/",
          "height": 279
        }
      },
      "source": [
        "ay = df_jh.plot.line(x='YEAR', y='PCT_CHANGE',rot=0)"
      ],
      "execution_count": 92,
      "outputs": [
        {
          "output_type": "display_data",
          "data": {
            "image/png": "[encoded data removed]",
            "text/plain": [
              "<Figure size 432x288 with 1 Axes>"
            ]
          },
          "metadata": {
            "tags": [],
            "needs_background": "light"
          }
        }
      ]
    },
    {
      "cell_type": "markdown",
      "metadata": {
        "id": "_MLLgFLbLTKz"
      },
      "source": [
        "## Question 18"
      ]
    },
    {
      "cell_type": "code",
      "metadata": {
        "id": "bGYYULq16zNA",
        "outputId": "7ec655b6-a6b7-4532-b4ec-af275b2607c6",
        "colab": {
          "base_uri": "https://localhost:8080/",
          "height": 204
        }
      },
      "source": [
        "# <18>\n",
        "# In order to plot both UMBC and JHU tuition change over time in the same plot,\n",
        "# we need to combine the two datasets using the common key of YEAR \n",
        "# First make a umbc2 dataframe with only two columns needed. WE don't need other columns.\n",
        "# Also change the column name from \"PCT_CHANGE\" to \"UMBC_PCT\" in preparation for the merge.\n",
        "# This is because both umbc and jhu dataframe have the same column name \"PCT_CHANGE\",\n",
        "# We rename them to there is no collision during the merge. BTW, Pandas handles collision gracefully,\n",
        "# Feel free to try it without changing the column names.\n",
        "\n",
        "#(Write code here)\n",
        "\n",
        "umbc2 = df_bc[['YEAR','PCT_CHANGE']]\n",
        "umbc2 = umbc2.rename(columns={'PCT_CHANGE':'UMBC_PCT'})\n",
        "umbc2.head()"
      ],
      "execution_count": 97,
      "outputs": [
        {
          "output_type": "execute_result",
          "data": {
            "text/html": [
              "<div>\n",
              "<style scoped>\n",
              "    .dataframe tbody tr th:only-of-type {\n",
              "        vertical-align: middle;\n",
              "    }\n",
              "\n",
              "    .dataframe tbody tr th {\n",
              "        vertical-align: top;\n",
              "    }\n",
              "\n",
              "    .dataframe thead th {\n",
              "        text-align: right;\n",
              "    }\n",
              "</style>\n",
              "<table border=\"1\" class=\"dataframe\">\n",
              "  <thead>\n",
              "    <tr style=\"text-align: right;\">\n",
              "      <th></th>\n",
              "      <th>YEAR</th>\n",
              "      <th>UMBC_PCT</th>\n",
              "    </tr>\n",
              "  </thead>\n",
              "  <tbody>\n",
              "    <tr>\n",
              "      <th>2151</th>\n",
              "      <td>1996</td>\n",
              "      <td>0.0</td>\n",
              "    </tr>\n",
              "    <tr>\n",
              "      <th>2049</th>\n",
              "      <td>1997</td>\n",
              "      <td>0.0</td>\n",
              "    </tr>\n",
              "    <tr>\n",
              "      <th>1982</th>\n",
              "      <td>1998</td>\n",
              "      <td>0.0</td>\n",
              "    </tr>\n",
              "    <tr>\n",
              "      <th>1955</th>\n",
              "      <td>1999</td>\n",
              "      <td>0.0</td>\n",
              "    </tr>\n",
              "    <tr>\n",
              "      <th>1926</th>\n",
              "      <td>2000</td>\n",
              "      <td>0.0</td>\n",
              "    </tr>\n",
              "  </tbody>\n",
              "</table>\n",
              "</div>"
            ],
            "text/plain": [
              "      YEAR  UMBC_PCT\n",
              "2151  1996       0.0\n",
              "2049  1997       0.0\n",
              "1982  1998       0.0\n",
              "1955  1999       0.0\n",
              "1926  2000       0.0"
            ]
          },
          "metadata": {
            "tags": []
          },
          "execution_count": 97
        }
      ]
    },
    {
      "cell_type": "code",
      "metadata": {
        "id": "DX95nFyG6zNF",
        "outputId": "4c39c64f-8a89-4fbb-ef75-46d875400b1d",
        "colab": {
          "base_uri": "https://localhost:8080/",
          "height": 204
        }
      },
      "source": [
        "# Then make a jhu2 dataframe with only two columns needed. WE don't need other columns.\n",
        "# Also change the column name from \"PCT_CHANGE\" to \"JHU_PCT\"  in preparation for the merge\n",
        "\n",
        "#(Write code here)\n",
        "jhu2 = df_jh[['YEAR','PCT_CHANGE']]\n",
        "jhu2 = jhu2.rename(columns={'PCT_CHANGE':'JHU_PCT'})\n",
        "jhu2.head()\n"
      ],
      "execution_count": 99,
      "outputs": [
        {
          "output_type": "execute_result",
          "data": {
            "text/html": [
              "<div>\n",
              "<style scoped>\n",
              "    .dataframe tbody tr th:only-of-type {\n",
              "        vertical-align: middle;\n",
              "    }\n",
              "\n",
              "    .dataframe tbody tr th {\n",
              "        vertical-align: top;\n",
              "    }\n",
              "\n",
              "    .dataframe thead th {\n",
              "        text-align: right;\n",
              "    }\n",
              "</style>\n",
              "<table border=\"1\" class=\"dataframe\">\n",
              "  <thead>\n",
              "    <tr style=\"text-align: right;\">\n",
              "      <th></th>\n",
              "      <th>YEAR</th>\n",
              "      <th>JHU_PCT</th>\n",
              "    </tr>\n",
              "  </thead>\n",
              "  <tbody>\n",
              "    <tr>\n",
              "      <th>2139</th>\n",
              "      <td>1996</td>\n",
              "      <td>0.0</td>\n",
              "    </tr>\n",
              "    <tr>\n",
              "      <th>2039</th>\n",
              "      <td>1997</td>\n",
              "      <td>0.0</td>\n",
              "    </tr>\n",
              "    <tr>\n",
              "      <th>1973</th>\n",
              "      <td>1998</td>\n",
              "      <td>0.0</td>\n",
              "    </tr>\n",
              "    <tr>\n",
              "      <th>1946</th>\n",
              "      <td>1999</td>\n",
              "      <td>0.0</td>\n",
              "    </tr>\n",
              "    <tr>\n",
              "      <th>1917</th>\n",
              "      <td>2000</td>\n",
              "      <td>0.0</td>\n",
              "    </tr>\n",
              "  </tbody>\n",
              "</table>\n",
              "</div>"
            ],
            "text/plain": [
              "      YEAR  JHU_PCT\n",
              "2139  1996      0.0\n",
              "2039  1997      0.0\n",
              "1973  1998      0.0\n",
              "1946  1999      0.0\n",
              "1917  2000      0.0"
            ]
          },
          "metadata": {
            "tags": []
          },
          "execution_count": 99
        }
      ]
    },
    {
      "cell_type": "code",
      "metadata": {
        "id": "LJ_6wKKU6zNL",
        "outputId": "ffb23e6c-9f26-4b96-981e-64b0381c471c",
        "colab": {
          "base_uri": "https://localhost:8080/",
          "height": 204
        }
      },
      "source": [
        "# Now, merger the two data frames\n",
        "# and display the new dataframe\n",
        "\n",
        "#(Write code here)\n",
        "df_combine = pd.merge(umbc2, jhu2, on = 'YEAR')\n",
        "df_combine.sample(5)"
      ],
      "execution_count": 102,
      "outputs": [
        {
          "output_type": "execute_result",
          "data": {
            "text/html": [
              "<div>\n",
              "<style scoped>\n",
              "    .dataframe tbody tr th:only-of-type {\n",
              "        vertical-align: middle;\n",
              "    }\n",
              "\n",
              "    .dataframe tbody tr th {\n",
              "        vertical-align: top;\n",
              "    }\n",
              "\n",
              "    .dataframe thead th {\n",
              "        text-align: right;\n",
              "    }\n",
              "</style>\n",
              "<table border=\"1\" class=\"dataframe\">\n",
              "  <thead>\n",
              "    <tr style=\"text-align: right;\">\n",
              "      <th></th>\n",
              "      <th>YEAR</th>\n",
              "      <th>UMBC_PCT</th>\n",
              "      <th>JHU_PCT</th>\n",
              "    </tr>\n",
              "  </thead>\n",
              "  <tbody>\n",
              "    <tr>\n",
              "      <th>13</th>\n",
              "      <td>2009</td>\n",
              "      <td>0.01</td>\n",
              "      <td>0.04</td>\n",
              "    </tr>\n",
              "    <tr>\n",
              "      <th>1</th>\n",
              "      <td>1997</td>\n",
              "      <td>0.00</td>\n",
              "      <td>0.00</td>\n",
              "    </tr>\n",
              "    <tr>\n",
              "      <th>10</th>\n",
              "      <td>2006</td>\n",
              "      <td>0.01</td>\n",
              "      <td>0.07</td>\n",
              "    </tr>\n",
              "    <tr>\n",
              "      <th>18</th>\n",
              "      <td>2014</td>\n",
              "      <td>0.03</td>\n",
              "      <td>0.03</td>\n",
              "    </tr>\n",
              "    <tr>\n",
              "      <th>17</th>\n",
              "      <td>2013</td>\n",
              "      <td>0.03</td>\n",
              "      <td>0.05</td>\n",
              "    </tr>\n",
              "  </tbody>\n",
              "</table>\n",
              "</div>"
            ],
            "text/plain": [
              "    YEAR  UMBC_PCT  JHU_PCT\n",
              "13  2009      0.01     0.04\n",
              "1   1997      0.00     0.00\n",
              "10  2006      0.01     0.07\n",
              "18  2014      0.03     0.03\n",
              "17  2013      0.03     0.05"
            ]
          },
          "metadata": {
            "tags": []
          },
          "execution_count": 102
        }
      ]
    },
    {
      "cell_type": "code",
      "metadata": {
        "id": "Ng3bbP076zNW",
        "outputId": "474567ec-e396-4ada-a0d4-4556fd75f0e0",
        "colab": {
          "base_uri": "https://localhost:8080/",
          "height": 541
        }
      },
      "source": [
        "# Plot UMBC and JHU separately on the same plot \n",
        "# However, this does not work since the bars overlap.\n",
        "\n",
        "#(Write code here)\n",
        "\n",
        "ax_umbc = df_combine.plot.bar(x='YEAR', y='UMBC_PCT',rot=0)\n",
        "ax_jhu = df_combine.plot.bar(x='YEAR', y='JHU_PCT', rot = 0)"
      ],
      "execution_count": 104,
      "outputs": [
        {
          "output_type": "display_data",
          "data": {
            "image/png": "[encoded data removed]",
            "text/plain": [
              "<Figure size 432x288 with 1 Axes>"
            ]
          },
          "metadata": {
            "tags": [],
            "needs_background": "light"
          }
        },
        {
          "output_type": "display_data",
          "data": {
            "image/png": "[encoded data removed]",
            "text/plain": [
              "<Figure size 432x288 with 1 Axes>"
            ]
          },
          "metadata": {
            "tags": [],
            "needs_background": "light"
          }
        }
      ]
    },
    {
      "cell_type": "code",
      "metadata": {
        "id": "gqeDG8Xf6zNg",
        "outputId": "e983e0d8-f17b-4a39-93c5-dab26fa46d06",
        "colab": {
          "base_uri": "https://localhost:8080/",
          "height": 296
        }
      },
      "source": [
        "# Plot them together using y=[\"UMBC_PCT\",\"JHU_PCT\"] option of bar plot\n",
        "\n",
        "#(Write code here)\n",
        "\n",
        "df_combine.plot.bar(x='YEAR', y=['UMBC_PCT','JHU_PCT'],rot=0)"
      ],
      "execution_count": 105,
      "outputs": [
        {
          "output_type": "execute_result",
          "data": {
            "text/plain": [
              "<matplotlib.axes._subplots.AxesSubplot at 0x7f8d09161ba8>"
            ]
          },
          "metadata": {
            "tags": []
          },
          "execution_count": 105
        },
        {
          "output_type": "display_data",
          "data": {
            "image/png": "[encoded data removed]",
            "text/plain": [
              "<Figure size 432x288 with 1 Axes>"
            ]
          },
          "metadata": {
            "tags": [],
            "needs_background": "light"
          }
        }
      ]
    },
    {
      "cell_type": "code",
      "metadata": {
        "id": "uGgmDKrF6zNq",
        "outputId": "03c0318b-f5eb-4f09-c120-4c4df38a40c7",
        "colab": {
          "base_uri": "https://localhost:8080/",
          "height": 296
        }
      },
      "source": [
        "# Plot them together using y=[\"UMBC_PCT\",\"JHU_PCT\"] option of line plot\n",
        "\n",
        "#(Write code here)\n",
        "df_combine.plot.line(x='YEAR', y=['UMBC_PCT','JHU_PCT'],rot=0)\n"
      ],
      "execution_count": 106,
      "outputs": [
        {
          "output_type": "execute_result",
          "data": {
            "text/plain": [
              "<matplotlib.axes._subplots.AxesSubplot at 0x7f8d08fbbac8>"
            ]
          },
          "metadata": {
            "tags": []
          },
          "execution_count": 106
        },
        {
          "output_type": "display_data",
          "data": {
            "image/png": "[encoded data removed]",
            "text/plain": [
              "<Figure size 432x288 with 1 Axes>"
            ]
          },
          "metadata": {
            "tags": [],
            "needs_background": "light"
          }
        }
      ]
    },
    {
      "cell_type": "markdown",
      "metadata": {
        "id": "vFmWae-iPMGp"
      },
      "source": [
        "## Question 19"
      ]
    },
    {
      "cell_type": "code",
      "metadata": {
        "id": "6YNmMkgW6zNv"
      },
      "source": [
        "# <19> \n",
        "# document your observation/conclusion of the comparison plots (bar/line)\n",
        "# use the following Markdown cell"
      ],
      "execution_count": 107,
      "outputs": []
    },
    {
      "cell_type": "markdown",
      "metadata": {
        "id": "tzeP_v8E6zNz"
      },
      "source": [
        "Based on my obsercation of the plots, both UMBC and Johns Hopkins have slowly decreased their in-state tuition and then steadied out. The average tuition in the past few years, has stayed approximately the same and there has not been a lot of change."
      ]
    },
    {
      "cell_type": "code",
      "metadata": {
        "id": "njPmmLLA6zN0"
      },
      "source": [
        "# The end."
      ],
      "execution_count": null,
      "outputs": []
    }
  ]
}