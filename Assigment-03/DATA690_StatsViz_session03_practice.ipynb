{
  "nbformat": 4,
  "nbformat_minor": 0,
  "metadata": {
    "colab": {
      "name": "DATA690-StatsViz-session03_practice.ipynb",
      "provenance": [],
      "collapsed_sections": []
    },
    "kernelspec": {
      "name": "python3",
      "display_name": "Python 3"
    }
  },
  "cells": [
    {
      "cell_type": "markdown",
      "metadata": {
        "id": "yyEy7nfOcjKZ",
        "colab_type": "text"
      },
      "source": [
        "# Session03 - Practice\n",
        "Student: Alyssa Hayo"
      ]
    },
    {
      "cell_type": "code",
      "metadata": {
        "id": "Qu3PYFYRcfS5",
        "colab_type": "code",
        "colab": {}
      },
      "source": [
        "people_s = \"Wang, Chaojie; Seelam, Arjun Reddy; Rius, Jonathan; Liang, Jinqing; Chowdhury, Debanjan; Maszkiewicz, Lori; Negussie, Neftalem; Steinruck, Michaella; Phogat, Shreshta; Fatima, Misha; Hirabayashi, Scott; Soroush, Masoud; Bolz, Jessica; Mbu Nyamsi, Tchuissi; Dokuzoglu, Yuksel; Gogineni, Shailesh; Pabbisetty, Sai Vinay; Preis, Liam; Jyesta, Vishnu Priya; Narne, Yoshita; Boban, Shruthi; Oberoi, Ashreen Kaur; Cohens, Nashika; Noppinger, Ken; Kakani, Goutham; Hayo, Alyssa\""
      ],
      "execution_count": 1,
      "outputs": []
    },
    {
      "cell_type": "code",
      "metadata": {
        "id": "_A-VpeMFcznZ",
        "colab_type": "code",
        "colab": {
          "base_uri": "https://localhost:8080/",
          "height": 459
        },
        "outputId": "6878378c-6f7e-4574-83dd-85b2476e3d11"
      },
      "source": [
        "people_l = people_s.split(\";\")\n",
        "people_l"
      ],
      "execution_count": 2,
      "outputs": [
        {
          "output_type": "execute_result",
          "data": {
            "text/plain": [
              "['Wang, Chaojie',\n",
              " ' Seelam, Arjun Reddy',\n",
              " ' Rius, Jonathan',\n",
              " ' Liang, Jinqing',\n",
              " ' Chowdhury, Debanjan',\n",
              " ' Maszkiewicz, Lori',\n",
              " ' Negussie, Neftalem',\n",
              " ' Steinruck, Michaella',\n",
              " ' Phogat, Shreshta',\n",
              " ' Fatima, Misha',\n",
              " ' Hirabayashi, Scott',\n",
              " ' Soroush, Masoud',\n",
              " ' Bolz, Jessica',\n",
              " ' Mbu Nyamsi, Tchuissi',\n",
              " ' Dokuzoglu, Yuksel',\n",
              " ' Gogineni, Shailesh',\n",
              " ' Pabbisetty, Sai Vinay',\n",
              " ' Preis, Liam',\n",
              " ' Jyesta, Vishnu Priya',\n",
              " ' Narne, Yoshita',\n",
              " ' Boban, Shruthi',\n",
              " ' Oberoi, Ashreen Kaur',\n",
              " ' Cohens, Nashika',\n",
              " ' Noppinger, Ken',\n",
              " ' Kakani, Goutham',\n",
              " ' Hayo, Alyssa']"
            ]
          },
          "metadata": {
            "tags": []
          },
          "execution_count": 2
        }
      ]
    },
    {
      "cell_type": "code",
      "metadata": {
        "id": "NHYP93ZYc-ZC",
        "colab_type": "code",
        "colab": {}
      },
      "source": [
        "first_name_l = []\n",
        "for name in people_l:\n",
        "  split_name = name.split(\",\")\n",
        "  first_name_l.append(split_name[1])\n"
      ],
      "execution_count": 4,
      "outputs": []
    },
    {
      "cell_type": "code",
      "metadata": {
        "id": "hVPxeqGDdgvl",
        "colab_type": "code",
        "colab": {
          "base_uri": "https://localhost:8080/",
          "height": 459
        },
        "outputId": "bf6b9a74-6646-48b5-ca6e-50c8292be070"
      },
      "source": [
        "first_name_l"
      ],
      "execution_count": 5,
      "outputs": [
        {
          "output_type": "execute_result",
          "data": {
            "text/plain": [
              "[' Chaojie',\n",
              " ' Arjun Reddy',\n",
              " ' Jonathan',\n",
              " ' Jinqing',\n",
              " ' Debanjan',\n",
              " ' Lori',\n",
              " ' Neftalem',\n",
              " ' Michaella',\n",
              " ' Shreshta',\n",
              " ' Misha',\n",
              " ' Scott',\n",
              " ' Masoud',\n",
              " ' Jessica',\n",
              " ' Tchuissi',\n",
              " ' Yuksel',\n",
              " ' Shailesh',\n",
              " ' Sai Vinay',\n",
              " ' Liam',\n",
              " ' Vishnu Priya',\n",
              " ' Yoshita',\n",
              " ' Shruthi',\n",
              " ' Ashreen Kaur',\n",
              " ' Nashika',\n",
              " ' Ken',\n",
              " ' Goutham',\n",
              " ' Alyssa']"
            ]
          },
          "metadata": {
            "tags": []
          },
          "execution_count": 5
        }
      ]
    },
    {
      "cell_type": "code",
      "metadata": {
        "id": "o-mgZnRRdkKW",
        "colab_type": "code",
        "colab": {
          "base_uri": "https://localhost:8080/",
          "height": 34
        },
        "outputId": "31017078-6ae0-4274-c8dc-1be0ab2455cc"
      },
      "source": [
        "len(people_l)"
      ],
      "execution_count": 6,
      "outputs": [
        {
          "output_type": "execute_result",
          "data": {
            "text/plain": [
              "26"
            ]
          },
          "metadata": {
            "tags": []
          },
          "execution_count": 6
        }
      ]
    },
    {
      "cell_type": "code",
      "metadata": {
        "id": "--Iqj5gvdmuH",
        "colab_type": "code",
        "colab": {}
      },
      "source": [
        ""
      ],
      "execution_count": null,
      "outputs": []
    }
  ]
}